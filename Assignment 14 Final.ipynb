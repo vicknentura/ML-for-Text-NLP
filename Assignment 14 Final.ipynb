{
 "cells": [
  {
   "cell_type": "markdown",
   "metadata": {},
   "source": [
    "Hello Nicholas!\n",
    "\n",
    "I’m happy to review your project today.\n",
    "I will mark your mistakes and give you some hints how it is possible to fix them. We are getting ready for real job, where your team leader/senior colleague will do exactly the same. Don't worry and study with pleasure!\n",
    "\n",
    "Below you will find my comments - **please do not move, modify or delete them**.\n",
    "\n",
    "You can find my comments in green, yellow or red boxes like this:\n",
    "\n",
    "<div class=\"alert alert-block alert-success\">\n",
    "<b>Reviewer's comment</b> <a class=\"tocSkip\"></a>\n",
    "\n",
    "Success. Everything is done succesfully.\n",
    "</div>\n",
    "\n",
    "<div class=\"alert alert-block alert-warning\">\n",
    "<b>Reviewer's comment</b> <a class=\"tocSkip\"></a>\n",
    "\n",
    "Remarks. Some recommendations.\n",
    "</div>\n",
    "\n",
    "<div class=\"alert alert-block alert-danger\">\n",
    "\n",
    "<b>Reviewer's comment</b> <a class=\"tocSkip\"></a>\n",
    "\n",
    "Needs fixing. The block requires some corrections. Work can't be accepted with the red comments.\n",
    "</div>\n",
    "\n",
    "You can answer me by using this:\n",
    "\n",
    "<div class=\"alert alert-block alert-info\">\n",
    "<b>Student answer.</b> <a class=\"tocSkip\"></a>\n",
    "\n",
    "Text here.\n",
    "</div>"
   ]
  },
  {
   "cell_type": "markdown",
   "metadata": {
    "id": "JOwLRR7FNYKk"
   },
   "source": [
    "# **🎥 Film Junky Union 🎥**\n",
    "\n",
    "## **Project Description**\n",
    "The Film Junky Union, a new edgy community for classic movie enthusiasts, is developing a system for filtering and categorizing movie reviews. The goal is to train a model to automatically detect negative reviews. You'll be using a dataset of IMBD movie reviews with polarity labelling to build a model for classifying positive and negative reviews. It will need to reach an F1 score of at least 0.85.\n",
    "\n",
    "### **Project Instructions**\n",
    "  1. Load the data\n",
    "  2. Pre-process the data\n",
    "  3. Conduct an EDA and make your conclusion on the class imbalance\n",
    "  4. Pre-process the data for modeling\n",
    "  5. Train at least three different models for the given train dataset\n",
    "  6. Test the models for the given test dataset\n",
    "  7. Compose a few of your own reviews and classify them with all the models\n",
    "  8. Check for differences between the testing results of models in the above two points. Try to explain them.\n",
    "  9. Present your findings"
   ]
  },
  {
   "cell_type": "markdown",
   "metadata": {
    "id": "8F0OCHzdPABS"
   },
   "source": [
    "# **Initialization**"
   ]
  },
  {
   "cell_type": "code",
   "execution_count": 1,
   "metadata": {
    "id": "cEU3HggpPWSE"
   },
   "outputs": [],
   "source": [
    "import math\n",
    "\n",
    "import numpy as np\n",
    "import pandas as pd\n",
    "\n",
    "import matplotlib\n",
    "import matplotlib.pyplot as plt\n",
    "import matplotlib.dates as mdates\n",
    "import seaborn as sns\n",
    "\n",
    "from tqdm.auto import tqdm\n",
    "\n",
    "import sklearn.metrics as metrics\n",
    "from sklearn.preprocessing import LabelEncoder, OrdinalEncoder\n",
    "\n",
    "import re\n",
    "\n",
    "from sklearn.dummy import DummyClassifier\n",
    "\n",
    "import spacy\n",
    "from sklearn.feature_extraction.text import TfidfVectorizer\n",
    "from sklearn.linear_model import LogisticRegression\n",
    "\n",
    "import nltk\n",
    "from nltk.corpus import stopwords\n",
    "from nltk.stem import WordNetLemmatizer\n",
    "\n",
    "import torch\n",
    "import transformers\n",
    "\n",
    "from lightgbm import LGBMClassifier\n",
    "\n",
    "from tqdm import tqdm\n",
    "\n",
    "import string"
   ]
  },
  {
   "cell_type": "code",
   "execution_count": 2,
   "metadata": {
    "colab": {
     "base_uri": "https://localhost:8080/"
    },
    "id": "ZQr3NqOTPhCN",
    "outputId": "44cfa779-b730-45c4-e766-c7cddb7b8554"
   },
   "outputs": [
    {
     "name": "stderr",
     "output_type": "stream",
     "text": [
      "UsageError: unrecognized arguments: # This is a magic command that tells Jupyter to display Matplotlib plots inline within the notebook, directly below the code cells that produce them. This means that when you create a plot, it will appear in the notebook instead of in a separate window.\n"
     ]
    }
   ],
   "source": [
    "%matplotlib inline # This is a magic command that tells Jupyter to display Matplotlib plots inline within the notebook, directly below the code cells that produce them. This means that when you create a plot, it will appear in the notebook instead of in a separate window.\n",
    "\n",
    "%config InlineBackend.figure_format = 'png' # This line configures the inline backend to render figures in PNG format. PNG is a raster graphics format that is widely supported and provides a good balance of quality and file size for most plots.\n",
    "\n",
    "%config InlinBackend.figure_format = 'retina' #\n",
    "\n",
    "plt.style.use('seaborn')"
   ]
  },
  {
   "cell_type": "code",
   "execution_count": 3,
   "metadata": {
    "id": "uiajPfCTPuOw"
   },
   "outputs": [],
   "source": [
    "tqdm.pandas()"
   ]
  },
  {
   "cell_type": "markdown",
   "metadata": {
    "id": "gUvJk2tjPDbx"
   },
   "source": [
    "# **Load Data**"
   ]
  },
  {
   "cell_type": "code",
   "execution_count": 4,
   "metadata": {
    "id": "Y3COy_9sPWtv"
   },
   "outputs": [],
   "source": [
    "df_reviews = pd.read_csv('https://practicum-content.s3.us-west-1.amazonaws.com/datasets/imdb_reviews.tsv', sep='\\t', dtype={'votes': 'Int64'})"
   ]
  },
  {
   "cell_type": "code",
   "execution_count": 5,
   "metadata": {
    "colab": {
     "base_uri": "https://localhost:8080/",
     "height": 1000
    },
    "id": "86nnxiV5P0kl",
    "outputId": "703305b8-7bb7-417d-ce32-b6129f7f4ffe"
   },
   "outputs": [
    {
     "name": "stdout",
     "output_type": "stream",
     "text": [
      "      tconst title_type                                      primary_title  \\\n",
      "0  tt0068152      movie                                                  $   \n",
      "1  tt0068152      movie                                                  $   \n",
      "2  tt0313150      short                                               '15'   \n",
      "3  tt0313150      short                                               '15'   \n",
      "4  tt0313150      short                                               '15'   \n",
      "5  tt0313150      short                                               '15'   \n",
      "6  tt0313150      short                                               '15'   \n",
      "7  tt0035958      movie  'Gung Ho!': The Story of Carlson's Makin Islan...   \n",
      "8  tt0035958      movie  'Gung Ho!': The Story of Carlson's Makin Islan...   \n",
      "9  tt0035958      movie  'Gung Ho!': The Story of Carlson's Makin Islan...   \n",
      "\n",
      "                                      original_title  start_year end_year  \\\n",
      "0                                                  $        1971       \\N   \n",
      "1                                                  $        1971       \\N   \n",
      "2                                               '15'        2002       \\N   \n",
      "3                                               '15'        2002       \\N   \n",
      "4                                               '15'        2002       \\N   \n",
      "5                                               '15'        2002       \\N   \n",
      "6                                               '15'        2002       \\N   \n",
      "7  'Gung Ho!': The Story of Carlson's Makin Islan...        1943       \\N   \n",
      "8  'Gung Ho!': The Story of Carlson's Makin Islan...        1943       \\N   \n",
      "9  'Gung Ho!': The Story of Carlson's Makin Islan...        1943       \\N   \n",
      "\n",
      "  runtime_minutes  is_adult              genres  average_rating  votes  \\\n",
      "0             121         0  Comedy,Crime,Drama             6.3   2218   \n",
      "1             121         0  Comedy,Crime,Drama             6.3   2218   \n",
      "2              25         0  Comedy,Drama,Short             6.3    184   \n",
      "3              25         0  Comedy,Drama,Short             6.3    184   \n",
      "4              25         0  Comedy,Drama,Short             6.3    184   \n",
      "5              25         0  Comedy,Drama,Short             6.3    184   \n",
      "6              25         0  Comedy,Drama,Short             6.3    184   \n",
      "7              88         0   Drama,History,War             6.1   1240   \n",
      "8              88         0   Drama,History,War             6.1   1240   \n",
      "9              88         0   Drama,History,War             6.1   1240   \n",
      "\n",
      "                                              review  rating   sp  pos  \\\n",
      "0  The pakage implies that Warren Beatty and Gold...       1  neg    0   \n",
      "1  How the hell did they get this made?! Presenti...       1  neg    0   \n",
      "2  There is no real story the film seems more lik...       3  neg    0   \n",
      "3  Um .... a serious film about troubled teens in...       7  pos    1   \n",
      "4  I'm totally agree with GarryJohal from Singapo...       9  pos    1   \n",
      "5  This is the first movie I've seen from Singapo...       9  pos    1   \n",
      "6  Yes non-Singaporean's can't see what's the big...       9  pos    1   \n",
      "7  This true story of Carlson's Raiders is more o...       2  neg    0   \n",
      "8  Should have been titled 'Balderdash!' Little i...       2  neg    0   \n",
      "9  The movie 'Gung Ho!': The Story of Carlson's M...       4  neg    0   \n",
      "\n",
      "  ds_part   idx  \n",
      "0   train  8335  \n",
      "1   train  8336  \n",
      "2    test  2489  \n",
      "3    test  9280  \n",
      "4    test  9281  \n",
      "5    test  9282  \n",
      "6    test  9283  \n",
      "7   train  9903  \n",
      "8   train  9905  \n",
      "9   train  9904  \n",
      "<class 'pandas.core.frame.DataFrame'>\n",
      "RangeIndex: 47331 entries, 0 to 47330\n",
      "Data columns (total 17 columns):\n",
      " #   Column           Non-Null Count  Dtype  \n",
      "---  ------           --------------  -----  \n",
      " 0   tconst           47331 non-null  object \n",
      " 1   title_type       47331 non-null  object \n",
      " 2   primary_title    47331 non-null  object \n",
      " 3   original_title   47331 non-null  object \n",
      " 4   start_year       47331 non-null  int64  \n",
      " 5   end_year         47331 non-null  object \n",
      " 6   runtime_minutes  47331 non-null  object \n",
      " 7   is_adult         47331 non-null  int64  \n",
      " 8   genres           47331 non-null  object \n",
      " 9   average_rating   47329 non-null  float64\n",
      " 10  votes            47329 non-null  Int64  \n",
      " 11  review           47331 non-null  object \n",
      " 12  rating           47331 non-null  int64  \n",
      " 13  sp               47331 non-null  object \n",
      " 14  pos              47331 non-null  int64  \n",
      " 15  ds_part          47331 non-null  object \n",
      " 16  idx              47331 non-null  int64  \n",
      "dtypes: Int64(1), float64(1), int64(5), object(10)\n",
      "memory usage: 6.2+ MB\n",
      "None\n"
     ]
    },
    {
     "data": {
      "text/html": [
       "<div>\n",
       "<style scoped>\n",
       "    .dataframe tbody tr th:only-of-type {\n",
       "        vertical-align: middle;\n",
       "    }\n",
       "\n",
       "    .dataframe tbody tr th {\n",
       "        vertical-align: top;\n",
       "    }\n",
       "\n",
       "    .dataframe thead th {\n",
       "        text-align: right;\n",
       "    }\n",
       "</style>\n",
       "<table border=\"1\" class=\"dataframe\">\n",
       "  <thead>\n",
       "    <tr style=\"text-align: right;\">\n",
       "      <th></th>\n",
       "      <th>start_year</th>\n",
       "      <th>is_adult</th>\n",
       "      <th>average_rating</th>\n",
       "      <th>votes</th>\n",
       "      <th>rating</th>\n",
       "      <th>pos</th>\n",
       "      <th>idx</th>\n",
       "    </tr>\n",
       "  </thead>\n",
       "  <tbody>\n",
       "    <tr>\n",
       "      <th>count</th>\n",
       "      <td>47331.000000</td>\n",
       "      <td>47331.000000</td>\n",
       "      <td>47329.000000</td>\n",
       "      <td>4.732900e+04</td>\n",
       "      <td>47331.000000</td>\n",
       "      <td>47331.000000</td>\n",
       "      <td>47331.000000</td>\n",
       "    </tr>\n",
       "    <tr>\n",
       "      <th>mean</th>\n",
       "      <td>1989.631235</td>\n",
       "      <td>0.001732</td>\n",
       "      <td>5.998278</td>\n",
       "      <td>2.556292e+04</td>\n",
       "      <td>5.484608</td>\n",
       "      <td>0.498954</td>\n",
       "      <td>6279.697999</td>\n",
       "    </tr>\n",
       "    <tr>\n",
       "      <th>std</th>\n",
       "      <td>19.600364</td>\n",
       "      <td>0.041587</td>\n",
       "      <td>1.494289</td>\n",
       "      <td>8.367004e+04</td>\n",
       "      <td>3.473109</td>\n",
       "      <td>0.500004</td>\n",
       "      <td>3605.702545</td>\n",
       "    </tr>\n",
       "    <tr>\n",
       "      <th>min</th>\n",
       "      <td>1894.000000</td>\n",
       "      <td>0.000000</td>\n",
       "      <td>1.400000</td>\n",
       "      <td>9.000000e+00</td>\n",
       "      <td>1.000000</td>\n",
       "      <td>0.000000</td>\n",
       "      <td>0.000000</td>\n",
       "    </tr>\n",
       "    <tr>\n",
       "      <th>25%</th>\n",
       "      <td>1982.000000</td>\n",
       "      <td>0.000000</td>\n",
       "      <td>5.100000</td>\n",
       "      <td>8.270000e+02</td>\n",
       "      <td>2.000000</td>\n",
       "      <td>0.000000</td>\n",
       "      <td>3162.000000</td>\n",
       "    </tr>\n",
       "    <tr>\n",
       "      <th>50%</th>\n",
       "      <td>1998.000000</td>\n",
       "      <td>0.000000</td>\n",
       "      <td>6.300000</td>\n",
       "      <td>3.197000e+03</td>\n",
       "      <td>4.000000</td>\n",
       "      <td>0.000000</td>\n",
       "      <td>6299.000000</td>\n",
       "    </tr>\n",
       "    <tr>\n",
       "      <th>75%</th>\n",
       "      <td>2004.000000</td>\n",
       "      <td>0.000000</td>\n",
       "      <td>7.100000</td>\n",
       "      <td>1.397400e+04</td>\n",
       "      <td>9.000000</td>\n",
       "      <td>1.000000</td>\n",
       "      <td>9412.000000</td>\n",
       "    </tr>\n",
       "    <tr>\n",
       "      <th>max</th>\n",
       "      <td>2010.000000</td>\n",
       "      <td>1.000000</td>\n",
       "      <td>9.700000</td>\n",
       "      <td>1.739448e+06</td>\n",
       "      <td>10.000000</td>\n",
       "      <td>1.000000</td>\n",
       "      <td>12499.000000</td>\n",
       "    </tr>\n",
       "  </tbody>\n",
       "</table>\n",
       "</div>"
      ],
      "text/plain": [
       "         start_year      is_adult  average_rating         votes        rating  \\\n",
       "count  47331.000000  47331.000000    47329.000000  4.732900e+04  47331.000000   \n",
       "mean    1989.631235      0.001732        5.998278  2.556292e+04      5.484608   \n",
       "std       19.600364      0.041587        1.494289  8.367004e+04      3.473109   \n",
       "min     1894.000000      0.000000        1.400000  9.000000e+00      1.000000   \n",
       "25%     1982.000000      0.000000        5.100000  8.270000e+02      2.000000   \n",
       "50%     1998.000000      0.000000        6.300000  3.197000e+03      4.000000   \n",
       "75%     2004.000000      0.000000        7.100000  1.397400e+04      9.000000   \n",
       "max     2010.000000      1.000000        9.700000  1.739448e+06     10.000000   \n",
       "\n",
       "                pos           idx  \n",
       "count  47331.000000  47331.000000  \n",
       "mean       0.498954   6279.697999  \n",
       "std        0.500004   3605.702545  \n",
       "min        0.000000      0.000000  \n",
       "25%        0.000000   3162.000000  \n",
       "50%        0.000000   6299.000000  \n",
       "75%        1.000000   9412.000000  \n",
       "max        1.000000  12499.000000  "
      ]
     },
     "metadata": {},
     "output_type": "display_data"
    }
   ],
   "source": [
    "print(df_reviews.head(10))\n",
    "\n",
    "print(df_reviews.info())\n",
    "\n",
    "display(df_reviews.describe())"
   ]
  },
  {
   "cell_type": "markdown",
   "metadata": {
    "id": "mu01VnzwPHgW"
   },
   "source": [
    "## **Exploratory Data Analysis**\n",
    "\n",
    "Let's check the number of movies and reviews over years"
   ]
  },
  {
   "cell_type": "code",
   "execution_count": null,
   "metadata": {
    "colab": {
     "base_uri": "https://localhost:8080/",
     "height": 712
    },
    "id": "noxz-9kJPRsN",
    "outputId": "7016f64c-a48d-46d2-f6a0-257c4071f52a"
   },
   "outputs": [],
   "source": [
    "fig, axs = plt.subplots(2, 1, figsize=(16, 8))\n",
    "\n",
    "ax = axs[0]\n",
    "\n",
    "dft1 = df_reviews[['tconst', 'start_year']].drop_duplicates() \\\n",
    "    ['start_year'].value_counts().sort_index()\n",
    "dft1 = dft1.reindex(index=np.arange(dft1.index.min(), max(dft1.index.max(), 2021))).fillna(0)\n",
    "dft1.plot(kind='bar', ax=ax)\n",
    "ax.set_title('Number of Movies Over Years')\n",
    "\n",
    "ax = axs[1]\n",
    "\n",
    "dft2 = df_reviews.groupby(['start_year', 'pos'])['pos'].count().unstack()\n",
    "dft2 = dft2.reindex(index=np.arange(dft2.index.min(), max(dft2.index.max(), 2021))).fillna(0)\n",
    "\n",
    "dft2.plot(kind='bar', stacked=True, label='#reviews (neg, pos)', ax=ax)\n",
    "\n",
    "dft2 = df_reviews['start_year'].value_counts().sort_index()\n",
    "dft2 = dft2.reindex(index=np.arange(dft2.index.min(), max(dft2.index.max(), 2021))).fillna(0)\n",
    "dft3 = (dft2/dft1).fillna(0)\n",
    "axt = ax.twinx()\n",
    "dft3.reset_index(drop=True).rolling(5).mean().plot(color='orange', label='reviews per movie (avg over 5 years)', ax=axt)\n",
    "\n",
    "lines, labels = axt.get_legend_handles_labels()\n",
    "ax.legend(lines, labels, loc='upper left')\n",
    "\n",
    "ax.set_title('Number of Reviews Over Years')\n",
    "\n",
    "fig.tight_layout()"
   ]
  },
  {
   "cell_type": "markdown",
   "metadata": {
    "id": "Lpik21BbP7OR"
   },
   "source": [
    "Let's check the distribution of number of reviews per movies with the exact counting and KDE"
   ]
  },
  {
   "cell_type": "code",
   "execution_count": null,
   "metadata": {
    "id": "JnEN_obsQAma"
   },
   "outputs": [],
   "source": [
    "fig, axs = plt.subplots(1, 2, figsize=(16, 5))\n",
    "\n",
    "ax = axs[0]\n",
    "dft = df_reviews.groupby('tconst')['review'].count() \\\n",
    "    .value_counts() \\\n",
    "    .sort_index()\n",
    "dft.plot.bar(ax=ax)\n",
    "ax.set_title('Bar Plot of #Reviews Per Movie')\n",
    "\n",
    "ax = axs[1]\n",
    "dft = df_reviews.groupby('tconst')['review'].count()\n",
    "sns.kdeplot(dft, ax=ax)\n",
    "ax.set_title('KDE Plot of #Reviews Per Movie')\n",
    "\n",
    "fig.tight_layout()"
   ]
  },
  {
   "cell_type": "code",
   "execution_count": null,
   "metadata": {
    "id": "6dV25ygUQCMQ"
   },
   "outputs": [],
   "source": [
    "df_reviews['pos'].value_counts()"
   ]
  },
  {
   "cell_type": "code",
   "execution_count": null,
   "metadata": {
    "colab": {
     "base_uri": "https://localhost:8080/",
     "height": 407
    },
    "id": "VAWsrLaUQEwm",
    "outputId": "4d57485f-d0d7-4d6a-e24a-f5a3bbb5a0e1"
   },
   "outputs": [],
   "source": [
    "fig, axs = plt.subplots(1, 2, figsize=(12, 4))\n",
    "\n",
    "ax = axs[0]\n",
    "dft = df_reviews.query('ds_part == \"train\"')['rating'].value_counts().sort_index()\n",
    "dft = dft.reindex(index=np.arange(min(dft.index.min(), 1), max(dft.index.max(), 11))).fillna(0)\n",
    "dft.plot.bar(ax=ax)\n",
    "ax.set_ylim([0, 5000])\n",
    "ax.set_title('The train set: distribution of ratings')\n",
    "\n",
    "ax = axs[1]\n",
    "dft = df_reviews.query('ds_part == \"test\"')['rating'].value_counts().sort_index()\n",
    "dft = dft.reindex(index=np.arange(min(dft.index.min(), 1), max(dft.index.max(), 11))).fillna(0)\n",
    "dft.plot.bar(ax=ax)\n",
    "ax.set_ylim([0, 5000])\n",
    "ax.set_title('The test set: distribution of ratings')\n",
    "\n",
    "fig.tight_layout()"
   ]
  },
  {
   "cell_type": "markdown",
   "metadata": {
    "id": "xJ4pr8itQGuG"
   },
   "source": [
    "Distribution of negative and positive reviews over the years for two parts of the dataset"
   ]
  },
  {
   "cell_type": "code",
   "execution_count": null,
   "metadata": {
    "colab": {
     "base_uri": "https://localhost:8080/",
     "height": 1000
    },
    "id": "ZGvZgjDBQK42",
    "outputId": "edd1af46-515c-4147-bf6c-456e15c2b584"
   },
   "outputs": [],
   "source": [
    "fig, axs = plt.subplots(2, 2, figsize=(16, 8), gridspec_kw=dict(width_ratios=(2, 1), height_ratios=(1, 1)))\n",
    "\n",
    "ax = axs[0][0]\n",
    "\n",
    "dft = df_reviews.query('ds_part == \"train\"').groupby(['start_year', 'pos'])['pos'].count().unstack()\n",
    "dft.index = dft.index.astype('int')\n",
    "dft = dft.reindex(index=np.arange(dft.index.min(), max(dft.index.max(), 2020))).fillna(0)\n",
    "dft.plot(kind='bar', stacked=True, ax=ax)\n",
    "ax.set_title('The train set: number of reviews of different polarities per year')\n",
    "\n",
    "ax = axs[0][1]\n",
    "\n",
    "dft = df_reviews.query('ds_part == \"train\"').groupby(['tconst', 'pos'])['pos'].count().unstack()\n",
    "sns.kdeplot(dft[0], color='blue', label='negative', kernel='epa', ax=ax)\n",
    "sns.kdeplot(dft[1], color='green', label='positive', kernel='epa', ax=ax)\n",
    "ax.legend()\n",
    "ax.set_title('The train set: distribution of different polarities per movie')\n",
    "\n",
    "ax = axs[1][0]\n",
    "\n",
    "dft = df_reviews.query('ds_part == \"test\"').groupby(['start_year', 'pos'])['pos'].count().unstack()\n",
    "dft.index = dft.index.astype('int')\n",
    "dft = dft.reindex(index=np.arange(dft.index.min(), max(dft.index.max(), 2020))).fillna(0)\n",
    "dft.plot(kind='bar', stacked=True, ax=ax)\n",
    "ax.set_title('The test set: number of reviews of different polarities per year')\n",
    "\n",
    "ax = axs[1][1]\n",
    "\n",
    "dft = df_reviews.query('ds_part == \"test\"').groupby(['tconst', 'pos'])['pos'].count().unstack()\n",
    "sns.kdeplot(dft[0], color='blue', label='negative', kernel='epa', ax=ax)\n",
    "sns.kdeplot(dft[1], color='green', label='positive', kernel='epa', ax=ax)\n",
    "ax.legend()\n",
    "ax.set_title('The test set: distribution of different polarities per movie')\n",
    "\n",
    "fig.tight_layout()"
   ]
  },
  {
   "cell_type": "code",
   "execution_count": null,
   "metadata": {
    "colab": {
     "base_uri": "https://localhost:8080/"
    },
    "id": "1OrNrVYqg260",
    "outputId": "61376ffc-c506-4309-a7ce-b37c804ad3b5"
   },
   "outputs": [],
   "source": [
    "# Class imbalance time\n",
    "\n",
    "class_distribution1 = df_reviews['tconst'].value_counts()\n",
    "print(class_distribution1)\n",
    "\n",
    "class_distribution2 = df_reviews['title_type'].value_counts()\n",
    "print(class_distribution2)\n",
    "\n",
    "class_distribution3 = df_reviews['primary_title'].value_counts()\n",
    "print(class_distribution3)\n",
    "\n",
    "class_distribution4 = df_reviews['original_title'].value_counts()\n",
    "print(class_distribution4)\n",
    "\n",
    "class_distribution5 = df_reviews['end_year'].value_counts()\n",
    "print(class_distribution5)\n",
    "\n",
    "class_distribution6 = df_reviews['runtime_minutes'].value_counts()\n",
    "print(class_distribution6)\n",
    "\n",
    "class_distribution7 = df_reviews['genres'].value_counts()\n",
    "print(class_distribution7)\n",
    "\n",
    "class_distribution8 = df_reviews['review'].value_counts()\n",
    "print(class_distribution8)\n",
    "\n",
    "class_distribution9 = df_reviews['sp'].value_counts()\n",
    "print(class_distribution9)\n",
    "\n",
    "class_distribution10 = df_reviews['ds_part'].value_counts()\n",
    "print(class_distribution5)"
   ]
  },
  {
   "cell_type": "markdown",
   "metadata": {
    "id": "MUsy8WThg3H5"
   },
   "source": [
    "**Commentary:**"
   ]
  },
  {
   "cell_type": "markdown",
   "metadata": {
    "id": "-R79itnEPJ9D"
   },
   "source": [
    "## **Evaluation Procedure**\n",
    "\n",
    "Composing an evaluation routine which can be used for all models in this project"
   ]
  },
  {
   "cell_type": "code",
   "execution_count": 6,
   "metadata": {
    "id": "7iQDmQfaQORP"
   },
   "outputs": [],
   "source": [
    "def evaluate_model(model, train_features, train_target, test_features, test_target):\n",
    "\n",
    "    eval_stats = {}\n",
    "\n",
    "    fig, axs = plt.subplots(1, 3, figsize=(20, 6))\n",
    "\n",
    "    for type, features, target in (('train', train_features, train_target), ('test', test_features, test_target)):\n",
    "\n",
    "        eval_stats[type] = {}\n",
    "\n",
    "        pred_target = model.predict(features)\n",
    "        pred_proba = model.predict_proba(features)[:, 1]\n",
    "\n",
    "        # F1\n",
    "        f1_thresholds = np.arange(0, 1.01, 0.05)\n",
    "        f1_scores = [metrics.f1_score(target, pred_proba>=threshold) for threshold in f1_thresholds]\n",
    "\n",
    "        # ROC\n",
    "        fpr, tpr, roc_thresholds = metrics.roc_curve(target, pred_proba)\n",
    "        roc_auc = metrics.roc_auc_score(target, pred_proba)\n",
    "        eval_stats[type]['ROC AUC'] = roc_auc\n",
    "\n",
    "        # PRC\n",
    "        precision, recall, pr_thresholds = metrics.precision_recall_curve(target, pred_proba)\n",
    "        aps = metrics.average_precision_score(target, pred_proba)\n",
    "        eval_stats[type]['APS'] = aps\n",
    "\n",
    "        if type == 'train':\n",
    "            color = 'blue'\n",
    "        else:\n",
    "            color = 'green'\n",
    "\n",
    "        # F1 Score\n",
    "        ax = axs[0]\n",
    "        max_f1_score_idx = np.argmax(f1_scores)\n",
    "        ax.plot(f1_thresholds, f1_scores, color=color, label=f'{type}, max={f1_scores[max_f1_score_idx]:.2f} @ {f1_thresholds[max_f1_score_idx]:.2f}')\n",
    "        # setting crosses for some thresholds\n",
    "        for threshold in (0.2, 0.4, 0.5, 0.6, 0.8):\n",
    "            closest_value_idx = np.argmin(np.abs(f1_thresholds-threshold))\n",
    "            marker_color = 'orange' if threshold != 0.5 else 'red'\n",
    "            ax.plot(f1_thresholds[closest_value_idx], f1_scores[closest_value_idx], color=marker_color, marker='X', markersize=7)\n",
    "        ax.set_xlim([-0.02, 1.02])\n",
    "        ax.set_ylim([-0.02, 1.02])\n",
    "        ax.set_xlabel('threshold')\n",
    "        ax.set_ylabel('F1')\n",
    "        ax.legend(loc='lower center')\n",
    "        ax.set_title(f'F1 Score')\n",
    "\n",
    "        # ROC\n",
    "        ax = axs[1]\n",
    "        ax.plot(fpr, tpr, color=color, label=f'{type}, ROC AUC={roc_auc:.2f}')\n",
    "        # setting crosses for some thresholds\n",
    "        for threshold in (0.2, 0.4, 0.5, 0.6, 0.8):\n",
    "            closest_value_idx = np.argmin(np.abs(roc_thresholds-threshold))\n",
    "            marker_color = 'orange' if threshold != 0.5 else 'red'\n",
    "            ax.plot(fpr[closest_value_idx], tpr[closest_value_idx], color=marker_color, marker='X', markersize=7)\n",
    "        ax.plot([0, 1], [0, 1], color='grey', linestyle='--')\n",
    "        ax.set_xlim([-0.02, 1.02])\n",
    "        ax.set_ylim([-0.02, 1.02])\n",
    "        ax.set_xlabel('FPR')\n",
    "        ax.set_ylabel('TPR')\n",
    "        ax.legend(loc='lower center')\n",
    "        ax.set_title(f'ROC Curve')\n",
    "\n",
    "        # PRC\n",
    "        ax = axs[2]\n",
    "        ax.plot(recall, precision, color=color, label=f'{type}, AP={aps:.2f}')\n",
    "        # setting crosses for some thresholds\n",
    "        for threshold in (0.2, 0.4, 0.5, 0.6, 0.8):\n",
    "            closest_value_idx = np.argmin(np.abs(pr_thresholds-threshold))\n",
    "            marker_color = 'orange' if threshold != 0.5 else 'red'\n",
    "            ax.plot(recall[closest_value_idx], precision[closest_value_idx], color=marker_color, marker='X', markersize=7)\n",
    "        ax.set_xlim([-0.02, 1.02])\n",
    "        ax.set_ylim([-0.02, 1.02])\n",
    "        ax.set_xlabel('recall')\n",
    "        ax.set_ylabel('precision')\n",
    "        ax.legend(loc='lower center')\n",
    "        ax.set_title(f'PRC')\n",
    "\n",
    "        eval_stats[type]['Accuracy'] = metrics.accuracy_score(target, pred_target)\n",
    "        eval_stats[type]['F1'] = metrics.f1_score(target, pred_target)\n",
    "\n",
    "    df_eval_stats = pd.DataFrame(eval_stats)\n",
    "    df_eval_stats = df_eval_stats.round(2)\n",
    "    df_eval_stats = df_eval_stats.reindex(index=('Accuracy', 'F1', 'APS', 'ROC AUC'))\n",
    "\n",
    "    print(df_eval_stats)\n",
    "\n",
    "    return"
   ]
  },
  {
   "cell_type": "markdown",
   "metadata": {
    "id": "P9TYEtkuQPHv"
   },
   "source": [
    "## **Normalization**\n",
    "\n",
    "We assume all models below except texts in lowercase and without any digits, punctuations, etc."
   ]
  },
  {
   "cell_type": "code",
   "execution_count": 7,
   "metadata": {
    "id": "v0Q1Xw9MRo7g"
   },
   "outputs": [],
   "source": [
    "def normalize_text(text):\n",
    "    # Convert to lowercase\n",
    "    text = text.lower()\n",
    "    # Remove digits\n",
    "    text = re.sub(r'\\d+', '', text)\n",
    "    # Remove punctuation\n",
    "    text = re.sub(r'[^\\w\\s]', '', text)\n",
    "    # Remove extra whitespace\n",
    "    text = ' '.join(text.split())\n",
    "    return text"
   ]
  },
  {
   "cell_type": "markdown",
   "metadata": {},
   "source": [
    "<div class=\"alert alert-success\">\n",
    "<b>Reviewer's comment V1</b>\n",
    "\n",
    "Good job!\n",
    "\n",
    "</div>"
   ]
  },
  {
   "cell_type": "markdown",
   "metadata": {
    "id": "X5VbXs0hRp05"
   },
   "source": [
    "## **Train-Test Split**\n",
    "\n",
    "Luckily, the whole dataset is already divided into train/test one parts. The corresponding flag is 'ds_part'."
   ]
  },
  {
   "cell_type": "code",
   "execution_count": 8,
   "metadata": {
    "colab": {
     "base_uri": "https://localhost:8080/"
    },
    "id": "3o11kDhlPJHt",
    "outputId": "0c374a4f-a631-485f-88b8-5942a9932d75"
   },
   "outputs": [
    {
     "name": "stdout",
     "output_type": "stream",
     "text": [
      "          tconst  title_type                 primary_title  \\\n",
      "0      tt0068152           0                             $   \n",
      "1      tt0068152           0                             $   \n",
      "2      tt0313150           1                            15   \n",
      "3      tt0313150           1                            15   \n",
      "4      tt0313150           1                            15   \n",
      "...          ...         ...                           ...   \n",
      "47326  tt0068398           2                Étude in Black   \n",
      "47327  tt0223503           4  Îhatôbu gensô: KENjI no haru   \n",
      "47328  tt0223503           4  Îhatôbu gensô: KENjI no haru   \n",
      "47329  tt0223503           4  Îhatôbu gensô: KENjI no haru   \n",
      "47330  tt0223503           4  Îhatôbu gensô: KENjI no haru   \n",
      "\n",
      "                     original_title  start_year  end_year runtime_minutes  \\\n",
      "0                                 $        67.0      59.0             121   \n",
      "1                                 $        67.0      59.0             121   \n",
      "2                                15        98.0      59.0              25   \n",
      "3                                15        98.0      59.0              25   \n",
      "4                                15        98.0      59.0              25   \n",
      "...                             ...         ...       ...             ...   \n",
      "47326                Étude in Black        68.0      59.0              97   \n",
      "47327  Îhatôbu gensô: KENjI no haru        92.0      59.0              55   \n",
      "47328  Îhatôbu gensô: KENjI no haru        92.0      59.0              55   \n",
      "47329  Îhatôbu gensô: KENjI no haru        92.0      59.0              55   \n",
      "47330  Îhatôbu gensô: KENjI no haru        92.0      59.0              55   \n",
      "\n",
      "       is_adult  genres  average_rating  votes  \\\n",
      "0             0     263             6.3   2218   \n",
      "1             0     263             6.3   2218   \n",
      "2             0     288             6.3    184   \n",
      "3             0     288             6.3    184   \n",
      "4             0     288             6.3    184   \n",
      "...         ...     ...             ...    ...   \n",
      "47326         0     369             7.7   2254   \n",
      "47327         0     197             7.3    278   \n",
      "47328         0     197             7.3    278   \n",
      "47329         0     197             7.3    278   \n",
      "47330         0     197             7.3    278   \n",
      "\n",
      "                                                  review  rating   sp  pos  \\\n",
      "0      The pakage implies that Warren Beatty and Gold...       1  neg    0   \n",
      "1      How the hell did they get this made?! Presenti...       1  neg    0   \n",
      "2      There is no real story the film seems more lik...       3  neg    0   \n",
      "3      Um .... a serious film about troubled teens in...       7  pos    1   \n",
      "4      I'm totally agree with GarryJohal from Singapo...       9  pos    1   \n",
      "...                                                  ...     ...  ...  ...   \n",
      "47326  This is another of my favorite Columbos. It sp...      10  pos    1   \n",
      "47327  Talk about being boring! I got this expecting ...       4  neg    0   \n",
      "47328  I never thought I'd say this about a biopic, b...       8  pos    1   \n",
      "47329  Spirit and Chaos is an artistic biopic of Miya...       9  pos    1   \n",
      "47330  I'll make this brief. This was a joy to watch....      10  pos    1   \n",
      "\n",
      "      ds_part   idx  \n",
      "0       train  8335  \n",
      "1       train  8336  \n",
      "2        test  2489  \n",
      "3        test  9280  \n",
      "4        test  9281  \n",
      "...       ...   ...  \n",
      "47326    test  6038  \n",
      "47327    test   989  \n",
      "47328    test  4163  \n",
      "47329    test  4164  \n",
      "47330    test  4165  \n",
      "\n",
      "[47331 rows x 17 columns]\n"
     ]
    }
   ],
   "source": [
    "# Initialize the OrdinalEncoder for start_year and end_year\n",
    "ordinal_encoder = OrdinalEncoder()\n",
    "\n",
    "# Fit and transform the start_year and end_year columns\n",
    "df_reviews[['start_year', 'end_year']] = ordinal_encoder.fit_transform(df_reviews[['start_year', 'end_year']])\n",
    "\n",
    "# Initialize the LabelEncoder for genres\n",
    "label_encoder_genres = LabelEncoder()\n",
    "\n",
    "# Fit and transform the genres column\n",
    "df_reviews['genres'] = label_encoder_genres.fit_transform(df_reviews['genres'])\n",
    "\n",
    "# Initialize the LabelEncoder for title_type\n",
    "label_encoder_title_type = LabelEncoder()\n",
    "\n",
    "# Fit and transform the title_type column\n",
    "df_reviews['title_type'] = label_encoder_title_type.fit_transform(df_reviews['title_type'])\n",
    "\n",
    "df_reviews['primary_title'] = df_reviews['primary_title'].str.replace(\"'\", \"\")\n",
    "df_reviews['original_title'] = df_reviews['original_title'].str.replace(\"'\", \"\")\n",
    "\n",
    "print(df_reviews)"
   ]
  },
  {
   "cell_type": "code",
   "execution_count": 9,
   "metadata": {},
   "outputs": [
    {
     "name": "stderr",
     "output_type": "stream",
     "text": [
      "[nltk_data] Downloading package stopwords to /home/jovyan/nltk_data...\n",
      "[nltk_data]   Package stopwords is already up-to-date!\n",
      "[nltk_data] Downloading package wordnet to /home/jovyan/nltk_data...\n",
      "[nltk_data]   Package wordnet is already up-to-date!\n"
     ]
    }
   ],
   "source": [
    "# Ensure that the NLTK resources are downloaded\n",
    "nltk.download('stopwords')\n",
    "nltk.download('wordnet')\n",
    "\n",
    "# Load the stop words and lemmatizer from NLTK\n",
    "nltk_stopwords = stopwords.words('english')"
   ]
  },
  {
   "cell_type": "code",
   "execution_count": 10,
   "metadata": {},
   "outputs": [],
   "source": [
    "# Define a text preprocessing function using NLTK without lemmatization\n",
    "def preprocess_text_nltk(text):\n",
    "    tokens = nltk.word_tokenize(text)  # Tokenize the text\n",
    "    filtered_tokens = [token.lower() for token in tokens if token.isalpha() and token.lower() not in nltk_stopwords]\n",
    "    return ' '.join(filtered_tokens)\n",
    "\n",
    "df_reviews['processed_review_nltk'] = df_reviews['review'].apply(preprocess_text_nltk)"
   ]
  },
  {
   "cell_type": "code",
   "execution_count": 11,
   "metadata": {},
   "outputs": [],
   "source": [
    "df_reviews_train = df_reviews.query('ds_part == \"train\"').copy()\n",
    "df_reviews_test = df_reviews.query('ds_part == \"test\"').copy()\n",
    "\n",
    "df_reviews_train.drop(columns=['tconst'], inplace=True)\n",
    "df_reviews_test.drop(columns=['tconst'], inplace=True)\n",
    "\n",
    "train_target = df_reviews_train['pos']\n",
    "test_target = df_reviews_test['pos']"
   ]
  },
  {
   "cell_type": "markdown",
   "metadata": {},
   "source": [
    "<div class=\"alert alert-danger\">\n",
    "<b>Reviewer's comment V3</b>\n",
    "\n",
    "Broken code. Please, before to send the project back be sure that all the code works fine.\n",
    "\n",
    "</div>\n",
    "\n",
    "\n",
    "<div class=\"alert alert-info\">\n",
    "<b>Student's comment V3</b>\n",
    "    \n",
    "Sure. It was working smoothly when I submitted it through this point. I resolved the issue through additional preprocessing four cells above.\n",
    "    \n",
    "</div>"
   ]
  },
  {
   "cell_type": "code",
   "execution_count": 12,
   "metadata": {},
   "outputs": [
    {
     "data": {
      "text/plain": [
       "TfidfVectorizer(stop_words=['i', 'me', 'my', 'myself', 'we', 'our', 'ours',\n",
       "                            'ourselves', 'you', \"you're\", \"you've\", \"you'll\",\n",
       "                            \"you'd\", 'your', 'yours', 'yourself', 'yourselves',\n",
       "                            'he', 'him', 'his', 'himself', 'she', \"she's\",\n",
       "                            'her', 'hers', 'herself', 'it', \"it's\", 'its',\n",
       "                            'itself', ...])"
      ]
     },
     "execution_count": 12,
     "metadata": {},
     "output_type": "execute_result"
    }
   ],
   "source": [
    "# Create a TfidfVectorizer object using NLTK stop words\n",
    "vectorizer_nltk = TfidfVectorizer(stop_words=nltk_stopwords)\n",
    "\n",
    "# Fit the vectorizer to the processed reviews and transform the data\n",
    "# Note: You should fit the vectorizer on the training data only\n",
    "vectorizer_nltk.fit(df_reviews_train['processed_review_nltk'])"
   ]
  },
  {
   "cell_type": "code",
   "execution_count": 13,
   "metadata": {},
   "outputs": [
    {
     "name": "stdout",
     "output_type": "stream",
     "text": [
      "(23796, 17)\n",
      "(23535, 17)\n",
      "\n",
      "(23796, 70055)\n",
      "(23535, 70055)\n"
     ]
    }
   ],
   "source": [
    "# Transform the reviews into TF-IDF features\n",
    "train_features_nltk = vectorizer_nltk.transform(df_reviews_train['processed_review_nltk'])\n",
    "test_features_nltk = vectorizer_nltk.transform(df_reviews_test['processed_review_nltk'])\n",
    "\n",
    "print(df_reviews_train.shape)\n",
    "print(df_reviews_test.shape)\n",
    "print()\n",
    "print(train_features_nltk.shape)\n",
    "print(test_features_nltk.shape)"
   ]
  },
  {
   "cell_type": "markdown",
   "metadata": {
    "id": "fTkwq2JCR20D"
   },
   "source": [
    "## **Working the Models**\n",
    "\n",
    "### **Model 0 – Constant**"
   ]
  },
  {
   "cell_type": "code",
   "execution_count": null,
   "metadata": {
    "colab": {
     "base_uri": "https://localhost:8080/",
     "height": 575
    },
    "id": "yu5-AvCBSAne",
    "outputId": "4d337210-29fe-4fc6-ee1c-7bc6514643cb"
   },
   "outputs": [],
   "source": [
    "features = df_reviews_train.drop(columns=['pos', 'ds_part'])\n",
    "test_features_dummy = df_reviews_test.drop(columns=['pos', 'ds_part'])\n",
    "\n",
    "dummy_clf = DummyClassifier(strategy=\"most_frequent\")\n",
    "\n",
    "dummy_clf.fit(features, train_target)\n",
    "\n",
    "evaluate_model(dummy_clf, features, train_target, test_features_dummy, test_target)"
   ]
  },
  {
   "cell_type": "markdown",
   "metadata": {},
   "source": [
    "<div class=\"alert alert-success\">\n",
    "<b>Reviewer's comment V1</b>\n",
    "\n",
    "Correct\n",
    "\n",
    "</div>"
   ]
  },
  {
   "cell_type": "markdown",
   "metadata": {
    "id": "XcK00b-4SAwf"
   },
   "source": [
    "### **Model 1 – NLTK, TF-IDF and LR**"
   ]
  },
  {
   "cell_type": "code",
   "execution_count": 14,
   "metadata": {},
   "outputs": [
    {
     "name": "stdout",
     "output_type": "stream",
     "text": [
      "          train  test\n",
      "Accuracy   0.94  0.88\n",
      "F1         0.94  0.88\n",
      "APS        0.98  0.95\n",
      "ROC AUC    0.98  0.95\n"
     ]
    },
    {
     "data": {
      "image/png": "[encoded data removed]",
      "text/plain": [
       "<Figure size 2000x600 with 3 Axes>"
      ]
     },
     "metadata": {},
     "output_type": "display_data"
    }
   ],
   "source": [
    "# Initialize and train the Logistic Regression model\n",
    "model_lr = LogisticRegression()\n",
    "model_lr.fit(train_features_nltk, train_target)\n",
    "\n",
    "# Now you can use the evaluate_model function to evaluate the model\n",
    "evaluate_model(model_lr, train_features_nltk, train_target, test_features_nltk, test_target)"
   ]
  },
  {
   "cell_type": "markdown",
   "metadata": {},
   "source": [
    "<div class=\"alert alert-danger\">\n",
    "<b>Reviewer's comment V1</b>\n",
    "\n",
    "1. In this task you shouldn't use spacy for lemmatization. You don't need to lemmatize texts here at all.\n",
    "2. You should use stop words from NLTK in the TfidfVectorizer.\n",
    "3. You have a lot of duplicate code here. You shouldn't read the data and split it again. You need to use results from previous cells.\n",
    "4. You should use 'review_norm' column here from previous tasks.\n",
    "5. Why did you add all the imports again? All the imports should be used only once in the project\n",
    "\n",
    "</div>\n",
    "\n",
    "<div class=\"alert alert-info\">\n",
    "<b>Student's comment V1</b>\n",
    "    \n",
    "Addressed the first and second points. On the third point, for some reason, when I don't preprocess the training and test sets as well split again, the code has trouble running – even when testing these two separately. For the fourth point, I decided to go with 'processed_review' instead of 'review_norm'. Lastly, I moved the imports up to the initialization section.\n",
    "    \n",
    "</div>"
   ]
  },
  {
   "cell_type": "markdown",
   "metadata": {},
   "source": [
    "<div class=\"alert alert-danger\">\n",
    "<b>Reviewer's comment V2</b>\n",
    "\n",
    "1. You have a lot of duplicate code how. You should read the data only once. You should split the data only once and so on. All these things were done above and so you shouldn' repeat them here. \n",
    "2. You don't need to do a lemmatization here at all. Just use a column a 'review_norm' from section 4. The only thing you should take from NLTK libary is stopwords. \n",
    "    \n",
    "</div>\n",
    "\n",
    "<div class=\"alert alert-info\">\n",
    "<b>Student's comment V2</b>\n",
    "    \n",
    "Addressed. Thanks.\n",
    "    \n",
    "</div>"
   ]
  },
  {
   "cell_type": "markdown",
   "metadata": {},
   "source": [
    "<div class=\"alert alert-danger\">\n",
    "<b>Reviewer's comment V4</b>\n",
    "\n",
    "Another broken code. Please, before to send the project back be sure that all the code works fine.\n",
    "    \n",
    "</div>\n",
    "\n",
    "<div class=\"alert alert-info\">\n",
    "<b>Student's comment V4</b>\n",
    "    \n",
    "Yes. The target variable in the dummy classifier was overwriting the pre-processing code that I put in for the last V3 comment. It works now.\n",
    "\n",
    "</div>"
   ]
  },
  {
   "cell_type": "markdown",
   "metadata": {
    "id": "2mgR2VdqSFtP"
   },
   "source": [
    "### **Model 3 – spaCy, TF-IDF and LR**"
   ]
  },
  {
   "cell_type": "code",
   "execution_count": 15,
   "metadata": {},
   "outputs": [],
   "source": [
    "# Load the spaCy model\n",
    "nlp = spacy.load('en_core_web_sm', disable=['parser', 'ner'])\n",
    "\n",
    "# Define a text preprocessing function using spaCy\n",
    "def preprocess_text_spacy(text):\n",
    "    doc = nlp(text)\n",
    "    tokens = [token.lemma_ for token in doc if not token.is_stop and not token.is_punct]\n",
    "    return ' '.join(tokens)\n",
    "\n",
    "df_reviews['processed_review_spacy'] = df_reviews['review'].apply(preprocess_text_spacy)"
   ]
  },
  {
   "cell_type": "code",
   "execution_count": 18,
   "metadata": {},
   "outputs": [],
   "source": [
    "df_reviews_train = df_reviews.query('ds_part == \"train\"').copy()\n",
    "df_reviews_test = df_reviews.query('ds_part == \"test\"').copy()\n",
    "\n",
    "df_reviews_train.drop(columns=['tconst'], inplace=True)\n",
    "df_reviews_test.drop(columns=['tconst'], inplace=True)\n",
    "\n",
    "df_reviews_train_spacy = df_reviews_train.drop(columns=['processed_review_nltk'])\n",
    "df_reviews_test_spacy = df_reviews_test.drop(columns=['processed_review_nltk'])"
   ]
  },
  {
   "cell_type": "code",
   "execution_count": 19,
   "metadata": {
    "colab": {
     "base_uri": "https://localhost:8080/",
     "height": 699
    },
    "id": "qlq5qiX9SK5c",
    "outputId": "34a36c05-7ae9-4981-fefd-059f81cec5a2"
   },
   "outputs": [
    {
     "name": "stdout",
     "output_type": "stream",
     "text": [
      "          train  test\n",
      "Accuracy   0.93  0.88\n",
      "F1         0.93  0.88\n",
      "APS        0.98  0.94\n",
      "ROC AUC    0.98  0.95\n"
     ]
    },
    {
     "data": {
      "image/png": "[encoded data removed]",
      "text/plain": [
       "<Figure size 2000x600 with 3 Axes>"
      ]
     },
     "metadata": {},
     "output_type": "display_data"
    }
   ],
   "source": [
    "# Create a TfidfVectorizer object\n",
    "vectorizer_spacy = TfidfVectorizer()\n",
    "\n",
    "# Fit the vectorizer to the processed reviews in the training set\n",
    "vectorizer_spacy.fit(df_reviews_train_spacy['processed_review_spacy'])\n",
    "\n",
    "# Transform the reviews into TF-IDF features\n",
    "train_features_spacy = vectorizer_spacy.transform(df_reviews_train_spacy['processed_review_spacy'])\n",
    "test_features_spacy =  vectorizer_spacy.transform(df_reviews_test_spacy['processed_review_spacy'])\n",
    "\n",
    "# Initialize and train the Logistic Regression model\n",
    "model_lr_spacy = LogisticRegression()\n",
    "model_lr_spacy.fit(train_features_spacy, train_target)\n",
    "\n",
    "# Now you can use the evaluate_model function to evaluate the model\n",
    "evaluate_model(model_lr_spacy, train_features_spacy, train_target, test_features_spacy, test_target)"
   ]
  },
  {
   "cell_type": "markdown",
   "metadata": {},
   "source": [
    "<div class=\"alert alert-danger\">\n",
    "<b>Reviewer's comment V1</b>\n",
    "\n",
    "1. You should use stop words from NLTK in the TfidfVectorizer.\n",
    "2. You have a lot of duplicate code here. You shouldn't read the data and split it again. You need to use results from previous cells.\n",
    "3. You should use 'review_norm' column here from previous tasks.\n",
    "4. Why did you add all the imports again? All the imports should be used only once in the project\n",
    "\n",
    "</div>\n",
    "\n",
    "<div class=\"alert alert-info\">\n",
    "<b>Student's comment V1</b>\n",
    "    \n",
    "Addressed the first point. On the second point, for some reason, when I don't preprocess the training and test sets as well split again, the code has trouble running – even when testing these two separately. For the third point, I decided to go with 'processed_review' instead of 'review_norm'. Lastly, I moved the imports up to the initialization section.\n",
    "    \n",
    "</div>"
   ]
  },
  {
   "cell_type": "markdown",
   "metadata": {},
   "source": [
    "<div class=\"alert alert-danger\">\n",
    "<b>Reviewer's comment V2</b>\n",
    "\n",
    "1. You have a lot of duplicate code how. You should read the data only once. You should split the data only once and so on. All these things were done above and so you shouldn' repeat them here. \n",
    "2. You should apply your `preprocess_text` function to the column 'review_norm' from the section 4.\n",
    "    \n",
    "</div>\n",
    "\n",
    "<div class=\"alert alert-info\">\n",
    "<b>Student's comment V2</b>\n",
    "    \n",
    "Addressed. Thanks.\n",
    "    \n",
    "</div>    "
   ]
  },
  {
   "cell_type": "markdown",
   "metadata": {},
   "source": [
    "<div class=\"alert alert-danger\">\n",
    "<b>Reviewer's comment V5</b>\n",
    "\n",
    "Another broken code. It seems you fixed only the previous broken cell and didn't run the rest of the code. Please, could you run it untill the end? If you're going to send one broken cell by one we need a month to finish your review.\n",
    "\n",
    "</div>\n",
    "\n",
    "<div class=\"alert alert-info\">\n",
    "<b>Student's comment V5</b>\n",
    "\n",
    "Thanks for your patience. I am not having this issue. The code is running just fine. The results for model_lr_spacy are           train  test\n",
    "Accuracy   0.94  0.88\n",
    "F1         0.94  0.88\n",
    "APS        0.98  0.95\n",
    "ROC AUC    0.98  0.95\n",
    "    \n",
    "Your comments about the number of reviews is noted, however there was little to no actual direction on the base notebook this time, so I believe that we have actually made a lot of progress making it through the next section successfully. I'm not sure if you have made very small changes of the code when running it, but I will have to save drafts of the workbook moving forward. \n",
    "    \n",
    "Please note that the notebook still crashes for model9, but if I restart the notebook and only run the import, preprocessing, and model9, then it produces results. You have noted this as correct previously and this still works in the other IDE without crashing.\n",
    "    \n",
    "Again, a sincere thanks for your review. If there's still issues other than broken code, I will go see the tutor about the dead kernel.\n",
    "    \n",
    "</div>"
   ]
  },
  {
   "cell_type": "markdown",
   "metadata": {},
   "source": [
    "<div class=\"alert alert-success\">\n",
    "<b>Reviewer's comment V6</b>\n",
    "\n",
    "This time this cell works fine. \n",
    "Let's forget about BERT section. I changed the cell types in this section. Now this section won't spoil anything.\n",
    "    \n",
    "</div>"
   ]
  },
  {
   "cell_type": "markdown",
   "metadata": {
    "id": "OSkbJynNSLnc"
   },
   "source": [
    "### **Model 4 – spaCy, TF-IDF, LGBMClassifier**"
   ]
  },
  {
   "cell_type": "code",
   "execution_count": 22,
   "metadata": {
    "colab": {
     "base_uri": "https://localhost:8080/"
    },
    "id": "AWXqHsLvj9ec",
    "outputId": "4bff6e67-74a3-4fe2-b9e6-d15df7dc340a"
   },
   "outputs": [
    {
     "name": "stdout",
     "output_type": "stream",
     "text": [
      "Requirement already satisfied: lightgbm in /opt/conda/lib/python3.10/site-packages (4.5.0)\r\n",
      "Requirement already satisfied: scipy in /opt/conda/lib/python3.10/site-packages (from lightgbm) (1.14.1)\r\n",
      "Requirement already satisfied: numpy>=1.17.0 in /opt/conda/lib/python3.10/site-packages (from lightgbm) (2.1.3)\r\n"
     ]
    }
   ],
   "source": [
    "!pip install lightgbm"
   ]
  },
  {
   "cell_type": "code",
   "execution_count": 23,
   "metadata": {
    "colab": {
     "base_uri": "https://localhost:8080/",
     "height": 835
    },
    "id": "wPAecJiZSP9K",
    "outputId": "a1cb849b-6e45-41e4-a7ba-706b9c59a5cf"
   },
   "outputs": [
    {
     "name": "stdout",
     "output_type": "stream",
     "text": [
      "          train  test\n",
      "Accuracy   0.91  0.85\n",
      "F1         0.91  0.85\n",
      "APS        0.97  0.93\n",
      "ROC AUC    0.97  0.93\n"
     ]
    },
    {
     "data": {
      "image/png": "[encoded data removed]",
      "text/plain": [
       "<Figure size 2000x600 with 3 Axes>"
      ]
     },
     "metadata": {},
     "output_type": "display_data"
    }
   ],
   "source": [
    "# Initialize and train the LGBMClassifier model\n",
    "model_lgbm = LGBMClassifier()\n",
    "model_lgbm.fit(train_features_spacy, train_target)\n",
    "\n",
    "# Now you can use the evaluate_model function to evaluate the model\n",
    "evaluate_model(model_lgbm, train_features_spacy, train_target, test_features_spacy, test_target)"
   ]
  },
  {
   "cell_type": "markdown",
   "metadata": {
    "id": "a9-oUx73SQv4"
   },
   "source": [
    "### **Model 9 – BERT**"
   ]
  },
  {
   "cell_type": "raw",
   "metadata": {
    "colab": {
     "base_uri": "https://localhost:8080/",
     "height": 336,
     "referenced_widgets": [
      "9b9e7276cbdb421d88d322aa85612c3e",
      "1d75c26366e94e1f9f235d214edcf53b",
      "df05806db30e439898f9e228b639c848",
      "57671ee919d2402da48317f81bc82d1d",
      "e9e9b10faca4428b92aa2a1631f3150d",
      "abbe372b9fcc45289a22dbd65884508f",
      "9a0febd2940f4df1bf79242967767c2f",
      "7058d69473c74156904fc699c660290c",
      "930b31cbd1044b92bf56b37921d262e1",
      "7b8ee6db88ee4346a826145e1c96ac07",
      "9e6d57ab6b7b4b18b47fadad394e9308",
      "0c026e5d0f6d4c429589aff86608930e",
      "0036b25ff29e4ad1bd7bf381b69f563d",
      "a5303ad3fa02405689465fafe841f695",
      "383e79e1168e4ca7bcbc24d9386e3c75",
      "47ad1485c645477ab80a225b67ff345c",
      "dcb669274e544bf989a5df383b5ce34b",
      "47c831a0f10f4b88951cff6ac398ba5b",
      "d5f89718a2e04ea48a1df90303d98372",
      "97d7770084824ac5ade27249eeee814b",
      "4d5cfe13a9a24a90817a07453aae1f12",
      "92f92cfae3834edf80bd4622cdfab58f",
      "b82c5623a91144e39854b1af5b546756",
      "9fdb927e587a484a98d1381529f50014",
      "12fcbef0c358431fac3484eafac85d1e",
      "3fa86d613e7640d9b35ff8d3ab3dc325",
      "728d399a45f54703837229c174d5419e",
      "c19cff11b2344ecfa034a7e53c740f1f",
      "e84b8609f6884d968df8a8aca179478f",
      "838a51cd92a24f3e9e44f8b53e296e00",
      "70497a0263c949ebb996ade77f19105f",
      "56e658d2759c45c1a090dff03528437d",
      "2b1c46bc5afe41ffb90bf20157cf26cf",
      "5b0924c4a0134e82a86fe153f3634ed7",
      "6a92bce751144770b759304733a30412",
      "9083a43ae02649c996ddf0d33170f141",
      "9d177fc93bf14930bac1b945efd631a8",
      "72f046dec23e401e9069ed90d4fad7a2",
      "87610ffe97804aa8b7afc6285783bd53",
      "8b0f8807021f49c59d241679dcba5e0b",
      "5ea789e916554ec8a38eca35d4371f12",
      "6808df2bf9d54ca499afd66f61826751",
      "a7ba8dd54054499298a155a118f8f772",
      "b4c435428d1948d09c28b883ef171803",
      "5e49fb7e41694f578692ba2d5bfcc988",
      "c47079297b9341ac851a3ec167c98997",
      "cc04412a9c074f4f8c3d318b65e3ce93",
      "f4a7246dad85456bb7540ab81cd99feb",
      "53ebdba9d5fe4ffc8f36cb887741cd52",
      "db5ac70cc03e4f0a9e84c07ea4507033",
      "51a6d49505be438cbfe8bc129dada6b1",
      "77d6178f00e5424b8f597dc3ae5750b0",
      "20fe6b0596c644b8a284a2bf838b26ef",
      "f32f78f11b4646cebf867af37593a543",
      "78dfbe755b7243fea96f86224f28c479"
     ]
    },
    "id": "o6poH029S-g6",
    "outputId": "74e05c46-326a-400f-f0ee-278256dad5c8"
   },
   "source": [
    "tokenizer = transformers.BertTokenizerFast.from_pretrained('bert-base-uncased') # Use BertTokenizerFast\n",
    "model_bert = transformers.BertModel.from_pretrained('bert-base-uncased')"
   ]
  },
  {
   "cell_type": "raw",
   "metadata": {
    "colab": {
     "base_uri": "https://localhost:8080/"
    },
    "id": "gH9Rvl6LTOC6",
    "outputId": "8c5f4f6c-2a3c-4316-c76f-3652b8f4638c"
   },
   "source": [
    "def BERT_text_to_embeddings(texts, max_length=512, batch_size=250, force_device=None, disable_progress_bar=False):\n",
    "    # Use tokenizer to encode the texts\n",
    "    encodings = tokenizer(\n",
    "        texts,\n",
    "        max_length=max_length,\n",
    "        padding='max_length',\n",
    "        truncation=True,\n",
    "        return_tensors='pt'\n",
    "    )\n",
    "\n",
    "    ids_list = encodings['input_ids']\n",
    "    attention_mask_list = encodings['attention_mask']\n",
    "\n",
    "    if force_device is not None:\n",
    "        device = torch.device(force_device)\n",
    "    else:\n",
    "        device = torch.device('cuda' if torch.cuda.is_available() else 'cpu')\n",
    "\n",
    "    model_bert.to(device)\n",
    "    if not disable_progress_bar:\n",
    "        print(f'Using the {device} device.')\n",
    "\n",
    "    # Getting embeddings in batches\n",
    "    embeddings = []\n",
    "\n",
    "    for i in tqdm(range(math.ceil(len(ids_list)/batch_size)), disable=disable_progress_bar):\n",
    "        ids_batch = ids_list[batch_size*i:batch_size*(i+1)].to(device)\n",
    "        attention_mask_batch = attention_mask_list[batch_size*i:batch_size*(i+1)].to(device)\n",
    "\n",
    "        with torch.no_grad():\n",
    "            model_bert.eval()\n",
    "            batch_embeddings = model_bert(input_ids=ids_batch, attention_mask=attention_mask_batch)\n",
    "        embeddings.append(batch_embeddings[0][:, 0, :].detach().cpu().numpy())\n",
    "\n",
    "    return np.concatenate(embeddings)"
   ]
  },
  {
   "cell_type": "raw",
   "metadata": {
    "colab": {
     "base_uri": "https://localhost:8080/"
    },
    "id": "9m0ia7oRTOfC",
    "outputId": "d878e210-1e0b-4445-9502-1a33f49e4d2e"
   },
   "source": [
    "# Get embeddings for train and test sets\n",
    "# Convert the 'review' field to a list of strings before getting embeddings\n",
    "train_reviews_bert_lgbm = df_reviews_train['review'].astype(str).tolist()\n",
    "test_reviews_bert_lgbm = df_reviews_test['review'].astype(str).tolist()\n",
    "\n",
    "# Get embeddings for train and test sets\n",
    "train_features_bert_lgbm = BERT_text_to_embeddings(train_reviews_bert_lgbm)\n",
    "test_features_bert_lgbm = BERT_text_to_embeddings(test_reviews_bert_lgbm)\n",
    "\n",
    "print(df_reviews_train['review'].shape)\n",
    "print(train_features_bert_lgbm.shape)\n",
    "print(train_target_bert_lgbm.shape)"
   ]
  },
  {
   "cell_type": "raw",
   "metadata": {
    "colab": {
     "base_uri": "https://localhost:8080/",
     "height": 696
    },
    "id": "QbS71XV8TSHw",
    "outputId": "1db945ce-eb92-4327-fe80-b66ced08e112"
   },
   "source": [
    "# Initialize and train the LGBMClassifier model\n",
    "model_bert_lgbm = LGBMClassifier()\n",
    "model_bert_lgbm.fit(train_features_bert_lgbm, train_target_bert_lgbm)\n",
    "\n",
    "# Now you can use the evaluate_model function to evaluate the model\n",
    "evaluate_model(model_bert_lgbm, train_features_bert_lgbm, train_target_bert_lgbm, test_features_bert_lgbm, test_target_bert_lgbm)"
   ]
  },
  {
   "cell_type": "markdown",
   "metadata": {},
   "source": [
    "<div class=\"alert alert-success\">\n",
    "<b>Reviewer's comment V1</b>\n",
    "\n",
    "Correct\n",
    "\n",
    "</div>"
   ]
  },
  {
   "cell_type": "markdown",
   "metadata": {},
   "source": [
    "<div class=\"alert alert-danger\">\n",
    "<b>Reviewer's comment V1</b>\n",
    "\n",
    "1. Why did you load and split the data again? You should do it only once in your whole project.\n",
    "2. Why did you add all the imports again? All the imports should be used only once in the project\n",
    "\n",
    "</div>\n",
    "\n",
    "<div class=\"alert alert-info\">\n",
    "<b>Student's comment V1</b>\n",
    "    \n",
    "Addressed. Thanks.\n",
    "    \n",
    "</div>"
   ]
  },
  {
   "cell_type": "markdown",
   "metadata": {},
   "source": [
    "<div class=\"alert alert-success\">\n",
    "<b>Reviewer's comment V2</b>\n",
    "\n",
    "Correct\n",
    "    \n",
    "</div>"
   ]
  },
  {
   "cell_type": "markdown",
   "metadata": {
    "id": "7koT38qfTS2G"
   },
   "source": [
    "## **My Reviews**"
   ]
  },
  {
   "cell_type": "code",
   "execution_count": 24,
   "metadata": {
    "colab": {
     "base_uri": "https://localhost:8080/"
    },
    "id": "W7H23sGVTWw-",
    "outputId": "e40341d4-f00a-434b-a5f3-bb477ac6c96b"
   },
   "outputs": [
    {
     "name": "stdout",
     "output_type": "stream",
     "text": [
      "                                              review  \\\n",
      "0  I did not simply like it, not my kind of movie...   \n",
      "1  Well, I was bored and felt asleep in the middl...   \n",
      "2  I was really fascinated with the movie, but it...   \n",
      "3  Even the actors looked really old and disinter...   \n",
      "4  I didn't expect the reboot to be so good! Writ...   \n",
      "5  The movie had its upsides and downsides, but I...   \n",
      "6  What a rotten attempt at a comedy. Not a singl...   \n",
      "7  Launching on Netflix was a brave move & I real...   \n",
      "\n",
      "                                         review_norm  \n",
      "0  i did not simply like it not my kind of movie ...  \n",
      "1  well i was bored and felt asleep in the middle...  \n",
      "2  i was really fascinated with the movie but it ...  \n",
      "3  even the actors looked really old and disinter...  \n",
      "4  i didnt expect the reboot to be so good writer...  \n",
      "5  the movie had its upsides and downsides but i ...  \n",
      "6  what a rotten attempt at a comedy not a single...  \n",
      "7  launching on netflix was a brave move i really...  \n"
     ]
    }
   ],
   "source": [
    "# Sample DataFrame creation for demonstration\n",
    "my_reviews = pd.DataFrame([\n",
    "    'I did not simply like it, not my kind of movie. This movie was poopie.',\n",
    "    'Well, I was bored and felt asleep in the middle of the movie.',\n",
    "    'I was really fascinated with the movie, but it was still kind of poopie.',\n",
    "    'Even the actors looked really old and disinterested, and they got paid to be in the movie. What a soulless cash grab.',\n",
    "    'I didn\\'t expect the reboot to be so good! Writers really cared about the source material',\n",
    "    'The movie had its upsides and downsides, but I feel like overall it\\'s a decent flick. I could see myself going to see it again.',\n",
    "    'What a rotten attempt at a comedy. Not a single joke lands, everyone acts annoying and loud, even kids won\\'t like this!',\n",
    "    'Launching on Netflix was a brave move & I really appreciate being able to binge on episode after episode, of this exciting intelligent new drama.'\n",
    "], columns=['review'])\n",
    "\n",
    "# Apply the normalization function to the 'review' column\n",
    "my_reviews['review_norm'] = my_reviews['review'].apply(normalize_text)\n",
    "\n",
    "# Display the normalized reviews\n",
    "print(my_reviews)"
   ]
  },
  {
   "cell_type": "markdown",
   "metadata": {},
   "source": [
    "<div class=\"alert alert-danger\">\n",
    "<b>Reviewer's comment V1</b>\n",
    "\n",
    "Duplicate code for the function `normalize_text`\n",
    "\n",
    "</div>\n",
    "\n",
    "<div class=\"alert alert-info\">\n",
    "<b>Student's comment V1</b>\n",
    "    \n",
    "I need to have this here to complete the assignment because the kernel dies.\n",
    "    \n",
    "</div>"
   ]
  },
  {
   "cell_type": "markdown",
   "metadata": {
    "id": "IGC1pKLVTXOC"
   },
   "source": [
    "### **Model 1**"
   ]
  },
  {
   "cell_type": "code",
   "execution_count": 28,
   "metadata": {},
   "outputs": [
    {
     "name": "stdout",
     "output_type": "stream",
     "text": [
      "0.27:  I did not simply like it, not my kind of movie. This movie was poopie.\n",
      "0.17:  Well, I was bored and felt asleep in the middle of the movie.\n",
      "0.62:  I was really fascinated with the movie, but it was still kind of poopie.\n",
      "0.12:  Even the actors looked really old and disinterested, and they got paid to be in the movie. What a soulless cash grab.\n",
      "0.29:  I didn't expect the reboot to be so good! Writers really cared about the source material\n",
      "0.44:  The movie had its upsides and downsides, but I feel like overall it's a decent flick. I could see myself going to see it again.\n",
      "0.05:  What a rotten attempt at a comedy. Not a single joke lands, everyone acts annoying and loud, even kids won't like this!\n",
      "0.83:  Launching on Netflix was a brave move & I really appreciate being able to binge on episode after episode, of this exciting intelligent new drama.\n"
     ]
    }
   ],
   "source": [
    "# Fit the vectorizer to the processed reviews in the training set\n",
    "vectorizer_nltk.fit(df_reviews_train['processed_review_nltk'])\n",
    "\n",
    "# Transform the normalized and processed reviews into TF-IDF features\n",
    "my_reviews_features_nltk = vectorizer_nltk.transform(my_reviews['review_norm'])\n",
    "\n",
    "# Predict probabilities for the new reviews using model1\n",
    "my_reviews_pred_prob_model_lr_nltk = model_lr.predict_proba(my_reviews_features_nltk)[:, 1]\n",
    "\n",
    "# Print the probabilities and the first 100 characters of each review\n",
    "for i, review in enumerate(my_reviews['review']):\n",
    "    print(f'{my_reviews_pred_prob_model_lr_nltk[i]:.2f}:  {review}')"
   ]
  },
  {
   "cell_type": "markdown",
   "metadata": {},
   "source": [
    "<div class=\"alert alert-danger\">\n",
    "<b>Reviewer's comment V1</b>\n",
    "\n",
    "Broken code\n",
    "\n",
    "</div>\n",
    "\n",
    "<div class=\"alert alert-info\">\n",
    "<b>Student's comment V1</b>\n",
    "    \n",
    "Yes. The code wasn't making sense. Additionally, since the kernel dies after the first BERT model, I have to reset some of the code leading to redundancy. The dictionary of reviews and imports were removed as a streamline step.    \n",
    "    \n",
    "</div>"
   ]
  },
  {
   "cell_type": "markdown",
   "metadata": {},
   "source": [
    "<div class=\"alert alert-danger\">\n",
    "<b>Reviewer's comment V2</b>\n",
    "\n",
    "Okay, you can just to remove a BERT section or don't run it at all. It's not necessary section. But you definitely don't need to copy and paste all the code and run it again.\n",
    "    \n",
    "</div>"
   ]
  },
  {
   "cell_type": "markdown",
   "metadata": {},
   "source": [
    "<div class=\"alert alert-danger\">\n",
    "<b>Reviewer's comment V6</b>\n",
    "\n",
    "Now we have a problem with a broken code here. I can't accept your work until all your code works properly.\n",
    "    \n",
    "Besides this, in this section you should not train any models or vectorizers. You should use already trained ones from previous sections. So, you should not use methods fit or fit_transform in the section 7 at all.\n",
    "    \n",
    "</div>\n",
    "\n",
    "<div class=\"alert alert-info\">\n",
    "<b>Student's comment V6 </b>\n",
    "\n",
    "Thanks for your patience. I resolved the issues above and the subsequent code works well in Jupyter except the BERT sections. Conclusion stayed the same.\n",
    "</div>"
   ]
  },
  {
   "cell_type": "markdown",
   "metadata": {
    "id": "LTKg83oOTag5"
   },
   "source": [
    "### **Model 3**"
   ]
  },
  {
   "cell_type": "code",
   "execution_count": 30,
   "metadata": {
    "id": "smlQGe4dTcRw"
   },
   "outputs": [
    {
     "name": "stdout",
     "output_type": "stream",
     "text": [
      "0.51:  I did not simply like it, not my kind of movie. This movie was poopie.\n",
      "0.32:  Well, I was bored and felt asleep in the middle of the movie.\n",
      "0.65:  I was really fascinated with the movie, but it was still kind of poopie.\n",
      "0.50:  Even the actors looked really old and disinterested, and they got paid to be in the movie. What a soulless cash grab.\n",
      "0.56:  I didn't expect the reboot to be so good! Writers really cared about the source material\n",
      "0.66:  The movie had its upsides and downsides, but I feel like overall it's a decent flick. I could see myself going to see it again.\n",
      "0.17:  What a rotten attempt at a comedy. Not a single joke lands, everyone acts annoying and loud, even kids won't like this!\n",
      "0.89:  Launching on Netflix was a brave move & I really appreciate being able to binge on episode after episode, of this exciting intelligent new drama.\n"
     ]
    }
   ],
   "source": [
    "# Fit the vectorizer to the processed reviews in the training set\n",
    "vectorizer_spacy.fit(df_reviews_train_spacy['processed_review_spacy'])\n",
    "\n",
    "# Initialize and train the Logistic Regression model\n",
    "model_lr = LogisticRegression()\n",
    "model_lr.fit(train_features_spacy, train_target)\n",
    "\n",
    "# Apply preprocessing to the normalized reviews\n",
    "my_reviews_spacy['processed_review'] = my_reviews['review_norm'].apply(preprocess_text_spacy)\n",
    "\n",
    "# Transform the normalized and processed reviews into TF-IDF features\n",
    "my_reviews_features_spacy = vectorizer_spacy.transform(my_reviews_spacy['review_norm'])\n",
    "\n",
    "# Predict probabilities for the new reviews using model2\n",
    "my_reviews_pred_prob_lr_spacy = model_lr.predict_proba(my_reviews_features_spacy)[:, 1]\n",
    "\n",
    "# Print the probabilities and the first 100 characters of each review\n",
    "for i, review in enumerate(my_reviews['review']):\n",
    "    print(f'{my_reviews_pred_prob_lr_spacy[i]:.2f}:  {review}')"
   ]
  },
  {
   "cell_type": "markdown",
   "metadata": {
    "id": "EZlRj8KBTf68"
   },
   "source": [
    "### **Model 4**"
   ]
  },
  {
   "cell_type": "code",
   "execution_count": 32,
   "metadata": {
    "id": "PV44k6ETThp4"
   },
   "outputs": [
    {
     "name": "stdout",
     "output_type": "stream",
     "text": [
      "0.59:  I did not simply like it, not my kind of movie. This movie was poopie.\n",
      "0.18:  Well, I was bored and felt asleep in the middle of the movie.\n",
      "0.60:  I was really fascinated with the movie, but it was still kind of poopie.\n",
      "0.52:  Even the actors looked really old and disinterested, and they got paid to be in the movie. What a soulless cash grab.\n",
      "0.67:  I didn't expect the reboot to be so good! Writers really cared about the source material\n",
      "0.69:  The movie had its upsides and downsides, but I feel like overall it's a decent flick. I could see myself going to see it again.\n",
      "0.27:  What a rotten attempt at a comedy. Not a single joke lands, everyone acts annoying and loud, even kids won't like this!\n",
      "0.87:  Launching on Netflix was a brave move & I really appreciate being able to binge on episode after episode, of this exciting intelligent new drama.\n"
     ]
    }
   ],
   "source": [
    "# Fit the vectorizer to the processed reviews in the training set\n",
    "vectorizer_spacy.fit(df_reviews_train_spacy['processed_review_spacy'])\n",
    "\n",
    "# Initialize and train the Logistic Regression model\n",
    "model_lgbm = LGBMClassifier()\n",
    "model_lgbm.fit(train_features_spacy, train_target)\n",
    "\n",
    "\n",
    "# Predict probabilities for the new reviews using model2\n",
    "my_reviews_pred_prob_lgbm_spacy = model_lgbm.predict_proba(my_reviews_features_spacy)[:, 1]\n",
    "\n",
    "# Print the probabilities and the first 100 characters of each review\n",
    "for i, review in enumerate(my_reviews['review']):\n",
    "    print(f'{my_reviews_pred_prob_lgbm_spacy[i]:.2f}:  {review}')"
   ]
  },
  {
   "cell_type": "markdown",
   "metadata": {
    "id": "5evPLrJFTjQO"
   },
   "source": [
    "### **Model 9**"
   ]
  },
  {
   "cell_type": "raw",
   "metadata": {
    "id": "Vk8LT1nuTlTX"
   },
   "source": [
    "# Get embeddings for train and test sets\n",
    "train_reviews = df_reviews_train['review'].astype(str).tolist()\n",
    "test_reviews = df_reviews_test['review'].astype(str).tolist()\n",
    "\n",
    "# Get embeddings for train and test sets\n",
    "train_features = BERT_text_to_embeddings(train_reviews)\n",
    "test_features = BERT_text_to_embeddings(test_reviews)\n",
    "\n",
    "# Initialize and train the LGBMClassifier model\n",
    "model_bert = LGBMClassifier()\n",
    "model_bert.fit(train_features_, train_target)\n",
    "\n",
    "\n",
    "# Get embeddings for the new reviews\n",
    "my_reviews_embeddings = BERT_text_to_embeddings(my_reviews['review'].astype(str).tolist())\n",
    "\n",
    "# Predict probabilities for the new reviews using model9\n",
    "my_reviews_pred_prob_model_bert = model_bert.predict_proba(my_reviews_embeddings)[:, 1]\n",
    "\n",
    "# Print the probabilities and the first 100 characters of each review\n",
    "for i, review in enumerate(my_reviews['review']):\n",
    "    print(f'{my_reviews_pred_prob_model_bert[i]:.2f}:  {review}')"
   ]
  },
  {
   "cell_type": "markdown",
   "metadata": {},
   "source": [
    "<div class=\"alert alert-danger\">\n",
    "<b>Reviewer's comment V2</b>\n",
    "\n",
    "You have extremely a lot of duplicate code in the section 7 in each cell. Please, remove it. You should use results from previous sections and not to repeat all the actions again.\n",
    "    \n",
    "</div>\n",
    "\n",
    "<div class=\"alert alert-info\">\n",
    "<b>Student's comment V2</b>\n",
    "    \n",
    "thanks for the feedback. I addressed it completely by reorganizing portions of the code. I am still running into the issue where the kernel dies with model9. Let me know if you have any suggestions. Otherwise, results are still the same.\n",
    "    \n",
    "</div>"
   ]
  },
  {
   "cell_type": "markdown",
   "metadata": {
    "id": "fQECtEbqTn27"
   },
   "source": [
    "## **Conclusions**\n",
    "\n",
    "The ocnclusion I have is that the LogisticRegression() model without hyperparametric tuning was superior in when compared to the other methods. The difference between spacy and lemmatization was not observed during the evaluation, however spacy performed between when predicting the 'pos' of the validation set. BERT had issues despite being the one of highest interest to me. I initially coded this in the Google IDE and had to buy additional computes to run it. It took several nights, but I was happy with the results. After moving to the Jupyter Notebook, I see that the dead kernel cannot be solved as easily. The final validation of model9 results in a dead kernel. Again, for this same reason, the redundancy in some sections could not be avoided.\n",
    "\n",
    "This assignment had too little direction and it was difficult to understand what was needed for the final section which I called validation. I am satisfied witthe results, but I do not know how to get around the dying kernel while running BERT embeddings."
   ]
  },
  {
   "cell_type": "markdown",
   "metadata": {},
   "source": [
    "<div class=\"alert alert-danger\">\n",
    "<b>Reviewer's comment V1</b>\n",
    "\n",
    "No conclusion\n",
    "\n",
    "</div>\n",
    "\n",
    "<div class=\"alert alert-info\">\n",
    "<b>Student's comment V1</b>"
   ]
  },
  {
   "cell_type": "markdown",
   "metadata": {},
   "source": [
    "<div class=\"alert alert-success\">\n",
    "<b>Reviewer's comment V2</b>\n",
    "\n",
    "Correct\n",
    "    \n",
    "</div>"
   ]
  },
  {
   "cell_type": "code",
   "execution_count": null,
   "metadata": {},
   "outputs": [],
   "source": []
  }
 ],
 "metadata": {
  "ExecuteTimeLog": [
   {
    "duration": 8,
    "start_time": "2024-11-02T21:44:15.277Z"
   },
   {
    "duration": 5,
    "start_time": "2024-11-02T21:44:47.493Z"
   },
   {
    "duration": 5,
    "start_time": "2024-11-02T21:47:15.393Z"
   },
   {
    "duration": 3,
    "start_time": "2024-11-02T21:47:57.781Z"
   },
   {
    "duration": 3,
    "start_time": "2024-11-02T21:48:17.200Z"
   },
   {
    "duration": 4,
    "start_time": "2024-11-02T21:48:35.005Z"
   },
   {
    "duration": 4770,
    "start_time": "2024-11-04T20:11:26.342Z"
   },
   {
    "duration": 12,
    "start_time": "2024-11-04T20:11:31.114Z"
   },
   {
    "duration": 0,
    "start_time": "2024-11-04T20:11:31.129Z"
   },
   {
    "duration": 0,
    "start_time": "2024-11-04T20:11:31.130Z"
   },
   {
    "duration": 0,
    "start_time": "2024-11-04T20:11:31.132Z"
   },
   {
    "duration": 0,
    "start_time": "2024-11-04T20:11:31.133Z"
   },
   {
    "duration": 0,
    "start_time": "2024-11-04T20:11:31.134Z"
   },
   {
    "duration": 0,
    "start_time": "2024-11-04T20:11:31.136Z"
   },
   {
    "duration": 0,
    "start_time": "2024-11-04T20:11:31.138Z"
   },
   {
    "duration": 0,
    "start_time": "2024-11-04T20:11:31.139Z"
   },
   {
    "duration": 0,
    "start_time": "2024-11-04T20:11:31.141Z"
   },
   {
    "duration": 0,
    "start_time": "2024-11-04T20:11:31.142Z"
   },
   {
    "duration": 0,
    "start_time": "2024-11-04T20:11:31.144Z"
   },
   {
    "duration": 0,
    "start_time": "2024-11-04T20:11:31.145Z"
   },
   {
    "duration": 0,
    "start_time": "2024-11-04T20:11:31.147Z"
   },
   {
    "duration": 0,
    "start_time": "2024-11-04T20:11:31.148Z"
   },
   {
    "duration": 0,
    "start_time": "2024-11-04T20:11:31.150Z"
   },
   {
    "duration": 0,
    "start_time": "2024-11-04T20:11:31.151Z"
   },
   {
    "duration": 0,
    "start_time": "2024-11-04T20:11:31.153Z"
   },
   {
    "duration": 0,
    "start_time": "2024-11-04T20:11:31.154Z"
   },
   {
    "duration": 0,
    "start_time": "2024-11-04T20:11:31.156Z"
   },
   {
    "duration": 0,
    "start_time": "2024-11-04T20:11:31.157Z"
   },
   {
    "duration": 0,
    "start_time": "2024-11-04T20:11:31.159Z"
   },
   {
    "duration": 0,
    "start_time": "2024-11-04T20:11:31.161Z"
   },
   {
    "duration": 0,
    "start_time": "2024-11-04T20:11:31.162Z"
   },
   {
    "duration": 0,
    "start_time": "2024-11-04T20:11:31.164Z"
   },
   {
    "duration": 0,
    "start_time": "2024-11-04T20:11:31.165Z"
   },
   {
    "duration": 0,
    "start_time": "2024-11-04T20:11:31.167Z"
   },
   {
    "duration": 0,
    "start_time": "2024-11-04T20:11:31.224Z"
   },
   {
    "duration": 0,
    "start_time": "2024-11-04T20:11:31.226Z"
   },
   {
    "duration": 4,
    "start_time": "2024-11-04T20:11:34.137Z"
   },
   {
    "duration": 4,
    "start_time": "2024-11-04T20:11:38.028Z"
   },
   {
    "duration": 2683,
    "start_time": "2024-11-04T20:11:40.468Z"
   },
   {
    "duration": 78,
    "start_time": "2024-11-04T20:11:43.153Z"
   },
   {
    "duration": 3388,
    "start_time": "2024-11-04T20:11:47.437Z"
   },
   {
    "duration": 667,
    "start_time": "2024-11-04T20:13:20.127Z"
   },
   {
    "duration": 8,
    "start_time": "2024-11-04T20:13:20.955Z"
   },
   {
    "duration": 305,
    "start_time": "2024-11-04T20:13:21.453Z"
   },
   {
    "duration": 4196,
    "start_time": "2024-11-04T20:13:23.966Z"
   },
   {
    "duration": 11,
    "start_time": "2024-11-04T20:13:28.165Z"
   },
   {
    "duration": 2222,
    "start_time": "2024-11-04T20:13:32.956Z"
   },
   {
    "duration": 53,
    "start_time": "2024-11-04T20:13:36.935Z"
   },
   {
    "duration": 20,
    "start_time": "2024-11-04T20:13:39.986Z"
   },
   {
    "duration": 571,
    "start_time": "2024-11-04T20:13:44.111Z"
   },
   {
    "duration": 504413,
    "start_time": "2024-11-04T20:13:50.570Z"
   },
   {
    "duration": 93358,
    "start_time": "2024-11-04T20:31:47.411Z"
   },
   {
    "duration": 160,
    "start_time": "2024-11-04T20:36:04.682Z"
   },
   {
    "duration": 1447,
    "start_time": "2024-11-04T20:36:14.606Z"
   },
   {
    "duration": 1247,
    "start_time": "2024-11-04T20:36:20.787Z"
   },
   {
    "duration": 322,
    "start_time": "2024-11-04T20:37:14.121Z"
   },
   {
    "duration": 180,
    "start_time": "2024-11-04T20:37:19.794Z"
   },
   {
    "duration": 14,
    "start_time": "2024-11-04T20:39:25.657Z"
   },
   {
    "duration": 2999,
    "start_time": "2024-11-04T20:39:41.079Z"
   },
   {
    "duration": 5,
    "start_time": "2024-11-04T20:39:45.881Z"
   },
   {
    "duration": 2737,
    "start_time": "2024-11-04T20:39:47.005Z"
   },
   {
    "duration": 69,
    "start_time": "2024-11-04T20:39:49.744Z"
   },
   {
    "duration": 11,
    "start_time": "2024-11-04T20:39:51.535Z"
   },
   {
    "duration": 2236,
    "start_time": "2024-11-04T20:39:54.381Z"
   },
   {
    "duration": 56,
    "start_time": "2024-11-04T20:39:56.700Z"
   },
   {
    "duration": 336,
    "start_time": "2024-11-04T20:40:04.373Z"
   },
   {
    "duration": 22,
    "start_time": "2024-11-04T20:40:10.811Z"
   },
   {
    "duration": 91919,
    "start_time": "2024-11-04T20:40:12.826Z"
   },
   {
    "duration": 492399,
    "start_time": "2024-11-04T20:41:44.747Z"
   },
   {
    "duration": 0,
    "start_time": "2024-11-04T20:49:57.148Z"
   },
   {
    "duration": 4597,
    "start_time": "2024-11-04T20:52:04.120Z"
   },
   {
    "duration": 3108,
    "start_time": "2024-11-04T22:27:34.041Z"
   },
   {
    "duration": 8,
    "start_time": "2024-11-04T22:27:37.151Z"
   },
   {
    "duration": 0,
    "start_time": "2024-11-04T22:27:37.161Z"
   },
   {
    "duration": 0,
    "start_time": "2024-11-04T22:27:37.163Z"
   },
   {
    "duration": 0,
    "start_time": "2024-11-04T22:27:37.164Z"
   },
   {
    "duration": 0,
    "start_time": "2024-11-04T22:27:37.165Z"
   },
   {
    "duration": 0,
    "start_time": "2024-11-04T22:27:37.166Z"
   },
   {
    "duration": 0,
    "start_time": "2024-11-04T22:27:37.167Z"
   },
   {
    "duration": 0,
    "start_time": "2024-11-04T22:27:37.168Z"
   },
   {
    "duration": 0,
    "start_time": "2024-11-04T22:27:37.169Z"
   },
   {
    "duration": 0,
    "start_time": "2024-11-04T22:27:37.170Z"
   },
   {
    "duration": 0,
    "start_time": "2024-11-04T22:27:37.171Z"
   },
   {
    "duration": 0,
    "start_time": "2024-11-04T22:27:37.172Z"
   },
   {
    "duration": 0,
    "start_time": "2024-11-04T22:27:37.173Z"
   },
   {
    "duration": 0,
    "start_time": "2024-11-04T22:27:37.174Z"
   },
   {
    "duration": 0,
    "start_time": "2024-11-04T22:27:37.176Z"
   },
   {
    "duration": 0,
    "start_time": "2024-11-04T22:27:37.177Z"
   },
   {
    "duration": 0,
    "start_time": "2024-11-04T22:27:37.180Z"
   },
   {
    "duration": 0,
    "start_time": "2024-11-04T22:27:37.181Z"
   },
   {
    "duration": 1,
    "start_time": "2024-11-04T22:27:37.182Z"
   },
   {
    "duration": 0,
    "start_time": "2024-11-04T22:27:37.184Z"
   },
   {
    "duration": 0,
    "start_time": "2024-11-04T22:27:37.185Z"
   },
   {
    "duration": 0,
    "start_time": "2024-11-04T22:27:37.187Z"
   },
   {
    "duration": 0,
    "start_time": "2024-11-04T22:27:37.188Z"
   },
   {
    "duration": 0,
    "start_time": "2024-11-04T22:27:37.188Z"
   },
   {
    "duration": 0,
    "start_time": "2024-11-04T22:27:37.189Z"
   },
   {
    "duration": 0,
    "start_time": "2024-11-04T22:27:37.189Z"
   },
   {
    "duration": 0,
    "start_time": "2024-11-04T22:27:37.190Z"
   },
   {
    "duration": 0,
    "start_time": "2024-11-04T22:27:37.190Z"
   },
   {
    "duration": 0,
    "start_time": "2024-11-04T22:27:37.191Z"
   },
   {
    "duration": 3,
    "start_time": "2024-11-04T22:29:05.691Z"
   },
   {
    "duration": 2684,
    "start_time": "2024-11-04T22:29:07.264Z"
   },
   {
    "duration": 207,
    "start_time": "2024-11-04T22:29:09.951Z"
   },
   {
    "duration": 5105,
    "start_time": "2024-11-05T21:00:57.094Z"
   },
   {
    "duration": 8,
    "start_time": "2024-11-05T21:01:02.201Z"
   },
   {
    "duration": 0,
    "start_time": "2024-11-05T21:01:02.212Z"
   },
   {
    "duration": 0,
    "start_time": "2024-11-05T21:01:02.214Z"
   },
   {
    "duration": 0,
    "start_time": "2024-11-05T21:01:02.215Z"
   },
   {
    "duration": 0,
    "start_time": "2024-11-05T21:01:02.217Z"
   },
   {
    "duration": 0,
    "start_time": "2024-11-05T21:01:02.218Z"
   },
   {
    "duration": 0,
    "start_time": "2024-11-05T21:01:02.219Z"
   },
   {
    "duration": 0,
    "start_time": "2024-11-05T21:01:02.221Z"
   },
   {
    "duration": 0,
    "start_time": "2024-11-05T21:01:02.222Z"
   },
   {
    "duration": 0,
    "start_time": "2024-11-05T21:01:02.224Z"
   },
   {
    "duration": 0,
    "start_time": "2024-11-05T21:01:02.225Z"
   },
   {
    "duration": 0,
    "start_time": "2024-11-05T21:01:02.227Z"
   },
   {
    "duration": 0,
    "start_time": "2024-11-05T21:01:02.229Z"
   },
   {
    "duration": 0,
    "start_time": "2024-11-05T21:01:02.230Z"
   },
   {
    "duration": 0,
    "start_time": "2024-11-05T21:01:02.232Z"
   },
   {
    "duration": 0,
    "start_time": "2024-11-05T21:01:02.233Z"
   },
   {
    "duration": 0,
    "start_time": "2024-11-05T21:01:02.235Z"
   },
   {
    "duration": 0,
    "start_time": "2024-11-05T21:01:02.237Z"
   },
   {
    "duration": 0,
    "start_time": "2024-11-05T21:01:02.269Z"
   },
   {
    "duration": 0,
    "start_time": "2024-11-05T21:01:02.271Z"
   },
   {
    "duration": 0,
    "start_time": "2024-11-05T21:01:02.272Z"
   },
   {
    "duration": 0,
    "start_time": "2024-11-05T21:01:02.274Z"
   },
   {
    "duration": 0,
    "start_time": "2024-11-05T21:01:02.275Z"
   },
   {
    "duration": 0,
    "start_time": "2024-11-05T21:01:02.276Z"
   },
   {
    "duration": 0,
    "start_time": "2024-11-05T21:01:02.277Z"
   },
   {
    "duration": 0,
    "start_time": "2024-11-05T21:01:02.278Z"
   },
   {
    "duration": 0,
    "start_time": "2024-11-05T21:01:02.280Z"
   },
   {
    "duration": 0,
    "start_time": "2024-11-05T21:01:02.281Z"
   },
   {
    "duration": 0,
    "start_time": "2024-11-05T21:01:02.282Z"
   },
   {
    "duration": 3,
    "start_time": "2024-11-05T21:01:07.222Z"
   },
   {
    "duration": 2808,
    "start_time": "2024-11-05T21:01:09.734Z"
   },
   {
    "duration": 75,
    "start_time": "2024-11-05T21:01:13.972Z"
   },
   {
    "duration": 3409,
    "start_time": "2024-11-05T21:01:17.965Z"
   },
   {
    "duration": 704,
    "start_time": "2024-11-05T21:01:21.377Z"
   },
   {
    "duration": 6,
    "start_time": "2024-11-05T21:01:22.083Z"
   },
   {
    "duration": 322,
    "start_time": "2024-11-05T21:01:22.092Z"
   },
   {
    "duration": 4227,
    "start_time": "2024-11-05T21:01:22.416Z"
   },
   {
    "duration": 91,
    "start_time": "2024-11-05T21:01:26.645Z"
   },
   {
    "duration": 13,
    "start_time": "2024-11-05T21:01:26.738Z"
   },
   {
    "duration": 2249,
    "start_time": "2024-11-05T21:01:28.815Z"
   },
   {
    "duration": 55,
    "start_time": "2024-11-05T21:01:31.066Z"
   },
   {
    "duration": 20,
    "start_time": "2024-11-05T21:01:34.852Z"
   },
   {
    "duration": 572,
    "start_time": "2024-11-05T21:01:37.093Z"
   },
   {
    "duration": 93040,
    "start_time": "2024-11-05T21:01:41.682Z"
   },
   {
    "duration": 505064,
    "start_time": "2024-11-05T21:03:14.725Z"
   },
   {
    "duration": 0,
    "start_time": "2024-11-05T21:11:39.791Z"
   },
   {
    "duration": 0,
    "start_time": "2024-11-05T21:11:39.792Z"
   },
   {
    "duration": 0,
    "start_time": "2024-11-05T21:11:39.794Z"
   },
   {
    "duration": 0,
    "start_time": "2024-11-05T21:11:39.795Z"
   },
   {
    "duration": 0,
    "start_time": "2024-11-05T21:11:39.796Z"
   },
   {
    "duration": 0,
    "start_time": "2024-11-05T21:11:39.797Z"
   },
   {
    "duration": 496402,
    "start_time": "2024-11-05T21:12:50.587Z"
   },
   {
    "duration": 501767,
    "start_time": "2024-11-05T21:23:38.567Z"
   },
   {
    "duration": 557127,
    "start_time": "2024-11-05T21:34:18.998Z"
   },
   {
    "duration": 508350,
    "start_time": "2024-11-05T21:46:23.482Z"
   },
   {
    "duration": 526043,
    "start_time": "2024-11-05T22:18:29.584Z"
   },
   {
    "duration": 526797,
    "start_time": "2024-11-05T22:41:00.819Z"
   },
   {
    "duration": 1451,
    "start_time": "2024-11-05T23:04:05.607Z"
   },
   {
    "duration": 1312,
    "start_time": "2024-11-05T23:04:10.459Z"
   },
   {
    "duration": 337,
    "start_time": "2024-11-05T23:18:43.883Z"
   },
   {
    "duration": 190,
    "start_time": "2024-11-05T23:19:23.296Z"
   },
   {
    "duration": 5,
    "start_time": "2024-11-05T23:27:06.287Z"
   },
   {
    "duration": 16,
    "start_time": "2024-11-05T23:27:12.570Z"
   },
   {
    "duration": 108,
    "start_time": "2024-11-05T23:27:58.352Z"
   },
   {
    "duration": 19,
    "start_time": "2024-11-05T23:28:12.279Z"
   },
   {
    "duration": 2904,
    "start_time": "2024-11-05T23:28:24.845Z"
   },
   {
    "duration": 925,
    "start_time": "2024-11-05T23:28:29.420Z"
   },
   {
    "duration": 357,
    "start_time": "2024-11-05T23:29:12.795Z"
   },
   {
    "duration": 329,
    "start_time": "2024-11-05T23:29:33.384Z"
   },
   {
    "duration": 8,
    "start_time": "2024-11-05T23:32:19.298Z"
   },
   {
    "duration": 52,
    "start_time": "2024-11-05T23:34:23.750Z"
   },
   {
    "duration": 496954,
    "start_time": "2024-11-05T23:34:59.334Z"
   },
   {
    "duration": 537164,
    "start_time": "2024-11-05T23:48:29.106Z"
   },
   {
    "duration": 92141,
    "start_time": "2024-11-06T00:09:39.947Z"
   },
   {
    "duration": 90377,
    "start_time": "2024-11-06T00:12:24.908Z"
   },
   {
    "duration": 7,
    "start_time": "2024-11-06T00:14:49.454Z"
   },
   {
    "duration": 90554,
    "start_time": "2024-11-06T00:15:02.022Z"
   },
   {
    "duration": 514154,
    "start_time": "2024-11-06T00:18:23.351Z"
   },
   {
    "duration": 20,
    "start_time": "2024-11-06T00:27:26.504Z"
   },
   {
    "duration": 173,
    "start_time": "2024-11-06T00:35:56.242Z"
   },
   {
    "duration": 7065,
    "start_time": "2024-11-06T00:48:05.295Z"
   },
   {
    "duration": 35,
    "start_time": "2024-11-06T00:53:21.464Z"
   },
   {
    "duration": 172,
    "start_time": "2024-11-06T00:55:37.877Z"
   },
   {
    "duration": 4882,
    "start_time": "2024-11-06T21:37:41.209Z"
   },
   {
    "duration": 8,
    "start_time": "2024-11-06T21:37:46.093Z"
   },
   {
    "duration": 0,
    "start_time": "2024-11-06T21:37:46.104Z"
   },
   {
    "duration": 0,
    "start_time": "2024-11-06T21:37:46.105Z"
   },
   {
    "duration": 0,
    "start_time": "2024-11-06T21:37:46.106Z"
   },
   {
    "duration": 0,
    "start_time": "2024-11-06T21:37:46.107Z"
   },
   {
    "duration": 0,
    "start_time": "2024-11-06T21:37:46.108Z"
   },
   {
    "duration": 0,
    "start_time": "2024-11-06T21:37:46.110Z"
   },
   {
    "duration": 0,
    "start_time": "2024-11-06T21:37:46.111Z"
   },
   {
    "duration": 0,
    "start_time": "2024-11-06T21:37:46.113Z"
   },
   {
    "duration": 0,
    "start_time": "2024-11-06T21:37:46.114Z"
   },
   {
    "duration": 0,
    "start_time": "2024-11-06T21:37:46.115Z"
   },
   {
    "duration": 0,
    "start_time": "2024-11-06T21:37:46.116Z"
   },
   {
    "duration": 0,
    "start_time": "2024-11-06T21:37:46.118Z"
   },
   {
    "duration": 0,
    "start_time": "2024-11-06T21:37:46.120Z"
   },
   {
    "duration": 0,
    "start_time": "2024-11-06T21:37:46.121Z"
   },
   {
    "duration": 0,
    "start_time": "2024-11-06T21:37:46.123Z"
   },
   {
    "duration": 0,
    "start_time": "2024-11-06T21:37:46.124Z"
   },
   {
    "duration": 0,
    "start_time": "2024-11-06T21:37:46.126Z"
   },
   {
    "duration": 0,
    "start_time": "2024-11-06T21:37:46.127Z"
   },
   {
    "duration": 0,
    "start_time": "2024-11-06T21:37:46.128Z"
   },
   {
    "duration": 0,
    "start_time": "2024-11-06T21:37:46.130Z"
   },
   {
    "duration": 0,
    "start_time": "2024-11-06T21:37:46.131Z"
   },
   {
    "duration": 0,
    "start_time": "2024-11-06T21:37:46.132Z"
   },
   {
    "duration": 0,
    "start_time": "2024-11-06T21:37:46.133Z"
   },
   {
    "duration": 0,
    "start_time": "2024-11-06T21:37:46.135Z"
   },
   {
    "duration": 0,
    "start_time": "2024-11-06T21:37:46.136Z"
   },
   {
    "duration": 0,
    "start_time": "2024-11-06T21:37:46.186Z"
   },
   {
    "duration": 0,
    "start_time": "2024-11-06T21:37:46.188Z"
   },
   {
    "duration": 2,
    "start_time": "2024-11-06T21:42:53.801Z"
   },
   {
    "duration": 2733,
    "start_time": "2024-11-06T21:42:56.286Z"
   },
   {
    "duration": 72,
    "start_time": "2024-11-06T21:43:00.883Z"
   },
   {
    "duration": 3423,
    "start_time": "2024-11-06T21:43:05.376Z"
   },
   {
    "duration": 712,
    "start_time": "2024-11-06T21:43:08.801Z"
   },
   {
    "duration": 5,
    "start_time": "2024-11-06T21:43:09.516Z"
   },
   {
    "duration": 371,
    "start_time": "2024-11-06T21:43:09.523Z"
   },
   {
    "duration": 4251,
    "start_time": "2024-11-06T21:43:12.531Z"
   },
   {
    "duration": 77,
    "start_time": "2024-11-06T21:43:16.784Z"
   },
   {
    "duration": 11,
    "start_time": "2024-11-06T22:03:45.882Z"
   },
   {
    "duration": 3,
    "start_time": "2024-11-06T22:03:50.369Z"
   },
   {
    "duration": 42,
    "start_time": "2024-11-06T22:03:54.357Z"
   },
   {
    "duration": 3,
    "start_time": "2024-11-06T22:03:54.834Z"
   },
   {
    "duration": 610,
    "start_time": "2024-11-06T22:03:55.741Z"
   },
   {
    "duration": 48,
    "start_time": "2024-11-06T22:05:25.084Z"
   },
   {
    "duration": 65534,
    "start_time": "2024-11-06T22:05:30.138Z"
   },
   {
    "duration": 1536,
    "start_time": "2024-11-06T22:08:52.000Z"
   },
   {
    "duration": 68184,
    "start_time": "2024-11-06T22:08:56.308Z"
   },
   {
    "duration": 5564,
    "start_time": "2024-11-06T22:11:16.883Z"
   },
   {
    "duration": 356,
    "start_time": "2024-11-06T22:13:25.485Z"
   },
   {
    "duration": 6902,
    "start_time": "2024-11-06T22:13:28.142Z"
   },
   {
    "duration": 6895,
    "start_time": "2024-11-06T22:14:16.228Z"
   },
   {
    "duration": 34071,
    "start_time": "2024-11-06T22:14:23.126Z"
   },
   {
    "duration": 1469,
    "start_time": "2024-11-06T22:17:16.779Z"
   },
   {
    "duration": 5,
    "start_time": "2024-11-06T22:17:20.409Z"
   },
   {
    "duration": 15842,
    "start_time": "2024-11-06T22:17:22.799Z"
   },
   {
    "duration": 0,
    "start_time": "2024-11-06T22:17:38.643Z"
   },
   {
    "duration": 5,
    "start_time": "2024-11-06T22:18:01.736Z"
   },
   {
    "duration": 158,
    "start_time": "2024-11-06T22:18:22.453Z"
   },
   {
    "duration": 12,
    "start_time": "2024-11-06T22:18:24.943Z"
   },
   {
    "duration": 17,
    "start_time": "2024-11-06T22:18:34.809Z"
   },
   {
    "duration": 5,
    "start_time": "2024-11-06T22:18:38.604Z"
   },
   {
    "duration": 13,
    "start_time": "2024-11-06T22:18:43.442Z"
   },
   {
    "duration": 12,
    "start_time": "2024-11-06T22:18:57.690Z"
   },
   {
    "duration": 3310,
    "start_time": "2024-11-06T22:19:03.020Z"
   },
   {
    "duration": 5,
    "start_time": "2024-11-06T22:19:07.084Z"
   },
   {
    "duration": 2741,
    "start_time": "2024-11-06T22:19:07.657Z"
   },
   {
    "duration": 10,
    "start_time": "2024-11-06T22:19:13.362Z"
   },
   {
    "duration": 3,
    "start_time": "2024-11-06T22:19:15.365Z"
   },
   {
    "duration": 45,
    "start_time": "2024-11-06T22:19:17.362Z"
   },
   {
    "duration": 406,
    "start_time": "2024-11-06T22:19:20.457Z"
   },
   {
    "duration": 25,
    "start_time": "2024-11-06T22:20:02.545Z"
   },
   {
    "duration": 3,
    "start_time": "2024-11-06T22:20:28.869Z"
   },
   {
    "duration": 21,
    "start_time": "2024-11-06T22:20:30.748Z"
   },
   {
    "duration": 66478,
    "start_time": "2024-11-06T22:20:38.539Z"
   },
   {
    "duration": 1517,
    "start_time": "2024-11-06T22:22:04.957Z"
   },
   {
    "duration": 21,
    "start_time": "2024-11-06T22:22:14.437Z"
   },
   {
    "duration": 2758,
    "start_time": "2024-11-06T22:22:26.121Z"
   },
   {
    "duration": 601,
    "start_time": "2024-11-06T22:22:35.578Z"
   },
   {
    "duration": 5637,
    "start_time": "2024-11-06T22:22:39.283Z"
   },
   {
    "duration": 1305,
    "start_time": "2024-11-06T22:22:47.849Z"
   },
   {
    "duration": 34874,
    "start_time": "2024-11-06T22:22:52.990Z"
   },
   {
    "duration": 0,
    "start_time": "2024-11-06T22:23:27.868Z"
   },
   {
    "duration": 0,
    "start_time": "2024-11-06T22:23:27.870Z"
   },
   {
    "duration": 0,
    "start_time": "2024-11-06T22:23:27.871Z"
   },
   {
    "duration": 0,
    "start_time": "2024-11-06T22:23:27.873Z"
   },
   {
    "duration": 1507,
    "start_time": "2024-11-06T22:26:45.808Z"
   },
   {
    "duration": 38200,
    "start_time": "2024-11-06T22:26:53.773Z"
   },
   {
    "duration": 1532,
    "start_time": "2024-11-06T22:27:44.415Z"
   },
   {
    "duration": 5,
    "start_time": "2024-11-06T22:27:54.135Z"
   },
   {
    "duration": 160,
    "start_time": "2024-11-06T22:28:38.984Z"
   },
   {
    "duration": 4976,
    "start_time": "2024-11-06T23:10:16.860Z"
   },
   {
    "duration": 8,
    "start_time": "2024-11-06T23:10:21.838Z"
   },
   {
    "duration": 0,
    "start_time": "2024-11-06T23:10:21.848Z"
   },
   {
    "duration": 0,
    "start_time": "2024-11-06T23:10:21.849Z"
   },
   {
    "duration": 0,
    "start_time": "2024-11-06T23:10:21.851Z"
   },
   {
    "duration": 0,
    "start_time": "2024-11-06T23:10:21.852Z"
   },
   {
    "duration": 0,
    "start_time": "2024-11-06T23:10:21.854Z"
   },
   {
    "duration": 0,
    "start_time": "2024-11-06T23:10:21.856Z"
   },
   {
    "duration": 0,
    "start_time": "2024-11-06T23:10:21.857Z"
   },
   {
    "duration": 0,
    "start_time": "2024-11-06T23:10:21.859Z"
   },
   {
    "duration": 0,
    "start_time": "2024-11-06T23:10:21.860Z"
   },
   {
    "duration": 0,
    "start_time": "2024-11-06T23:10:21.861Z"
   },
   {
    "duration": 1,
    "start_time": "2024-11-06T23:10:21.865Z"
   },
   {
    "duration": 0,
    "start_time": "2024-11-06T23:10:21.867Z"
   },
   {
    "duration": 0,
    "start_time": "2024-11-06T23:10:21.868Z"
   },
   {
    "duration": 0,
    "start_time": "2024-11-06T23:10:21.870Z"
   },
   {
    "duration": 0,
    "start_time": "2024-11-06T23:10:21.871Z"
   },
   {
    "duration": 0,
    "start_time": "2024-11-06T23:10:21.873Z"
   },
   {
    "duration": 3,
    "start_time": "2024-11-06T23:10:39.124Z"
   },
   {
    "duration": 2806,
    "start_time": "2024-11-06T23:10:39.911Z"
   },
   {
    "duration": 72,
    "start_time": "2024-11-06T23:10:43.707Z"
   },
   {
    "duration": 3488,
    "start_time": "2024-11-06T23:10:44.055Z"
   },
   {
    "duration": 681,
    "start_time": "2024-11-06T23:10:47.546Z"
   },
   {
    "duration": 14,
    "start_time": "2024-11-06T23:10:48.229Z"
   },
   {
    "duration": 303,
    "start_time": "2024-11-06T23:10:48.244Z"
   },
   {
    "duration": 4294,
    "start_time": "2024-11-06T23:10:48.549Z"
   },
   {
    "duration": 82,
    "start_time": "2024-11-06T23:10:52.845Z"
   },
   {
    "duration": 23,
    "start_time": "2024-11-06T23:10:52.929Z"
   },
   {
    "duration": 5,
    "start_time": "2024-11-06T23:10:52.954Z"
   },
   {
    "duration": 46,
    "start_time": "2024-11-06T23:10:52.960Z"
   },
   {
    "duration": 3,
    "start_time": "2024-11-06T23:10:53.009Z"
   },
   {
    "duration": 614,
    "start_time": "2024-11-06T23:10:53.014Z"
   },
   {
    "duration": 0,
    "start_time": "2024-11-06T23:10:53.630Z"
   },
   {
    "duration": 0,
    "start_time": "2024-11-06T23:10:53.631Z"
   },
   {
    "duration": 0,
    "start_time": "2024-11-06T23:10:53.631Z"
   },
   {
    "duration": 0,
    "start_time": "2024-11-06T23:10:53.633Z"
   },
   {
    "duration": 6,
    "start_time": "2024-11-06T23:12:38.576Z"
   },
   {
    "duration": 5630,
    "start_time": "2024-11-07T16:54:14.757Z"
   },
   {
    "duration": 7,
    "start_time": "2024-11-07T16:54:20.389Z"
   },
   {
    "duration": 0,
    "start_time": "2024-11-07T16:54:20.400Z"
   },
   {
    "duration": 0,
    "start_time": "2024-11-07T16:54:20.401Z"
   },
   {
    "duration": 0,
    "start_time": "2024-11-07T16:54:20.402Z"
   },
   {
    "duration": 0,
    "start_time": "2024-11-07T16:54:20.405Z"
   },
   {
    "duration": 0,
    "start_time": "2024-11-07T16:54:20.406Z"
   },
   {
    "duration": 0,
    "start_time": "2024-11-07T16:54:20.406Z"
   },
   {
    "duration": 0,
    "start_time": "2024-11-07T16:54:20.407Z"
   },
   {
    "duration": 0,
    "start_time": "2024-11-07T16:54:20.408Z"
   },
   {
    "duration": 0,
    "start_time": "2024-11-07T16:54:20.409Z"
   },
   {
    "duration": 0,
    "start_time": "2024-11-07T16:54:20.410Z"
   },
   {
    "duration": 0,
    "start_time": "2024-11-07T16:54:20.411Z"
   },
   {
    "duration": 0,
    "start_time": "2024-11-07T16:54:20.412Z"
   },
   {
    "duration": 0,
    "start_time": "2024-11-07T16:54:20.412Z"
   },
   {
    "duration": 0,
    "start_time": "2024-11-07T16:54:20.413Z"
   },
   {
    "duration": 0,
    "start_time": "2024-11-07T16:54:20.414Z"
   },
   {
    "duration": 0,
    "start_time": "2024-11-07T16:54:20.415Z"
   },
   {
    "duration": 0,
    "start_time": "2024-11-07T16:54:20.415Z"
   },
   {
    "duration": 0,
    "start_time": "2024-11-07T16:54:20.416Z"
   },
   {
    "duration": 0,
    "start_time": "2024-11-07T16:54:20.417Z"
   },
   {
    "duration": 0,
    "start_time": "2024-11-07T16:54:20.418Z"
   },
   {
    "duration": 0,
    "start_time": "2024-11-07T16:54:20.419Z"
   },
   {
    "duration": 0,
    "start_time": "2024-11-07T16:54:20.419Z"
   },
   {
    "duration": 0,
    "start_time": "2024-11-07T16:54:20.424Z"
   },
   {
    "duration": 0,
    "start_time": "2024-11-07T16:54:20.428Z"
   },
   {
    "duration": 0,
    "start_time": "2024-11-07T16:54:20.430Z"
   },
   {
    "duration": 0,
    "start_time": "2024-11-07T16:54:20.434Z"
   },
   {
    "duration": 0,
    "start_time": "2024-11-07T16:54:20.437Z"
   },
   {
    "duration": 0,
    "start_time": "2024-11-07T16:54:20.438Z"
   },
   {
    "duration": 0,
    "start_time": "2024-11-07T16:54:20.439Z"
   },
   {
    "duration": 0,
    "start_time": "2024-11-07T16:54:20.441Z"
   },
   {
    "duration": 0,
    "start_time": "2024-11-07T16:54:20.442Z"
   },
   {
    "duration": 0,
    "start_time": "2024-11-07T16:54:20.443Z"
   },
   {
    "duration": 3,
    "start_time": "2024-11-07T17:03:33.938Z"
   },
   {
    "duration": 3001,
    "start_time": "2024-11-07T17:03:34.598Z"
   },
   {
    "duration": 82,
    "start_time": "2024-11-07T17:03:37.604Z"
   },
   {
    "duration": 3826,
    "start_time": "2024-11-07T17:03:39.395Z"
   },
   {
    "duration": 747,
    "start_time": "2024-11-07T17:03:43.224Z"
   },
   {
    "duration": 6,
    "start_time": "2024-11-07T17:03:43.974Z"
   },
   {
    "duration": 312,
    "start_time": "2024-11-07T17:03:43.982Z"
   },
   {
    "duration": 4526,
    "start_time": "2024-11-07T17:03:44.296Z"
   },
   {
    "duration": 93,
    "start_time": "2024-11-07T17:03:48.824Z"
   },
   {
    "duration": 14,
    "start_time": "2024-11-07T17:03:48.919Z"
   },
   {
    "duration": 4,
    "start_time": "2024-11-07T17:10:26.636Z"
   },
   {
    "duration": 40,
    "start_time": "2024-11-07T17:10:28.720Z"
   },
   {
    "duration": 47,
    "start_time": "2024-11-07T17:10:32.222Z"
   },
   {
    "duration": 3,
    "start_time": "2024-11-07T17:10:34.548Z"
   },
   {
    "duration": 64415,
    "start_time": "2024-11-07T17:10:35.591Z"
   },
   {
    "duration": 1473,
    "start_time": "2024-11-07T17:12:30.944Z"
   },
   {
    "duration": 2818,
    "start_time": "2024-11-07T17:12:32.419Z"
   },
   {
    "duration": 540,
    "start_time": "2024-11-07T17:12:36.769Z"
   },
   {
    "duration": 5517,
    "start_time": "2024-11-07T17:12:40.341Z"
   },
   {
    "duration": 594,
    "start_time": "2024-11-07T17:14:00.985Z"
   },
   {
    "duration": 4692,
    "start_time": "2024-11-07T17:14:03.667Z"
   },
   {
    "duration": 65150,
    "start_time": "2024-11-07T17:18:30.355Z"
   },
   {
    "duration": 3953,
    "start_time": "2024-11-07T17:22:20.906Z"
   },
   {
    "duration": 64988,
    "start_time": "2024-11-07T17:22:34.152Z"
   },
   {
    "duration": 1449,
    "start_time": "2024-11-07T17:25:48.408Z"
   },
   {
    "duration": 2736,
    "start_time": "2024-11-07T17:25:49.939Z"
   },
   {
    "duration": 548,
    "start_time": "2024-11-07T17:25:53.810Z"
   },
   {
    "duration": 5550,
    "start_time": "2024-11-07T17:25:57.373Z"
   },
   {
    "duration": 374,
    "start_time": "2024-11-07T17:31:39.661Z"
   },
   {
    "duration": 140,
    "start_time": "2024-11-07T17:31:58.743Z"
   },
   {
    "duration": 69,
    "start_time": "2024-11-07T17:32:13.745Z"
   },
   {
    "duration": 35,
    "start_time": "2024-11-07T17:34:05.018Z"
   },
   {
    "duration": 3,
    "start_time": "2024-11-07T17:34:10.355Z"
   },
   {
    "duration": 3,
    "start_time": "2024-11-07T17:34:11.555Z"
   },
   {
    "duration": 65536,
    "start_time": "2024-11-07T17:34:12.543Z"
   },
   {
    "duration": 1462,
    "start_time": "2024-11-07T17:35:51.913Z"
   },
   {
    "duration": 2659,
    "start_time": "2024-11-07T17:35:53.787Z"
   },
   {
    "duration": 568,
    "start_time": "2024-11-07T17:35:58.910Z"
   },
   {
    "duration": 5644,
    "start_time": "2024-11-07T17:36:03.540Z"
   },
   {
    "duration": 98,
    "start_time": "2024-11-07T17:42:11.691Z"
   },
   {
    "duration": 28,
    "start_time": "2024-11-07T17:42:25.719Z"
   },
   {
    "duration": 111,
    "start_time": "2024-11-07T17:43:17.650Z"
   },
   {
    "duration": 49,
    "start_time": "2024-11-07T17:44:47.288Z"
   },
   {
    "duration": 3,
    "start_time": "2024-11-07T17:45:08.566Z"
   },
   {
    "duration": 3,
    "start_time": "2024-11-07T17:45:09.216Z"
   },
   {
    "duration": 65307,
    "start_time": "2024-11-07T17:45:09.763Z"
   },
   {
    "duration": 1485,
    "start_time": "2024-11-07T17:48:36.036Z"
   },
   {
    "duration": 2723,
    "start_time": "2024-11-07T17:48:37.980Z"
   },
   {
    "duration": 5992,
    "start_time": "2024-11-07T17:48:45.119Z"
   },
   {
    "duration": 294,
    "start_time": "2024-11-07T17:50:09.438Z"
   },
   {
    "duration": 6661,
    "start_time": "2024-11-07T17:50:13.846Z"
   },
   {
    "duration": 6882,
    "start_time": "2024-11-07T17:54:39.718Z"
   },
   {
    "duration": 37622,
    "start_time": "2024-11-07T17:54:46.603Z"
   },
   {
    "duration": 1538,
    "start_time": "2024-11-07T17:56:18.128Z"
   },
   {
    "duration": 6,
    "start_time": "2024-11-07T17:56:19.668Z"
   },
   {
    "duration": 156,
    "start_time": "2024-11-07T17:56:56.232Z"
   },
   {
    "duration": 3106,
    "start_time": "2024-11-07T17:57:02.726Z"
   },
   {
    "duration": 7,
    "start_time": "2024-11-07T17:57:05.834Z"
   },
   {
    "duration": 0,
    "start_time": "2024-11-07T17:57:05.844Z"
   },
   {
    "duration": 0,
    "start_time": "2024-11-07T17:57:05.846Z"
   },
   {
    "duration": 0,
    "start_time": "2024-11-07T17:57:05.847Z"
   },
   {
    "duration": 0,
    "start_time": "2024-11-07T17:57:05.849Z"
   },
   {
    "duration": 0,
    "start_time": "2024-11-07T17:57:05.850Z"
   },
   {
    "duration": 0,
    "start_time": "2024-11-07T17:57:05.851Z"
   },
   {
    "duration": 0,
    "start_time": "2024-11-07T17:57:05.852Z"
   },
   {
    "duration": 0,
    "start_time": "2024-11-07T17:57:05.854Z"
   },
   {
    "duration": 0,
    "start_time": "2024-11-07T17:57:05.855Z"
   },
   {
    "duration": 0,
    "start_time": "2024-11-07T17:57:05.856Z"
   },
   {
    "duration": 0,
    "start_time": "2024-11-07T17:57:05.857Z"
   },
   {
    "duration": 0,
    "start_time": "2024-11-07T17:57:05.858Z"
   },
   {
    "duration": 0,
    "start_time": "2024-11-07T17:57:05.859Z"
   },
   {
    "duration": 0,
    "start_time": "2024-11-07T17:57:05.860Z"
   },
   {
    "duration": 0,
    "start_time": "2024-11-07T17:57:05.861Z"
   },
   {
    "duration": 0,
    "start_time": "2024-11-07T17:57:05.862Z"
   },
   {
    "duration": 0,
    "start_time": "2024-11-07T17:57:05.863Z"
   },
   {
    "duration": 0,
    "start_time": "2024-11-07T17:57:05.864Z"
   },
   {
    "duration": 0,
    "start_time": "2024-11-07T17:57:05.865Z"
   },
   {
    "duration": 0,
    "start_time": "2024-11-07T17:57:05.866Z"
   },
   {
    "duration": 0,
    "start_time": "2024-11-07T17:57:05.868Z"
   },
   {
    "duration": 0,
    "start_time": "2024-11-07T17:57:05.869Z"
   },
   {
    "duration": 0,
    "start_time": "2024-11-07T17:57:05.870Z"
   },
   {
    "duration": 0,
    "start_time": "2024-11-07T17:57:05.871Z"
   },
   {
    "duration": 0,
    "start_time": "2024-11-07T17:57:05.905Z"
   },
   {
    "duration": 0,
    "start_time": "2024-11-07T17:57:05.906Z"
   },
   {
    "duration": 0,
    "start_time": "2024-11-07T17:57:05.907Z"
   },
   {
    "duration": 0,
    "start_time": "2024-11-07T17:57:05.909Z"
   },
   {
    "duration": 0,
    "start_time": "2024-11-07T17:57:05.910Z"
   },
   {
    "duration": 0,
    "start_time": "2024-11-07T17:57:05.911Z"
   },
   {
    "duration": 0,
    "start_time": "2024-11-07T17:57:05.913Z"
   },
   {
    "duration": 0,
    "start_time": "2024-11-07T17:57:05.914Z"
   },
   {
    "duration": 4,
    "start_time": "2024-11-07T17:57:08.464Z"
   },
   {
    "duration": 5,
    "start_time": "2024-11-07T17:57:11.059Z"
   },
   {
    "duration": 3,
    "start_time": "2024-11-07T17:57:11.239Z"
   },
   {
    "duration": 2597,
    "start_time": "2024-11-07T17:57:12.169Z"
   },
   {
    "duration": 192,
    "start_time": "2024-11-07T17:57:14.768Z"
   },
   {
    "duration": 3181,
    "start_time": "2024-11-07T17:57:15.213Z"
   },
   {
    "duration": 11,
    "start_time": "2024-11-07T17:57:19.145Z"
   },
   {
    "duration": 3,
    "start_time": "2024-11-07T17:57:20.833Z"
   },
   {
    "duration": 74,
    "start_time": "2024-11-07T17:57:22.597Z"
   },
   {
    "duration": 45,
    "start_time": "2024-11-07T17:57:26.248Z"
   },
   {
    "duration": 3,
    "start_time": "2024-11-07T17:57:26.414Z"
   },
   {
    "duration": 65633,
    "start_time": "2024-11-07T17:57:26.604Z"
   },
   {
    "duration": 1701,
    "start_time": "2024-11-07T17:58:32.239Z"
   },
   {
    "duration": 2757,
    "start_time": "2024-11-07T17:58:33.942Z"
   },
   {
    "duration": 2021,
    "start_time": "2024-11-07T17:58:36.705Z"
   },
   {
    "duration": 5,
    "start_time": "2024-11-07T17:58:38.728Z"
   },
   {
    "duration": 5271,
    "start_time": "2024-11-07T18:53:49.294Z"
   },
   {
    "duration": 29,
    "start_time": "2024-11-07T18:53:54.567Z"
   },
   {
    "duration": 0,
    "start_time": "2024-11-07T18:53:54.600Z"
   },
   {
    "duration": 0,
    "start_time": "2024-11-07T18:53:54.601Z"
   },
   {
    "duration": 0,
    "start_time": "2024-11-07T18:53:54.602Z"
   },
   {
    "duration": 0,
    "start_time": "2024-11-07T18:53:54.604Z"
   },
   {
    "duration": 0,
    "start_time": "2024-11-07T18:53:54.606Z"
   },
   {
    "duration": 0,
    "start_time": "2024-11-07T18:53:54.607Z"
   },
   {
    "duration": 1,
    "start_time": "2024-11-07T18:53:54.608Z"
   },
   {
    "duration": 0,
    "start_time": "2024-11-07T18:53:54.610Z"
   },
   {
    "duration": 0,
    "start_time": "2024-11-07T18:53:54.611Z"
   },
   {
    "duration": 0,
    "start_time": "2024-11-07T18:53:54.612Z"
   },
   {
    "duration": 0,
    "start_time": "2024-11-07T18:53:54.613Z"
   },
   {
    "duration": 0,
    "start_time": "2024-11-07T18:53:54.614Z"
   },
   {
    "duration": 0,
    "start_time": "2024-11-07T18:53:54.615Z"
   },
   {
    "duration": 0,
    "start_time": "2024-11-07T18:53:54.618Z"
   },
   {
    "duration": 0,
    "start_time": "2024-11-07T18:53:54.619Z"
   },
   {
    "duration": 0,
    "start_time": "2024-11-07T18:53:54.620Z"
   },
   {
    "duration": 0,
    "start_time": "2024-11-07T18:53:54.622Z"
   },
   {
    "duration": 0,
    "start_time": "2024-11-07T18:53:54.623Z"
   },
   {
    "duration": 0,
    "start_time": "2024-11-07T18:53:54.625Z"
   },
   {
    "duration": 0,
    "start_time": "2024-11-07T18:53:54.627Z"
   },
   {
    "duration": 0,
    "start_time": "2024-11-07T18:53:54.629Z"
   },
   {
    "duration": 0,
    "start_time": "2024-11-07T18:53:54.630Z"
   },
   {
    "duration": 0,
    "start_time": "2024-11-07T18:53:54.631Z"
   },
   {
    "duration": 0,
    "start_time": "2024-11-07T18:53:54.632Z"
   },
   {
    "duration": 0,
    "start_time": "2024-11-07T18:53:54.633Z"
   },
   {
    "duration": 0,
    "start_time": "2024-11-07T18:53:54.634Z"
   },
   {
    "duration": 0,
    "start_time": "2024-11-07T18:53:54.635Z"
   },
   {
    "duration": 0,
    "start_time": "2024-11-07T18:53:54.636Z"
   },
   {
    "duration": 0,
    "start_time": "2024-11-07T18:53:54.636Z"
   },
   {
    "duration": 0,
    "start_time": "2024-11-07T18:53:54.637Z"
   },
   {
    "duration": 1,
    "start_time": "2024-11-07T18:53:54.638Z"
   },
   {
    "duration": 528,
    "start_time": "2024-11-07T18:53:54.713Z"
   },
   {
    "duration": 3,
    "start_time": "2024-11-07T18:54:05.959Z"
   },
   {
    "duration": 2810,
    "start_time": "2024-11-07T18:54:06.887Z"
   },
   {
    "duration": 68,
    "start_time": "2024-11-07T18:54:09.699Z"
   },
   {
    "duration": 3569,
    "start_time": "2024-11-07T18:54:09.777Z"
   },
   {
    "duration": 660,
    "start_time": "2024-11-07T18:54:13.349Z"
   },
   {
    "duration": 6,
    "start_time": "2024-11-07T18:54:14.011Z"
   },
   {
    "duration": 318,
    "start_time": "2024-11-07T18:54:14.020Z"
   },
   {
    "duration": 4340,
    "start_time": "2024-11-07T18:54:14.341Z"
   },
   {
    "duration": 102,
    "start_time": "2024-11-07T18:54:18.683Z"
   },
   {
    "duration": 12,
    "start_time": "2024-11-07T18:54:18.794Z"
   },
   {
    "duration": 3,
    "start_time": "2024-11-07T18:54:18.810Z"
   },
   {
    "duration": 73,
    "start_time": "2024-11-07T18:54:18.815Z"
   },
   {
    "duration": 51,
    "start_time": "2024-11-07T18:54:18.889Z"
   },
   {
    "duration": 3,
    "start_time": "2024-11-07T18:54:18.942Z"
   },
   {
    "duration": 71338,
    "start_time": "2024-11-07T18:54:18.947Z"
   },
   {
    "duration": 1587,
    "start_time": "2024-11-07T18:55:30.287Z"
   },
   {
    "duration": 3083,
    "start_time": "2024-11-07T18:55:31.878Z"
   },
   {
    "duration": 581,
    "start_time": "2024-11-07T18:55:34.963Z"
   },
   {
    "duration": 7539,
    "start_time": "2024-11-07T18:55:35.546Z"
   },
   {
    "duration": 0,
    "start_time": "2024-11-07T18:55:43.090Z"
   },
   {
    "duration": 0,
    "start_time": "2024-11-07T18:55:43.091Z"
   },
   {
    "duration": 0,
    "start_time": "2024-11-07T18:55:43.092Z"
   },
   {
    "duration": 0,
    "start_time": "2024-11-07T18:55:43.093Z"
   },
   {
    "duration": 0,
    "start_time": "2024-11-07T18:55:43.094Z"
   },
   {
    "duration": 0,
    "start_time": "2024-11-07T18:55:43.094Z"
   },
   {
    "duration": 0,
    "start_time": "2024-11-07T18:55:43.095Z"
   },
   {
    "duration": 0,
    "start_time": "2024-11-07T18:55:43.096Z"
   },
   {
    "duration": 0,
    "start_time": "2024-11-07T18:55:43.097Z"
   },
   {
    "duration": 0,
    "start_time": "2024-11-07T18:55:43.097Z"
   },
   {
    "duration": 0,
    "start_time": "2024-11-07T18:55:43.098Z"
   },
   {
    "duration": 0,
    "start_time": "2024-11-07T18:55:43.101Z"
   },
   {
    "duration": 0,
    "start_time": "2024-11-07T18:55:43.102Z"
   },
   {
    "duration": 4999,
    "start_time": "2024-11-07T22:24:02.552Z"
   },
   {
    "duration": 7,
    "start_time": "2024-11-07T22:24:07.554Z"
   },
   {
    "duration": 0,
    "start_time": "2024-11-07T22:24:07.564Z"
   },
   {
    "duration": 0,
    "start_time": "2024-11-07T22:24:07.565Z"
   },
   {
    "duration": 0,
    "start_time": "2024-11-07T22:24:07.566Z"
   },
   {
    "duration": 0,
    "start_time": "2024-11-07T22:24:07.567Z"
   },
   {
    "duration": 0,
    "start_time": "2024-11-07T22:24:07.568Z"
   },
   {
    "duration": 0,
    "start_time": "2024-11-07T22:24:07.568Z"
   },
   {
    "duration": 0,
    "start_time": "2024-11-07T22:24:07.570Z"
   },
   {
    "duration": 0,
    "start_time": "2024-11-07T22:24:07.572Z"
   },
   {
    "duration": 0,
    "start_time": "2024-11-07T22:24:07.573Z"
   },
   {
    "duration": 0,
    "start_time": "2024-11-07T22:24:07.574Z"
   },
   {
    "duration": 0,
    "start_time": "2024-11-07T22:24:07.576Z"
   },
   {
    "duration": 0,
    "start_time": "2024-11-07T22:24:07.577Z"
   },
   {
    "duration": 0,
    "start_time": "2024-11-07T22:24:07.579Z"
   },
   {
    "duration": 0,
    "start_time": "2024-11-07T22:24:07.580Z"
   },
   {
    "duration": 0,
    "start_time": "2024-11-07T22:24:07.582Z"
   },
   {
    "duration": 0,
    "start_time": "2024-11-07T22:24:07.583Z"
   },
   {
    "duration": 0,
    "start_time": "2024-11-07T22:24:07.586Z"
   },
   {
    "duration": 0,
    "start_time": "2024-11-07T22:24:07.612Z"
   },
   {
    "duration": 0,
    "start_time": "2024-11-07T22:24:07.613Z"
   },
   {
    "duration": 0,
    "start_time": "2024-11-07T22:24:07.614Z"
   },
   {
    "duration": 0,
    "start_time": "2024-11-07T22:24:07.615Z"
   },
   {
    "duration": 0,
    "start_time": "2024-11-07T22:24:07.617Z"
   },
   {
    "duration": 0,
    "start_time": "2024-11-07T22:24:07.619Z"
   },
   {
    "duration": 0,
    "start_time": "2024-11-07T22:24:07.620Z"
   },
   {
    "duration": 0,
    "start_time": "2024-11-07T22:24:07.621Z"
   },
   {
    "duration": 0,
    "start_time": "2024-11-07T22:24:07.623Z"
   },
   {
    "duration": 0,
    "start_time": "2024-11-07T22:24:07.625Z"
   },
   {
    "duration": 0,
    "start_time": "2024-11-07T22:24:07.626Z"
   },
   {
    "duration": 0,
    "start_time": "2024-11-07T22:24:07.628Z"
   },
   {
    "duration": 0,
    "start_time": "2024-11-07T22:24:07.629Z"
   },
   {
    "duration": 0,
    "start_time": "2024-11-07T22:24:07.631Z"
   },
   {
    "duration": 0,
    "start_time": "2024-11-07T22:24:07.633Z"
   },
   {
    "duration": 4,
    "start_time": "2024-11-07T22:24:11.908Z"
   },
   {
    "duration": 2620,
    "start_time": "2024-11-07T22:24:12.716Z"
   },
   {
    "duration": 75,
    "start_time": "2024-11-07T22:24:20.522Z"
   },
   {
    "duration": 3466,
    "start_time": "2024-11-07T22:24:20.598Z"
   },
   {
    "duration": 748,
    "start_time": "2024-11-07T22:24:24.066Z"
   },
   {
    "duration": 6,
    "start_time": "2024-11-07T22:24:24.817Z"
   },
   {
    "duration": 344,
    "start_time": "2024-11-07T22:24:24.825Z"
   },
   {
    "duration": 4362,
    "start_time": "2024-11-07T22:24:25.171Z"
   },
   {
    "duration": 93,
    "start_time": "2024-11-07T22:24:29.535Z"
   },
   {
    "duration": 11,
    "start_time": "2024-11-07T22:24:29.630Z"
   },
   {
    "duration": 5,
    "start_time": "2024-11-07T22:24:29.642Z"
   },
   {
    "duration": 82,
    "start_time": "2024-11-07T22:24:29.651Z"
   },
   {
    "duration": 53,
    "start_time": "2024-11-07T22:24:29.735Z"
   },
   {
    "duration": 3,
    "start_time": "2024-11-07T22:24:29.790Z"
   },
   {
    "duration": 65252,
    "start_time": "2024-11-07T22:24:29.794Z"
   },
   {
    "duration": 1515,
    "start_time": "2024-11-07T22:25:35.048Z"
   },
   {
    "duration": 2888,
    "start_time": "2024-11-07T22:25:36.565Z"
   },
   {
    "duration": 596,
    "start_time": "2024-11-07T22:25:39.455Z"
   },
   {
    "duration": 6327,
    "start_time": "2024-11-07T22:25:40.053Z"
   },
   {
    "duration": 0,
    "start_time": "2024-11-07T22:25:46.382Z"
   },
   {
    "duration": 0,
    "start_time": "2024-11-07T22:25:46.383Z"
   },
   {
    "duration": 0,
    "start_time": "2024-11-07T22:25:46.384Z"
   },
   {
    "duration": 0,
    "start_time": "2024-11-07T22:25:46.386Z"
   },
   {
    "duration": 0,
    "start_time": "2024-11-07T22:25:46.387Z"
   },
   {
    "duration": 0,
    "start_time": "2024-11-07T22:25:46.388Z"
   },
   {
    "duration": 0,
    "start_time": "2024-11-07T22:25:46.389Z"
   },
   {
    "duration": 0,
    "start_time": "2024-11-07T22:25:46.390Z"
   },
   {
    "duration": 0,
    "start_time": "2024-11-07T22:25:46.391Z"
   },
   {
    "duration": 0,
    "start_time": "2024-11-07T22:25:46.392Z"
   },
   {
    "duration": 0,
    "start_time": "2024-11-07T22:25:46.393Z"
   },
   {
    "duration": 0,
    "start_time": "2024-11-07T22:25:46.394Z"
   },
   {
    "duration": 0,
    "start_time": "2024-11-07T22:25:46.412Z"
   },
   {
    "duration": 2985,
    "start_time": "2024-11-07T22:27:31.423Z"
   },
   {
    "duration": 547,
    "start_time": "2024-11-07T22:27:36.329Z"
   },
   {
    "duration": 5279,
    "start_time": "2024-11-07T22:27:39.483Z"
   },
   {
    "duration": 4866,
    "start_time": "2024-11-08T08:59:21.256Z"
   },
   {
    "duration": 8,
    "start_time": "2024-11-08T08:59:26.124Z"
   },
   {
    "duration": 3,
    "start_time": "2024-11-08T08:59:26.715Z"
   },
   {
    "duration": 2771,
    "start_time": "2024-11-08T08:59:27.494Z"
   },
   {
    "duration": 74,
    "start_time": "2024-11-08T08:59:30.267Z"
   },
   {
    "duration": 3341,
    "start_time": "2024-11-08T08:59:30.343Z"
   },
   {
    "duration": 710,
    "start_time": "2024-11-08T08:59:33.687Z"
   },
   {
    "duration": 5,
    "start_time": "2024-11-08T08:59:34.399Z"
   },
   {
    "duration": 293,
    "start_time": "2024-11-08T08:59:34.406Z"
   },
   {
    "duration": 4136,
    "start_time": "2024-11-08T08:59:34.701Z"
   },
   {
    "duration": 86,
    "start_time": "2024-11-08T08:59:38.839Z"
   },
   {
    "duration": 12,
    "start_time": "2024-11-08T08:59:38.927Z"
   },
   {
    "duration": 3,
    "start_time": "2024-11-08T08:59:38.944Z"
   },
   {
    "duration": 496,
    "start_time": "2024-11-08T08:59:38.948Z"
   },
   {
    "duration": 0,
    "start_time": "2024-11-08T08:59:39.445Z"
   },
   {
    "duration": 0,
    "start_time": "2024-11-08T08:59:39.447Z"
   },
   {
    "duration": 0,
    "start_time": "2024-11-08T08:59:39.448Z"
   },
   {
    "duration": 0,
    "start_time": "2024-11-08T08:59:39.450Z"
   },
   {
    "duration": 1,
    "start_time": "2024-11-08T08:59:39.450Z"
   },
   {
    "duration": 0,
    "start_time": "2024-11-08T08:59:39.452Z"
   },
   {
    "duration": 0,
    "start_time": "2024-11-08T08:59:39.453Z"
   },
   {
    "duration": 390,
    "start_time": "2024-11-08T08:59:42.421Z"
   },
   {
    "duration": 24,
    "start_time": "2024-11-08T08:59:43.325Z"
   },
   {
    "duration": 5092,
    "start_time": "2024-11-08T17:37:38.020Z"
   },
   {
    "duration": 8,
    "start_time": "2024-11-08T17:37:43.115Z"
   },
   {
    "duration": 0,
    "start_time": "2024-11-08T17:37:43.126Z"
   },
   {
    "duration": 0,
    "start_time": "2024-11-08T17:37:43.128Z"
   },
   {
    "duration": 0,
    "start_time": "2024-11-08T17:37:43.131Z"
   },
   {
    "duration": 0,
    "start_time": "2024-11-08T17:37:43.132Z"
   },
   {
    "duration": 0,
    "start_time": "2024-11-08T17:37:43.134Z"
   },
   {
    "duration": 0,
    "start_time": "2024-11-08T17:37:43.135Z"
   },
   {
    "duration": 0,
    "start_time": "2024-11-08T17:37:43.136Z"
   },
   {
    "duration": 0,
    "start_time": "2024-11-08T17:37:43.138Z"
   },
   {
    "duration": 0,
    "start_time": "2024-11-08T17:37:43.139Z"
   },
   {
    "duration": 0,
    "start_time": "2024-11-08T17:37:43.140Z"
   },
   {
    "duration": 0,
    "start_time": "2024-11-08T17:37:43.141Z"
   },
   {
    "duration": 0,
    "start_time": "2024-11-08T17:37:43.142Z"
   },
   {
    "duration": 0,
    "start_time": "2024-11-08T17:37:43.143Z"
   },
   {
    "duration": 0,
    "start_time": "2024-11-08T17:37:43.144Z"
   },
   {
    "duration": 0,
    "start_time": "2024-11-08T17:37:43.145Z"
   },
   {
    "duration": 0,
    "start_time": "2024-11-08T17:37:43.146Z"
   },
   {
    "duration": 0,
    "start_time": "2024-11-08T17:37:43.147Z"
   },
   {
    "duration": 0,
    "start_time": "2024-11-08T17:37:43.148Z"
   },
   {
    "duration": 0,
    "start_time": "2024-11-08T17:37:43.151Z"
   },
   {
    "duration": 0,
    "start_time": "2024-11-08T17:37:43.152Z"
   },
   {
    "duration": 0,
    "start_time": "2024-11-08T17:37:43.152Z"
   },
   {
    "duration": 0,
    "start_time": "2024-11-08T17:37:43.153Z"
   },
   {
    "duration": 0,
    "start_time": "2024-11-08T17:37:43.154Z"
   },
   {
    "duration": 0,
    "start_time": "2024-11-08T17:37:43.155Z"
   },
   {
    "duration": 0,
    "start_time": "2024-11-08T17:37:43.156Z"
   },
   {
    "duration": 0,
    "start_time": "2024-11-08T17:37:43.157Z"
   },
   {
    "duration": 0,
    "start_time": "2024-11-08T17:37:43.158Z"
   },
   {
    "duration": 0,
    "start_time": "2024-11-08T17:37:43.159Z"
   },
   {
    "duration": 0,
    "start_time": "2024-11-08T17:37:43.160Z"
   },
   {
    "duration": 0,
    "start_time": "2024-11-08T17:37:43.161Z"
   },
   {
    "duration": 0,
    "start_time": "2024-11-08T17:37:43.162Z"
   },
   {
    "duration": 0,
    "start_time": "2024-11-08T17:37:43.163Z"
   },
   {
    "duration": 3,
    "start_time": "2024-11-08T17:37:47.291Z"
   },
   {
    "duration": 3044,
    "start_time": "2024-11-08T17:37:48.323Z"
   },
   {
    "duration": 76,
    "start_time": "2024-11-08T17:37:51.369Z"
   },
   {
    "duration": 12,
    "start_time": "2024-11-08T17:38:32.528Z"
   },
   {
    "duration": 2,
    "start_time": "2024-11-08T17:38:37.586Z"
   },
   {
    "duration": 543,
    "start_time": "2024-11-08T17:38:44.857Z"
   },
   {
    "duration": 3,
    "start_time": "2024-11-08T17:40:09.934Z"
   },
   {
    "duration": 3,
    "start_time": "2024-11-08T17:40:16.439Z"
   },
   {
    "duration": 2683,
    "start_time": "2024-11-08T17:40:17.184Z"
   },
   {
    "duration": 75,
    "start_time": "2024-11-08T17:40:19.869Z"
   },
   {
    "duration": 3441,
    "start_time": "2024-11-08T17:40:23.583Z"
   },
   {
    "duration": 684,
    "start_time": "2024-11-08T17:40:27.027Z"
   },
   {
    "duration": 5,
    "start_time": "2024-11-08T17:40:27.792Z"
   },
   {
    "duration": 309,
    "start_time": "2024-11-08T17:40:27.962Z"
   },
   {
    "duration": 4208,
    "start_time": "2024-11-08T17:40:32.689Z"
   },
   {
    "duration": 86,
    "start_time": "2024-11-08T17:40:41.844Z"
   },
   {
    "duration": 11,
    "start_time": "2024-11-08T17:40:44.989Z"
   },
   {
    "duration": 4,
    "start_time": "2024-11-08T17:40:58.161Z"
   },
   {
    "duration": 68,
    "start_time": "2024-11-08T17:41:00.220Z"
   },
   {
    "duration": 49,
    "start_time": "2024-11-08T17:41:04.804Z"
   },
   {
    "duration": 3,
    "start_time": "2024-11-08T17:41:06.976Z"
   },
   {
    "duration": 64638,
    "start_time": "2024-11-08T17:41:07.771Z"
   },
   {
    "duration": 1537,
    "start_time": "2024-11-08T17:44:01.147Z"
   },
   {
    "duration": 2887,
    "start_time": "2024-11-08T17:44:02.687Z"
   },
   {
    "duration": 556,
    "start_time": "2024-11-08T17:50:27.209Z"
   },
   {
    "duration": 5175,
    "start_time": "2024-11-08T17:50:30.728Z"
   },
   {
    "duration": 365,
    "start_time": "2024-11-08T17:52:29.591Z"
   },
   {
    "duration": 5766,
    "start_time": "2024-11-08T17:52:32.493Z"
   },
   {
    "duration": 7053,
    "start_time": "2024-11-08T18:02:04.576Z"
   },
   {
    "duration": 38913,
    "start_time": "2024-11-08T18:02:11.632Z"
   },
   {
    "duration": 1399,
    "start_time": "2024-11-08T18:03:01.426Z"
   },
   {
    "duration": 5,
    "start_time": "2024-11-08T18:03:02.828Z"
   },
   {
    "duration": 3299,
    "start_time": "2024-11-08T18:12:03.005Z"
   },
   {
    "duration": 7,
    "start_time": "2024-11-08T18:12:06.307Z"
   },
   {
    "duration": 0,
    "start_time": "2024-11-08T18:12:06.317Z"
   },
   {
    "duration": 0,
    "start_time": "2024-11-08T18:12:06.319Z"
   },
   {
    "duration": 0,
    "start_time": "2024-11-08T18:12:06.319Z"
   },
   {
    "duration": 0,
    "start_time": "2024-11-08T18:12:06.320Z"
   },
   {
    "duration": 0,
    "start_time": "2024-11-08T18:12:06.321Z"
   },
   {
    "duration": 0,
    "start_time": "2024-11-08T18:12:06.322Z"
   },
   {
    "duration": 0,
    "start_time": "2024-11-08T18:12:06.323Z"
   },
   {
    "duration": 0,
    "start_time": "2024-11-08T18:12:06.324Z"
   },
   {
    "duration": 0,
    "start_time": "2024-11-08T18:12:06.326Z"
   },
   {
    "duration": 0,
    "start_time": "2024-11-08T18:12:06.331Z"
   },
   {
    "duration": 0,
    "start_time": "2024-11-08T18:12:06.332Z"
   },
   {
    "duration": 0,
    "start_time": "2024-11-08T18:12:06.333Z"
   },
   {
    "duration": 0,
    "start_time": "2024-11-08T18:12:06.334Z"
   },
   {
    "duration": 0,
    "start_time": "2024-11-08T18:12:06.335Z"
   },
   {
    "duration": 0,
    "start_time": "2024-11-08T18:12:06.336Z"
   },
   {
    "duration": 0,
    "start_time": "2024-11-08T18:12:06.337Z"
   },
   {
    "duration": 0,
    "start_time": "2024-11-08T18:12:06.338Z"
   },
   {
    "duration": 0,
    "start_time": "2024-11-08T18:12:06.339Z"
   },
   {
    "duration": 0,
    "start_time": "2024-11-08T18:12:06.340Z"
   },
   {
    "duration": 0,
    "start_time": "2024-11-08T18:12:06.341Z"
   },
   {
    "duration": 0,
    "start_time": "2024-11-08T18:12:06.342Z"
   },
   {
    "duration": 0,
    "start_time": "2024-11-08T18:12:06.343Z"
   },
   {
    "duration": 1,
    "start_time": "2024-11-08T18:12:06.344Z"
   },
   {
    "duration": 0,
    "start_time": "2024-11-08T18:12:06.345Z"
   },
   {
    "duration": 0,
    "start_time": "2024-11-08T18:12:06.346Z"
   },
   {
    "duration": 0,
    "start_time": "2024-11-08T18:12:06.347Z"
   },
   {
    "duration": 0,
    "start_time": "2024-11-08T18:12:06.348Z"
   },
   {
    "duration": 0,
    "start_time": "2024-11-08T18:12:06.349Z"
   },
   {
    "duration": 0,
    "start_time": "2024-11-08T18:12:06.350Z"
   },
   {
    "duration": 0,
    "start_time": "2024-11-08T18:12:06.351Z"
   },
   {
    "duration": 0,
    "start_time": "2024-11-08T18:12:06.352Z"
   },
   {
    "duration": 0,
    "start_time": "2024-11-08T18:12:06.353Z"
   },
   {
    "duration": 5,
    "start_time": "2024-11-08T18:12:09.258Z"
   },
   {
    "duration": 4,
    "start_time": "2024-11-08T18:12:14.572Z"
   },
   {
    "duration": 2737,
    "start_time": "2024-11-08T18:12:15.152Z"
   },
   {
    "duration": 12,
    "start_time": "2024-11-08T18:12:23.113Z"
   },
   {
    "duration": 4,
    "start_time": "2024-11-08T18:12:25.098Z"
   },
   {
    "duration": 76,
    "start_time": "2024-11-08T18:12:27.735Z"
   },
   {
    "duration": 50,
    "start_time": "2024-11-08T18:12:31.425Z"
   },
   {
    "duration": 3,
    "start_time": "2024-11-08T18:12:31.732Z"
   },
   {
    "duration": 65172,
    "start_time": "2024-11-08T18:12:34.479Z"
   },
   {
    "duration": 1680,
    "start_time": "2024-11-08T18:13:39.653Z"
   },
   {
    "duration": 2868,
    "start_time": "2024-11-08T18:13:41.335Z"
   },
   {
    "duration": 1527,
    "start_time": "2024-11-08T18:13:44.205Z"
   },
   {
    "duration": 5,
    "start_time": "2024-11-08T18:13:45.734Z"
   },
   {
    "duration": 173,
    "start_time": "2024-11-08T18:14:15.887Z"
   },
   {
    "duration": 3308,
    "start_time": "2024-11-08T18:14:38.554Z"
   },
   {
    "duration": 6,
    "start_time": "2024-11-08T18:14:41.864Z"
   },
   {
    "duration": 2602,
    "start_time": "2024-11-08T18:14:42.672Z"
   },
   {
    "duration": 81,
    "start_time": "2024-11-08T18:14:45.276Z"
   },
   {
    "duration": 174,
    "start_time": "2024-11-08T18:14:53.710Z"
   },
   {
    "duration": 2,
    "start_time": "2024-11-08T18:15:08.919Z"
   },
   {
    "duration": 73,
    "start_time": "2024-11-08T18:15:11.205Z"
   },
   {
    "duration": 1399,
    "start_time": "2024-11-08T18:18:13.911Z"
   },
   {
    "duration": 7,
    "start_time": "2024-11-08T18:18:17.377Z"
   },
   {
    "duration": 503,
    "start_time": "2024-11-08T18:18:20.834Z"
   },
   {
    "duration": 29,
    "start_time": "2024-11-08T18:19:01.479Z"
   },
   {
    "duration": 24,
    "start_time": "2024-11-08T18:19:14.460Z"
   },
   {
    "duration": 3272,
    "start_time": "2024-11-08T18:25:21.016Z"
   },
   {
    "duration": 2682,
    "start_time": "2024-11-08T18:25:24.914Z"
   },
   {
    "duration": 87,
    "start_time": "2024-11-08T18:25:27.598Z"
   },
   {
    "duration": 164,
    "start_time": "2024-11-08T18:25:29.844Z"
   },
   {
    "duration": 2,
    "start_time": "2024-11-08T18:25:31.640Z"
   },
   {
    "duration": 71,
    "start_time": "2024-11-08T18:25:33.642Z"
   },
   {
    "duration": 22,
    "start_time": "2024-11-08T18:25:41.390Z"
   },
   {
    "duration": 1340,
    "start_time": "2024-11-08T18:25:53.967Z"
   },
   {
    "duration": 1416,
    "start_time": "2024-11-08T18:26:00.565Z"
   },
   {
    "duration": 6,
    "start_time": "2024-11-08T18:26:02.193Z"
   },
   {
    "duration": 158,
    "start_time": "2024-11-08T18:26:54.983Z"
   },
   {
    "duration": 12,
    "start_time": "2024-11-08T18:34:11.864Z"
   },
   {
    "duration": 3405,
    "start_time": "2024-11-08T18:34:16.969Z"
   },
   {
    "duration": 2553,
    "start_time": "2024-11-08T18:34:20.579Z"
   },
   {
    "duration": 12,
    "start_time": "2024-11-08T18:34:27.495Z"
   },
   {
    "duration": 3,
    "start_time": "2024-11-08T18:34:29.824Z"
   },
   {
    "duration": 73,
    "start_time": "2024-11-08T18:34:32.758Z"
   },
   {
    "duration": 22,
    "start_time": "2024-11-08T18:34:37.379Z"
   },
   {
    "duration": 1635,
    "start_time": "2024-11-08T18:34:46.907Z"
   },
   {
    "duration": 26,
    "start_time": "2024-11-08T18:34:50.525Z"
   },
   {
    "duration": 4913,
    "start_time": "2024-11-08T19:00:31.751Z"
   },
   {
    "duration": 8,
    "start_time": "2024-11-08T19:00:36.666Z"
   },
   {
    "duration": 3,
    "start_time": "2024-11-08T19:00:37.817Z"
   },
   {
    "duration": 2745,
    "start_time": "2024-11-08T19:00:38.258Z"
   },
   {
    "duration": 70,
    "start_time": "2024-11-08T19:00:41.005Z"
   },
   {
    "duration": 3411,
    "start_time": "2024-11-08T19:00:41.076Z"
   },
   {
    "duration": 721,
    "start_time": "2024-11-08T19:00:44.490Z"
   },
   {
    "duration": 5,
    "start_time": "2024-11-08T19:00:45.214Z"
   },
   {
    "duration": 323,
    "start_time": "2024-11-08T19:00:45.221Z"
   },
   {
    "duration": 4241,
    "start_time": "2024-11-08T19:00:45.546Z"
   },
   {
    "duration": 98,
    "start_time": "2024-11-08T19:00:49.789Z"
   },
   {
    "duration": 10,
    "start_time": "2024-11-08T19:00:49.889Z"
   },
   {
    "duration": 4,
    "start_time": "2024-11-08T19:00:49.902Z"
   },
   {
    "duration": 82,
    "start_time": "2024-11-08T19:00:49.909Z"
   },
   {
    "duration": 50,
    "start_time": "2024-11-08T19:00:49.992Z"
   },
   {
    "duration": 66748,
    "start_time": "2024-11-08T19:00:50.044Z"
   },
   {
    "duration": 31,
    "start_time": "2024-11-08T19:01:56.793Z"
   },
   {
    "duration": 1565,
    "start_time": "2024-11-08T19:01:56.825Z"
   },
   {
    "duration": 2916,
    "start_time": "2024-11-08T19:01:58.392Z"
   },
   {
    "duration": 551,
    "start_time": "2024-11-08T19:02:01.310Z"
   },
   {
    "duration": 4846,
    "start_time": "2024-11-08T19:02:01.863Z"
   },
   {
    "duration": 585,
    "start_time": "2024-11-08T19:02:06.711Z"
   },
   {
    "duration": 7892,
    "start_time": "2024-11-08T19:02:07.298Z"
   },
   {
    "duration": 38872,
    "start_time": "2024-11-08T19:03:11.642Z"
   },
   {
    "duration": 6,
    "start_time": "2024-11-08T19:04:32.481Z"
   },
   {
    "duration": 2538,
    "start_time": "2024-11-08T19:04:35.213Z"
   },
   {
    "duration": 21,
    "start_time": "2024-11-08T19:05:32.831Z"
   },
   {
    "duration": 7,
    "start_time": "2024-11-08T19:07:48.134Z"
   },
   {
    "duration": 4986,
    "start_time": "2024-11-12T15:06:31.800Z"
   },
   {
    "duration": 9,
    "start_time": "2024-11-12T15:06:36.789Z"
   },
   {
    "duration": 0,
    "start_time": "2024-11-12T15:06:36.801Z"
   },
   {
    "duration": 0,
    "start_time": "2024-11-12T15:06:36.802Z"
   },
   {
    "duration": 0,
    "start_time": "2024-11-12T15:06:36.803Z"
   },
   {
    "duration": 0,
    "start_time": "2024-11-12T15:06:36.804Z"
   },
   {
    "duration": 0,
    "start_time": "2024-11-12T15:06:36.806Z"
   },
   {
    "duration": 0,
    "start_time": "2024-11-12T15:06:36.807Z"
   },
   {
    "duration": 0,
    "start_time": "2024-11-12T15:06:36.812Z"
   },
   {
    "duration": 0,
    "start_time": "2024-11-12T15:06:36.813Z"
   },
   {
    "duration": 0,
    "start_time": "2024-11-12T15:06:36.815Z"
   },
   {
    "duration": 0,
    "start_time": "2024-11-12T15:06:36.816Z"
   },
   {
    "duration": 0,
    "start_time": "2024-11-12T15:06:36.818Z"
   },
   {
    "duration": 0,
    "start_time": "2024-11-12T15:06:36.819Z"
   },
   {
    "duration": 0,
    "start_time": "2024-11-12T15:06:36.820Z"
   },
   {
    "duration": 0,
    "start_time": "2024-11-12T15:06:36.821Z"
   },
   {
    "duration": 0,
    "start_time": "2024-11-12T15:06:36.823Z"
   },
   {
    "duration": 0,
    "start_time": "2024-11-12T15:06:36.825Z"
   },
   {
    "duration": 0,
    "start_time": "2024-11-12T15:06:36.826Z"
   },
   {
    "duration": 0,
    "start_time": "2024-11-12T15:06:36.828Z"
   },
   {
    "duration": 0,
    "start_time": "2024-11-12T15:06:36.829Z"
   },
   {
    "duration": 0,
    "start_time": "2024-11-12T15:06:36.831Z"
   },
   {
    "duration": 0,
    "start_time": "2024-11-12T15:06:36.832Z"
   },
   {
    "duration": 0,
    "start_time": "2024-11-12T15:06:36.834Z"
   },
   {
    "duration": 0,
    "start_time": "2024-11-12T15:06:36.836Z"
   },
   {
    "duration": 0,
    "start_time": "2024-11-12T15:06:36.837Z"
   },
   {
    "duration": 0,
    "start_time": "2024-11-12T15:06:36.838Z"
   },
   {
    "duration": 0,
    "start_time": "2024-11-12T15:06:36.840Z"
   },
   {
    "duration": 0,
    "start_time": "2024-11-12T15:06:36.841Z"
   },
   {
    "duration": 2,
    "start_time": "2024-11-12T15:11:19.536Z"
   },
   {
    "duration": 2750,
    "start_time": "2024-11-12T15:11:19.540Z"
   },
   {
    "duration": 76,
    "start_time": "2024-11-12T15:11:22.293Z"
   },
   {
    "duration": 3466,
    "start_time": "2024-11-12T15:11:22.370Z"
   },
   {
    "duration": 741,
    "start_time": "2024-11-12T15:11:25.839Z"
   },
   {
    "duration": 6,
    "start_time": "2024-11-12T15:11:26.581Z"
   },
   {
    "duration": 325,
    "start_time": "2024-11-12T15:11:26.588Z"
   },
   {
    "duration": 4262,
    "start_time": "2024-11-12T15:11:26.915Z"
   },
   {
    "duration": 87,
    "start_time": "2024-11-12T15:11:31.179Z"
   },
   {
    "duration": 12,
    "start_time": "2024-11-12T15:11:31.268Z"
   },
   {
    "duration": 3,
    "start_time": "2024-11-12T15:11:31.283Z"
   },
   {
    "duration": 86,
    "start_time": "2024-11-12T15:11:31.288Z"
   },
   {
    "duration": 49,
    "start_time": "2024-11-12T15:11:31.375Z"
   },
   {
    "duration": 64495,
    "start_time": "2024-11-12T15:11:31.426Z"
   },
   {
    "duration": 31,
    "start_time": "2024-11-12T15:12:35.923Z"
   },
   {
    "duration": 1542,
    "start_time": "2024-11-12T15:12:35.956Z"
   },
   {
    "duration": 2895,
    "start_time": "2024-11-12T15:12:37.500Z"
   },
   {
    "duration": 557,
    "start_time": "2024-11-12T15:12:40.397Z"
   },
   {
    "duration": 3992,
    "start_time": "2024-11-12T15:12:40.956Z"
   },
   {
    "duration": 387,
    "start_time": "2024-11-12T15:12:44.950Z"
   },
   {
    "duration": 840,
    "start_time": "2024-11-12T15:12:45.339Z"
   },
   {
    "duration": 0,
    "start_time": "2024-11-12T15:12:46.181Z"
   },
   {
    "duration": 0,
    "start_time": "2024-11-12T15:12:46.182Z"
   },
   {
    "duration": 0,
    "start_time": "2024-11-12T15:12:46.184Z"
   },
   {
    "duration": 0,
    "start_time": "2024-11-12T15:12:46.185Z"
   },
   {
    "duration": 0,
    "start_time": "2024-11-12T15:12:46.187Z"
   },
   {
    "duration": 0,
    "start_time": "2024-11-12T15:12:46.188Z"
   },
   {
    "duration": 65455,
    "start_time": "2024-11-12T15:22:14.214Z"
   },
   {
    "duration": 1742,
    "start_time": "2024-11-12T15:24:09.845Z"
   },
   {
    "duration": 3097,
    "start_time": "2024-11-12T15:24:13.523Z"
   },
   {
    "duration": 565,
    "start_time": "2024-11-12T15:24:22.953Z"
   },
   {
    "duration": 5294,
    "start_time": "2024-11-12T15:24:25.926Z"
   },
   {
    "duration": 495597,
    "start_time": "2024-11-12T15:32:47.587Z"
   },
   {
    "duration": 65,
    "start_time": "2024-11-12T15:50:42.554Z"
   },
   {
    "duration": 66,
    "start_time": "2024-11-12T16:07:57.359Z"
   },
   {
    "duration": 0,
    "start_time": "2024-11-12T16:07:57.427Z"
   },
   {
    "duration": 51,
    "start_time": "2024-11-12T17:32:29.125Z"
   },
   {
    "duration": 65344,
    "start_time": "2024-11-12T17:32:30.253Z"
   },
   {
    "duration": 33,
    "start_time": "2024-11-12T17:34:02.093Z"
   },
   {
    "duration": 1483,
    "start_time": "2024-11-12T17:34:04.800Z"
   },
   {
    "duration": 2826,
    "start_time": "2024-11-12T17:34:09.168Z"
   },
   {
    "duration": 2881,
    "start_time": "2024-11-12T17:34:33.532Z"
   },
   {
    "duration": 569,
    "start_time": "2024-11-12T17:34:50.243Z"
   },
   {
    "duration": 4671,
    "start_time": "2024-11-12T17:34:53.131Z"
   },
   {
    "duration": 512195,
    "start_time": "2024-11-12T17:35:05.866Z"
   },
   {
    "duration": 7,
    "start_time": "2024-11-12T17:43:38.062Z"
   },
   {
    "duration": 9852,
    "start_time": "2024-11-12T17:43:58.665Z"
   },
   {
    "duration": 8563,
    "start_time": "2024-11-12T17:44:22.439Z"
   },
   {
    "duration": 6935,
    "start_time": "2024-11-12T17:44:44.459Z"
   },
   {
    "duration": 69,
    "start_time": "2024-11-12T17:44:51.397Z"
   },
   {
    "duration": 31325,
    "start_time": "2024-11-12T17:45:49.355Z"
   },
   {
    "duration": 2705,
    "start_time": "2024-11-12T17:47:43.582Z"
   },
   {
    "duration": 6,
    "start_time": "2024-11-12T17:47:47.187Z"
   },
   {
    "duration": 163,
    "start_time": "2024-11-12T17:48:34.488Z"
   },
   {
    "duration": 3227,
    "start_time": "2024-11-12T17:48:47.905Z"
   },
   {
    "duration": 7,
    "start_time": "2024-11-12T17:48:51.134Z"
   },
   {
    "duration": 0,
    "start_time": "2024-11-12T17:48:51.144Z"
   },
   {
    "duration": 0,
    "start_time": "2024-11-12T17:48:51.145Z"
   },
   {
    "duration": 0,
    "start_time": "2024-11-12T17:48:51.146Z"
   },
   {
    "duration": 0,
    "start_time": "2024-11-12T17:48:51.148Z"
   },
   {
    "duration": 0,
    "start_time": "2024-11-12T17:48:51.149Z"
   },
   {
    "duration": 0,
    "start_time": "2024-11-12T17:48:51.150Z"
   },
   {
    "duration": 0,
    "start_time": "2024-11-12T17:48:51.152Z"
   },
   {
    "duration": 0,
    "start_time": "2024-11-12T17:48:51.153Z"
   },
   {
    "duration": 0,
    "start_time": "2024-11-12T17:48:51.154Z"
   },
   {
    "duration": 0,
    "start_time": "2024-11-12T17:48:51.156Z"
   },
   {
    "duration": 0,
    "start_time": "2024-11-12T17:48:51.157Z"
   },
   {
    "duration": 0,
    "start_time": "2024-11-12T17:48:51.158Z"
   },
   {
    "duration": 0,
    "start_time": "2024-11-12T17:48:51.159Z"
   },
   {
    "duration": 0,
    "start_time": "2024-11-12T17:48:51.161Z"
   },
   {
    "duration": 0,
    "start_time": "2024-11-12T17:48:51.162Z"
   },
   {
    "duration": 0,
    "start_time": "2024-11-12T17:48:51.162Z"
   },
   {
    "duration": 0,
    "start_time": "2024-11-12T17:48:51.163Z"
   },
   {
    "duration": 0,
    "start_time": "2024-11-12T17:48:51.164Z"
   },
   {
    "duration": 0,
    "start_time": "2024-11-12T17:48:51.165Z"
   },
   {
    "duration": 0,
    "start_time": "2024-11-12T17:48:51.166Z"
   },
   {
    "duration": 0,
    "start_time": "2024-11-12T17:48:51.168Z"
   },
   {
    "duration": 0,
    "start_time": "2024-11-12T17:48:51.169Z"
   },
   {
    "duration": 0,
    "start_time": "2024-11-12T17:48:51.170Z"
   },
   {
    "duration": 0,
    "start_time": "2024-11-12T17:48:51.211Z"
   },
   {
    "duration": 0,
    "start_time": "2024-11-12T17:48:51.213Z"
   },
   {
    "duration": 0,
    "start_time": "2024-11-12T17:48:51.214Z"
   },
   {
    "duration": 0,
    "start_time": "2024-11-12T17:48:51.215Z"
   },
   {
    "duration": 1,
    "start_time": "2024-11-12T17:48:51.216Z"
   },
   {
    "duration": 4,
    "start_time": "2024-11-12T17:48:57.988Z"
   },
   {
    "duration": 2611,
    "start_time": "2024-11-12T17:48:59.493Z"
   },
   {
    "duration": 234,
    "start_time": "2024-11-12T17:49:02.106Z"
   },
   {
    "duration": 11,
    "start_time": "2024-11-12T17:49:04.792Z"
   },
   {
    "duration": 3,
    "start_time": "2024-11-12T17:49:06.709Z"
   },
   {
    "duration": 74,
    "start_time": "2024-11-12T17:49:08.575Z"
   },
   {
    "duration": 50,
    "start_time": "2024-11-12T17:49:11.424Z"
   },
   {
    "duration": 64660,
    "start_time": "2024-11-12T17:49:11.608Z"
   },
   {
    "duration": 42,
    "start_time": "2024-11-12T17:50:16.270Z"
   },
   {
    "duration": 1522,
    "start_time": "2024-11-12T17:53:37.112Z"
   },
   {
    "duration": 2866,
    "start_time": "2024-11-12T17:53:38.636Z"
   },
   {
    "duration": 5031,
    "start_time": "2024-11-12T17:53:44.462Z"
   },
   {
    "duration": 492146,
    "start_time": "2024-11-12T17:53:49.496Z"
   },
   {
    "duration": 6,
    "start_time": "2024-11-12T18:02:01.644Z"
   },
   {
    "duration": 1067,
    "start_time": "2024-11-12T18:02:01.652Z"
   },
   {
    "duration": 35,
    "start_time": "2024-11-12T18:05:16.701Z"
   },
   {
    "duration": 7889,
    "start_time": "2024-11-12T18:05:19.911Z"
   },
   {
    "duration": 1389,
    "start_time": "2024-11-12T18:05:44.089Z"
   },
   {
    "duration": 31456,
    "start_time": "2024-11-12T18:05:45.481Z"
   },
   {
    "duration": 1367,
    "start_time": "2024-11-12T18:07:54.317Z"
   },
   {
    "duration": 30943,
    "start_time": "2024-11-12T18:07:55.688Z"
   },
   {
    "duration": 7,
    "start_time": "2024-11-12T18:08:36.344Z"
   },
   {
    "duration": 107,
    "start_time": "2024-11-12T18:08:39.440Z"
   },
   {
    "duration": 1553,
    "start_time": "2024-11-12T18:09:12.798Z"
   },
   {
    "duration": 1541,
    "start_time": "2024-11-12T18:11:41.374Z"
   },
   {
    "duration": 1599,
    "start_time": "2024-11-12T18:11:56.974Z"
   },
   {
    "duration": 7033,
    "start_time": "2024-11-12T18:13:50.544Z"
   },
   {
    "duration": 7344,
    "start_time": "2024-11-12T18:14:15.388Z"
   },
   {
    "duration": 1322,
    "start_time": "2024-11-12T18:16:09.346Z"
   },
   {
    "duration": 30797,
    "start_time": "2024-11-12T18:16:31.159Z"
   }
  ],
  "accelerator": "GPU",
  "colab": {
   "gpuType": "A100",
   "provenance": []
  },
  "kernelspec": {
   "display_name": "Python 3 (ipykernel)",
   "language": "python",
   "name": "python3"
  },
  "language_info": {
   "codemirror_mode": {
    "name": "ipython",
    "version": 3
   },
   "file_extension": ".py",
   "mimetype": "text/x-python",
   "name": "python",
   "nbconvert_exporter": "python",
   "pygments_lexer": "ipython3",
   "version": "3.9.19"
  },
  "toc": {
   "base_numbering": 1,
   "nav_menu": {},
   "number_sections": true,
   "sideBar": true,
   "skip_h1_title": true,
   "title_cell": "Table of Contents",
   "title_sidebar": "Contents",
   "toc_cell": false,
   "toc_position": {},
   "toc_section_display": true,
   "toc_window_display": false
  },
  "widgets": {
   "application/vnd.jupyter.widget-state+json": {
    "0036b25ff29e4ad1bd7bf381b69f563d": {
     "model_module": "@jupyter-widgets/controls",
     "model_module_version": "1.5.0",
     "model_name": "HTMLModel",
     "state": {
      "_dom_classes": [],
      "_model_module": "@jupyter-widgets/controls",
      "_model_module_version": "1.5.0",
      "_model_name": "HTMLModel",
      "_view_count": null,
      "_view_module": "@jupyter-widgets/controls",
      "_view_module_version": "1.5.0",
      "_view_name": "HTMLView",
      "description": "",
      "description_tooltip": null,
      "layout": "IPY_MODEL_dcb669274e544bf989a5df383b5ce34b",
      "placeholder": "​",
      "style": "IPY_MODEL_47c831a0f10f4b88951cff6ac398ba5b",
      "value": "vocab.txt: 100%"
     }
    },
    "0c026e5d0f6d4c429589aff86608930e": {
     "model_module": "@jupyter-widgets/controls",
     "model_module_version": "1.5.0",
     "model_name": "HBoxModel",
     "state": {
      "_dom_classes": [],
      "_model_module": "@jupyter-widgets/controls",
      "_model_module_version": "1.5.0",
      "_model_name": "HBoxModel",
      "_view_count": null,
      "_view_module": "@jupyter-widgets/controls",
      "_view_module_version": "1.5.0",
      "_view_name": "HBoxView",
      "box_style": "",
      "children": [
       "IPY_MODEL_0036b25ff29e4ad1bd7bf381b69f563d",
       "IPY_MODEL_a5303ad3fa02405689465fafe841f695",
       "IPY_MODEL_383e79e1168e4ca7bcbc24d9386e3c75"
      ],
      "layout": "IPY_MODEL_47ad1485c645477ab80a225b67ff345c"
     }
    },
    "12fcbef0c358431fac3484eafac85d1e": {
     "model_module": "@jupyter-widgets/controls",
     "model_module_version": "1.5.0",
     "model_name": "FloatProgressModel",
     "state": {
      "_dom_classes": [],
      "_model_module": "@jupyter-widgets/controls",
      "_model_module_version": "1.5.0",
      "_model_name": "FloatProgressModel",
      "_view_count": null,
      "_view_module": "@jupyter-widgets/controls",
      "_view_module_version": "1.5.0",
      "_view_name": "ProgressView",
      "bar_style": "success",
      "description": "",
      "description_tooltip": null,
      "layout": "IPY_MODEL_838a51cd92a24f3e9e44f8b53e296e00",
      "max": 466062,
      "min": 0,
      "orientation": "horizontal",
      "style": "IPY_MODEL_70497a0263c949ebb996ade77f19105f",
      "value": 466062
     }
    },
    "1d75c26366e94e1f9f235d214edcf53b": {
     "model_module": "@jupyter-widgets/controls",
     "model_module_version": "1.5.0",
     "model_name": "HTMLModel",
     "state": {
      "_dom_classes": [],
      "_model_module": "@jupyter-widgets/controls",
      "_model_module_version": "1.5.0",
      "_model_name": "HTMLModel",
      "_view_count": null,
      "_view_module": "@jupyter-widgets/controls",
      "_view_module_version": "1.5.0",
      "_view_name": "HTMLView",
      "description": "",
      "description_tooltip": null,
      "layout": "IPY_MODEL_abbe372b9fcc45289a22dbd65884508f",
      "placeholder": "​",
      "style": "IPY_MODEL_9a0febd2940f4df1bf79242967767c2f",
      "value": "tokenizer_config.json: 100%"
     }
    },
    "20fe6b0596c644b8a284a2bf838b26ef": {
     "model_module": "@jupyter-widgets/controls",
     "model_module_version": "1.5.0",
     "model_name": "ProgressStyleModel",
     "state": {
      "_model_module": "@jupyter-widgets/controls",
      "_model_module_version": "1.5.0",
      "_model_name": "ProgressStyleModel",
      "_view_count": null,
      "_view_module": "@jupyter-widgets/base",
      "_view_module_version": "1.2.0",
      "_view_name": "StyleView",
      "bar_color": null,
      "description_width": ""
     }
    },
    "2b1c46bc5afe41ffb90bf20157cf26cf": {
     "model_module": "@jupyter-widgets/controls",
     "model_module_version": "1.5.0",
     "model_name": "DescriptionStyleModel",
     "state": {
      "_model_module": "@jupyter-widgets/controls",
      "_model_module_version": "1.5.0",
      "_model_name": "DescriptionStyleModel",
      "_view_count": null,
      "_view_module": "@jupyter-widgets/base",
      "_view_module_version": "1.2.0",
      "_view_name": "StyleView",
      "description_width": ""
     }
    },
    "383e79e1168e4ca7bcbc24d9386e3c75": {
     "model_module": "@jupyter-widgets/controls",
     "model_module_version": "1.5.0",
     "model_name": "HTMLModel",
     "state": {
      "_dom_classes": [],
      "_model_module": "@jupyter-widgets/controls",
      "_model_module_version": "1.5.0",
      "_model_name": "HTMLModel",
      "_view_count": null,
      "_view_module": "@jupyter-widgets/controls",
      "_view_module_version": "1.5.0",
      "_view_name": "HTMLView",
      "description": "",
      "description_tooltip": null,
      "layout": "IPY_MODEL_4d5cfe13a9a24a90817a07453aae1f12",
      "placeholder": "​",
      "style": "IPY_MODEL_92f92cfae3834edf80bd4622cdfab58f",
      "value": " 232k/232k [00:00&lt;00:00, 5.65MB/s]"
     }
    },
    "3fa86d613e7640d9b35ff8d3ab3dc325": {
     "model_module": "@jupyter-widgets/controls",
     "model_module_version": "1.5.0",
     "model_name": "HTMLModel",
     "state": {
      "_dom_classes": [],
      "_model_module": "@jupyter-widgets/controls",
      "_model_module_version": "1.5.0",
      "_model_name": "HTMLModel",
      "_view_count": null,
      "_view_module": "@jupyter-widgets/controls",
      "_view_module_version": "1.5.0",
      "_view_name": "HTMLView",
      "description": "",
      "description_tooltip": null,
      "layout": "IPY_MODEL_56e658d2759c45c1a090dff03528437d",
      "placeholder": "​",
      "style": "IPY_MODEL_2b1c46bc5afe41ffb90bf20157cf26cf",
      "value": " 466k/466k [00:00&lt;00:00, 10.2MB/s]"
     }
    },
    "47ad1485c645477ab80a225b67ff345c": {
     "model_module": "@jupyter-widgets/base",
     "model_module_version": "1.2.0",
     "model_name": "LayoutModel",
     "state": {
      "_model_module": "@jupyter-widgets/base",
      "_model_module_version": "1.2.0",
      "_model_name": "LayoutModel",
      "_view_count": null,
      "_view_module": "@jupyter-widgets/base",
      "_view_module_version": "1.2.0",
      "_view_name": "LayoutView",
      "align_content": null,
      "align_items": null,
      "align_self": null,
      "border": null,
      "bottom": null,
      "display": null,
      "flex": null,
      "flex_flow": null,
      "grid_area": null,
      "grid_auto_columns": null,
      "grid_auto_flow": null,
      "grid_auto_rows": null,
      "grid_column": null,
      "grid_gap": null,
      "grid_row": null,
      "grid_template_areas": null,
      "grid_template_columns": null,
      "grid_template_rows": null,
      "height": null,
      "justify_content": null,
      "justify_items": null,
      "left": null,
      "margin": null,
      "max_height": null,
      "max_width": null,
      "min_height": null,
      "min_width": null,
      "object_fit": null,
      "object_position": null,
      "order": null,
      "overflow": null,
      "overflow_x": null,
      "overflow_y": null,
      "padding": null,
      "right": null,
      "top": null,
      "visibility": null,
      "width": null
     }
    },
    "47c831a0f10f4b88951cff6ac398ba5b": {
     "model_module": "@jupyter-widgets/controls",
     "model_module_version": "1.5.0",
     "model_name": "DescriptionStyleModel",
     "state": {
      "_model_module": "@jupyter-widgets/controls",
      "_model_module_version": "1.5.0",
      "_model_name": "DescriptionStyleModel",
      "_view_count": null,
      "_view_module": "@jupyter-widgets/base",
      "_view_module_version": "1.2.0",
      "_view_name": "StyleView",
      "description_width": ""
     }
    },
    "4d5cfe13a9a24a90817a07453aae1f12": {
     "model_module": "@jupyter-widgets/base",
     "model_module_version": "1.2.0",
     "model_name": "LayoutModel",
     "state": {
      "_model_module": "@jupyter-widgets/base",
      "_model_module_version": "1.2.0",
      "_model_name": "LayoutModel",
      "_view_count": null,
      "_view_module": "@jupyter-widgets/base",
      "_view_module_version": "1.2.0",
      "_view_name": "LayoutView",
      "align_content": null,
      "align_items": null,
      "align_self": null,
      "border": null,
      "bottom": null,
      "display": null,
      "flex": null,
      "flex_flow": null,
      "grid_area": null,
      "grid_auto_columns": null,
      "grid_auto_flow": null,
      "grid_auto_rows": null,
      "grid_column": null,
      "grid_gap": null,
      "grid_row": null,
      "grid_template_areas": null,
      "grid_template_columns": null,
      "grid_template_rows": null,
      "height": null,
      "justify_content": null,
      "justify_items": null,
      "left": null,
      "margin": null,
      "max_height": null,
      "max_width": null,
      "min_height": null,
      "min_width": null,
      "object_fit": null,
      "object_position": null,
      "order": null,
      "overflow": null,
      "overflow_x": null,
      "overflow_y": null,
      "padding": null,
      "right": null,
      "top": null,
      "visibility": null,
      "width": null
     }
    },
    "51a6d49505be438cbfe8bc129dada6b1": {
     "model_module": "@jupyter-widgets/controls",
     "model_module_version": "1.5.0",
     "model_name": "DescriptionStyleModel",
     "state": {
      "_model_module": "@jupyter-widgets/controls",
      "_model_module_version": "1.5.0",
      "_model_name": "DescriptionStyleModel",
      "_view_count": null,
      "_view_module": "@jupyter-widgets/base",
      "_view_module_version": "1.2.0",
      "_view_name": "StyleView",
      "description_width": ""
     }
    },
    "53ebdba9d5fe4ffc8f36cb887741cd52": {
     "model_module": "@jupyter-widgets/base",
     "model_module_version": "1.2.0",
     "model_name": "LayoutModel",
     "state": {
      "_model_module": "@jupyter-widgets/base",
      "_model_module_version": "1.2.0",
      "_model_name": "LayoutModel",
      "_view_count": null,
      "_view_module": "@jupyter-widgets/base",
      "_view_module_version": "1.2.0",
      "_view_name": "LayoutView",
      "align_content": null,
      "align_items": null,
      "align_self": null,
      "border": null,
      "bottom": null,
      "display": null,
      "flex": null,
      "flex_flow": null,
      "grid_area": null,
      "grid_auto_columns": null,
      "grid_auto_flow": null,
      "grid_auto_rows": null,
      "grid_column": null,
      "grid_gap": null,
      "grid_row": null,
      "grid_template_areas": null,
      "grid_template_columns": null,
      "grid_template_rows": null,
      "height": null,
      "justify_content": null,
      "justify_items": null,
      "left": null,
      "margin": null,
      "max_height": null,
      "max_width": null,
      "min_height": null,
      "min_width": null,
      "object_fit": null,
      "object_position": null,
      "order": null,
      "overflow": null,
      "overflow_x": null,
      "overflow_y": null,
      "padding": null,
      "right": null,
      "top": null,
      "visibility": null,
      "width": null
     }
    },
    "56e658d2759c45c1a090dff03528437d": {
     "model_module": "@jupyter-widgets/base",
     "model_module_version": "1.2.0",
     "model_name": "LayoutModel",
     "state": {
      "_model_module": "@jupyter-widgets/base",
      "_model_module_version": "1.2.0",
      "_model_name": "LayoutModel",
      "_view_count": null,
      "_view_module": "@jupyter-widgets/base",
      "_view_module_version": "1.2.0",
      "_view_name": "LayoutView",
      "align_content": null,
      "align_items": null,
      "align_self": null,
      "border": null,
      "bottom": null,
      "display": null,
      "flex": null,
      "flex_flow": null,
      "grid_area": null,
      "grid_auto_columns": null,
      "grid_auto_flow": null,
      "grid_auto_rows": null,
      "grid_column": null,
      "grid_gap": null,
      "grid_row": null,
      "grid_template_areas": null,
      "grid_template_columns": null,
      "grid_template_rows": null,
      "height": null,
      "justify_content": null,
      "justify_items": null,
      "left": null,
      "margin": null,
      "max_height": null,
      "max_width": null,
      "min_height": null,
      "min_width": null,
      "object_fit": null,
      "object_position": null,
      "order": null,
      "overflow": null,
      "overflow_x": null,
      "overflow_y": null,
      "padding": null,
      "right": null,
      "top": null,
      "visibility": null,
      "width": null
     }
    },
    "57671ee919d2402da48317f81bc82d1d": {
     "model_module": "@jupyter-widgets/controls",
     "model_module_version": "1.5.0",
     "model_name": "HTMLModel",
     "state": {
      "_dom_classes": [],
      "_model_module": "@jupyter-widgets/controls",
      "_model_module_version": "1.5.0",
      "_model_name": "HTMLModel",
      "_view_count": null,
      "_view_module": "@jupyter-widgets/controls",
      "_view_module_version": "1.5.0",
      "_view_name": "HTMLView",
      "description": "",
      "description_tooltip": null,
      "layout": "IPY_MODEL_7b8ee6db88ee4346a826145e1c96ac07",
      "placeholder": "​",
      "style": "IPY_MODEL_9e6d57ab6b7b4b18b47fadad394e9308",
      "value": " 48.0/48.0 [00:00&lt;00:00, 3.78kB/s]"
     }
    },
    "5b0924c4a0134e82a86fe153f3634ed7": {
     "model_module": "@jupyter-widgets/controls",
     "model_module_version": "1.5.0",
     "model_name": "HBoxModel",
     "state": {
      "_dom_classes": [],
      "_model_module": "@jupyter-widgets/controls",
      "_model_module_version": "1.5.0",
      "_model_name": "HBoxModel",
      "_view_count": null,
      "_view_module": "@jupyter-widgets/controls",
      "_view_module_version": "1.5.0",
      "_view_name": "HBoxView",
      "box_style": "",
      "children": [
       "IPY_MODEL_6a92bce751144770b759304733a30412",
       "IPY_MODEL_9083a43ae02649c996ddf0d33170f141",
       "IPY_MODEL_9d177fc93bf14930bac1b945efd631a8"
      ],
      "layout": "IPY_MODEL_72f046dec23e401e9069ed90d4fad7a2"
     }
    },
    "5e49fb7e41694f578692ba2d5bfcc988": {
     "model_module": "@jupyter-widgets/controls",
     "model_module_version": "1.5.0",
     "model_name": "HBoxModel",
     "state": {
      "_dom_classes": [],
      "_model_module": "@jupyter-widgets/controls",
      "_model_module_version": "1.5.0",
      "_model_name": "HBoxModel",
      "_view_count": null,
      "_view_module": "@jupyter-widgets/controls",
      "_view_module_version": "1.5.0",
      "_view_name": "HBoxView",
      "box_style": "",
      "children": [
       "IPY_MODEL_c47079297b9341ac851a3ec167c98997",
       "IPY_MODEL_cc04412a9c074f4f8c3d318b65e3ce93",
       "IPY_MODEL_f4a7246dad85456bb7540ab81cd99feb"
      ],
      "layout": "IPY_MODEL_53ebdba9d5fe4ffc8f36cb887741cd52"
     }
    },
    "5ea789e916554ec8a38eca35d4371f12": {
     "model_module": "@jupyter-widgets/base",
     "model_module_version": "1.2.0",
     "model_name": "LayoutModel",
     "state": {
      "_model_module": "@jupyter-widgets/base",
      "_model_module_version": "1.2.0",
      "_model_name": "LayoutModel",
      "_view_count": null,
      "_view_module": "@jupyter-widgets/base",
      "_view_module_version": "1.2.0",
      "_view_name": "LayoutView",
      "align_content": null,
      "align_items": null,
      "align_self": null,
      "border": null,
      "bottom": null,
      "display": null,
      "flex": null,
      "flex_flow": null,
      "grid_area": null,
      "grid_auto_columns": null,
      "grid_auto_flow": null,
      "grid_auto_rows": null,
      "grid_column": null,
      "grid_gap": null,
      "grid_row": null,
      "grid_template_areas": null,
      "grid_template_columns": null,
      "grid_template_rows": null,
      "height": null,
      "justify_content": null,
      "justify_items": null,
      "left": null,
      "margin": null,
      "max_height": null,
      "max_width": null,
      "min_height": null,
      "min_width": null,
      "object_fit": null,
      "object_position": null,
      "order": null,
      "overflow": null,
      "overflow_x": null,
      "overflow_y": null,
      "padding": null,
      "right": null,
      "top": null,
      "visibility": null,
      "width": null
     }
    },
    "6808df2bf9d54ca499afd66f61826751": {
     "model_module": "@jupyter-widgets/controls",
     "model_module_version": "1.5.0",
     "model_name": "ProgressStyleModel",
     "state": {
      "_model_module": "@jupyter-widgets/controls",
      "_model_module_version": "1.5.0",
      "_model_name": "ProgressStyleModel",
      "_view_count": null,
      "_view_module": "@jupyter-widgets/base",
      "_view_module_version": "1.2.0",
      "_view_name": "StyleView",
      "bar_color": null,
      "description_width": ""
     }
    },
    "6a92bce751144770b759304733a30412": {
     "model_module": "@jupyter-widgets/controls",
     "model_module_version": "1.5.0",
     "model_name": "HTMLModel",
     "state": {
      "_dom_classes": [],
      "_model_module": "@jupyter-widgets/controls",
      "_model_module_version": "1.5.0",
      "_model_name": "HTMLModel",
      "_view_count": null,
      "_view_module": "@jupyter-widgets/controls",
      "_view_module_version": "1.5.0",
      "_view_name": "HTMLView",
      "description": "",
      "description_tooltip": null,
      "layout": "IPY_MODEL_87610ffe97804aa8b7afc6285783bd53",
      "placeholder": "​",
      "style": "IPY_MODEL_8b0f8807021f49c59d241679dcba5e0b",
      "value": "config.json: 100%"
     }
    },
    "70497a0263c949ebb996ade77f19105f": {
     "model_module": "@jupyter-widgets/controls",
     "model_module_version": "1.5.0",
     "model_name": "ProgressStyleModel",
     "state": {
      "_model_module": "@jupyter-widgets/controls",
      "_model_module_version": "1.5.0",
      "_model_name": "ProgressStyleModel",
      "_view_count": null,
      "_view_module": "@jupyter-widgets/base",
      "_view_module_version": "1.2.0",
      "_view_name": "StyleView",
      "bar_color": null,
      "description_width": ""
     }
    },
    "7058d69473c74156904fc699c660290c": {
     "model_module": "@jupyter-widgets/base",
     "model_module_version": "1.2.0",
     "model_name": "LayoutModel",
     "state": {
      "_model_module": "@jupyter-widgets/base",
      "_model_module_version": "1.2.0",
      "_model_name": "LayoutModel",
      "_view_count": null,
      "_view_module": "@jupyter-widgets/base",
      "_view_module_version": "1.2.0",
      "_view_name": "LayoutView",
      "align_content": null,
      "align_items": null,
      "align_self": null,
      "border": null,
      "bottom": null,
      "display": null,
      "flex": null,
      "flex_flow": null,
      "grid_area": null,
      "grid_auto_columns": null,
      "grid_auto_flow": null,
      "grid_auto_rows": null,
      "grid_column": null,
      "grid_gap": null,
      "grid_row": null,
      "grid_template_areas": null,
      "grid_template_columns": null,
      "grid_template_rows": null,
      "height": null,
      "justify_content": null,
      "justify_items": null,
      "left": null,
      "margin": null,
      "max_height": null,
      "max_width": null,
      "min_height": null,
      "min_width": null,
      "object_fit": null,
      "object_position": null,
      "order": null,
      "overflow": null,
      "overflow_x": null,
      "overflow_y": null,
      "padding": null,
      "right": null,
      "top": null,
      "visibility": null,
      "width": null
     }
    },
    "728d399a45f54703837229c174d5419e": {
     "model_module": "@jupyter-widgets/base",
     "model_module_version": "1.2.0",
     "model_name": "LayoutModel",
     "state": {
      "_model_module": "@jupyter-widgets/base",
      "_model_module_version": "1.2.0",
      "_model_name": "LayoutModel",
      "_view_count": null,
      "_view_module": "@jupyter-widgets/base",
      "_view_module_version": "1.2.0",
      "_view_name": "LayoutView",
      "align_content": null,
      "align_items": null,
      "align_self": null,
      "border": null,
      "bottom": null,
      "display": null,
      "flex": null,
      "flex_flow": null,
      "grid_area": null,
      "grid_auto_columns": null,
      "grid_auto_flow": null,
      "grid_auto_rows": null,
      "grid_column": null,
      "grid_gap": null,
      "grid_row": null,
      "grid_template_areas": null,
      "grid_template_columns": null,
      "grid_template_rows": null,
      "height": null,
      "justify_content": null,
      "justify_items": null,
      "left": null,
      "margin": null,
      "max_height": null,
      "max_width": null,
      "min_height": null,
      "min_width": null,
      "object_fit": null,
      "object_position": null,
      "order": null,
      "overflow": null,
      "overflow_x": null,
      "overflow_y": null,
      "padding": null,
      "right": null,
      "top": null,
      "visibility": null,
      "width": null
     }
    },
    "72f046dec23e401e9069ed90d4fad7a2": {
     "model_module": "@jupyter-widgets/base",
     "model_module_version": "1.2.0",
     "model_name": "LayoutModel",
     "state": {
      "_model_module": "@jupyter-widgets/base",
      "_model_module_version": "1.2.0",
      "_model_name": "LayoutModel",
      "_view_count": null,
      "_view_module": "@jupyter-widgets/base",
      "_view_module_version": "1.2.0",
      "_view_name": "LayoutView",
      "align_content": null,
      "align_items": null,
      "align_self": null,
      "border": null,
      "bottom": null,
      "display": null,
      "flex": null,
      "flex_flow": null,
      "grid_area": null,
      "grid_auto_columns": null,
      "grid_auto_flow": null,
      "grid_auto_rows": null,
      "grid_column": null,
      "grid_gap": null,
      "grid_row": null,
      "grid_template_areas": null,
      "grid_template_columns": null,
      "grid_template_rows": null,
      "height": null,
      "justify_content": null,
      "justify_items": null,
      "left": null,
      "margin": null,
      "max_height": null,
      "max_width": null,
      "min_height": null,
      "min_width": null,
      "object_fit": null,
      "object_position": null,
      "order": null,
      "overflow": null,
      "overflow_x": null,
      "overflow_y": null,
      "padding": null,
      "right": null,
      "top": null,
      "visibility": null,
      "width": null
     }
    },
    "77d6178f00e5424b8f597dc3ae5750b0": {
     "model_module": "@jupyter-widgets/base",
     "model_module_version": "1.2.0",
     "model_name": "LayoutModel",
     "state": {
      "_model_module": "@jupyter-widgets/base",
      "_model_module_version": "1.2.0",
      "_model_name": "LayoutModel",
      "_view_count": null,
      "_view_module": "@jupyter-widgets/base",
      "_view_module_version": "1.2.0",
      "_view_name": "LayoutView",
      "align_content": null,
      "align_items": null,
      "align_self": null,
      "border": null,
      "bottom": null,
      "display": null,
      "flex": null,
      "flex_flow": null,
      "grid_area": null,
      "grid_auto_columns": null,
      "grid_auto_flow": null,
      "grid_auto_rows": null,
      "grid_column": null,
      "grid_gap": null,
      "grid_row": null,
      "grid_template_areas": null,
      "grid_template_columns": null,
      "grid_template_rows": null,
      "height": null,
      "justify_content": null,
      "justify_items": null,
      "left": null,
      "margin": null,
      "max_height": null,
      "max_width": null,
      "min_height": null,
      "min_width": null,
      "object_fit": null,
      "object_position": null,
      "order": null,
      "overflow": null,
      "overflow_x": null,
      "overflow_y": null,
      "padding": null,
      "right": null,
      "top": null,
      "visibility": null,
      "width": null
     }
    },
    "78dfbe755b7243fea96f86224f28c479": {
     "model_module": "@jupyter-widgets/controls",
     "model_module_version": "1.5.0",
     "model_name": "DescriptionStyleModel",
     "state": {
      "_model_module": "@jupyter-widgets/controls",
      "_model_module_version": "1.5.0",
      "_model_name": "DescriptionStyleModel",
      "_view_count": null,
      "_view_module": "@jupyter-widgets/base",
      "_view_module_version": "1.2.0",
      "_view_name": "StyleView",
      "description_width": ""
     }
    },
    "7b8ee6db88ee4346a826145e1c96ac07": {
     "model_module": "@jupyter-widgets/base",
     "model_module_version": "1.2.0",
     "model_name": "LayoutModel",
     "state": {
      "_model_module": "@jupyter-widgets/base",
      "_model_module_version": "1.2.0",
      "_model_name": "LayoutModel",
      "_view_count": null,
      "_view_module": "@jupyter-widgets/base",
      "_view_module_version": "1.2.0",
      "_view_name": "LayoutView",
      "align_content": null,
      "align_items": null,
      "align_self": null,
      "border": null,
      "bottom": null,
      "display": null,
      "flex": null,
      "flex_flow": null,
      "grid_area": null,
      "grid_auto_columns": null,
      "grid_auto_flow": null,
      "grid_auto_rows": null,
      "grid_column": null,
      "grid_gap": null,
      "grid_row": null,
      "grid_template_areas": null,
      "grid_template_columns": null,
      "grid_template_rows": null,
      "height": null,
      "justify_content": null,
      "justify_items": null,
      "left": null,
      "margin": null,
      "max_height": null,
      "max_width": null,
      "min_height": null,
      "min_width": null,
      "object_fit": null,
      "object_position": null,
      "order": null,
      "overflow": null,
      "overflow_x": null,
      "overflow_y": null,
      "padding": null,
      "right": null,
      "top": null,
      "visibility": null,
      "width": null
     }
    },
    "838a51cd92a24f3e9e44f8b53e296e00": {
     "model_module": "@jupyter-widgets/base",
     "model_module_version": "1.2.0",
     "model_name": "LayoutModel",
     "state": {
      "_model_module": "@jupyter-widgets/base",
      "_model_module_version": "1.2.0",
      "_model_name": "LayoutModel",
      "_view_count": null,
      "_view_module": "@jupyter-widgets/base",
      "_view_module_version": "1.2.0",
      "_view_name": "LayoutView",
      "align_content": null,
      "align_items": null,
      "align_self": null,
      "border": null,
      "bottom": null,
      "display": null,
      "flex": null,
      "flex_flow": null,
      "grid_area": null,
      "grid_auto_columns": null,
      "grid_auto_flow": null,
      "grid_auto_rows": null,
      "grid_column": null,
      "grid_gap": null,
      "grid_row": null,
      "grid_template_areas": null,
      "grid_template_columns": null,
      "grid_template_rows": null,
      "height": null,
      "justify_content": null,
      "justify_items": null,
      "left": null,
      "margin": null,
      "max_height": null,
      "max_width": null,
      "min_height": null,
      "min_width": null,
      "object_fit": null,
      "object_position": null,
      "order": null,
      "overflow": null,
      "overflow_x": null,
      "overflow_y": null,
      "padding": null,
      "right": null,
      "top": null,
      "visibility": null,
      "width": null
     }
    },
    "87610ffe97804aa8b7afc6285783bd53": {
     "model_module": "@jupyter-widgets/base",
     "model_module_version": "1.2.0",
     "model_name": "LayoutModel",
     "state": {
      "_model_module": "@jupyter-widgets/base",
      "_model_module_version": "1.2.0",
      "_model_name": "LayoutModel",
      "_view_count": null,
      "_view_module": "@jupyter-widgets/base",
      "_view_module_version": "1.2.0",
      "_view_name": "LayoutView",
      "align_content": null,
      "align_items": null,
      "align_self": null,
      "border": null,
      "bottom": null,
      "display": null,
      "flex": null,
      "flex_flow": null,
      "grid_area": null,
      "grid_auto_columns": null,
      "grid_auto_flow": null,
      "grid_auto_rows": null,
      "grid_column": null,
      "grid_gap": null,
      "grid_row": null,
      "grid_template_areas": null,
      "grid_template_columns": null,
      "grid_template_rows": null,
      "height": null,
      "justify_content": null,
      "justify_items": null,
      "left": null,
      "margin": null,
      "max_height": null,
      "max_width": null,
      "min_height": null,
      "min_width": null,
      "object_fit": null,
      "object_position": null,
      "order": null,
      "overflow": null,
      "overflow_x": null,
      "overflow_y": null,
      "padding": null,
      "right": null,
      "top": null,
      "visibility": null,
      "width": null
     }
    },
    "8b0f8807021f49c59d241679dcba5e0b": {
     "model_module": "@jupyter-widgets/controls",
     "model_module_version": "1.5.0",
     "model_name": "DescriptionStyleModel",
     "state": {
      "_model_module": "@jupyter-widgets/controls",
      "_model_module_version": "1.5.0",
      "_model_name": "DescriptionStyleModel",
      "_view_count": null,
      "_view_module": "@jupyter-widgets/base",
      "_view_module_version": "1.2.0",
      "_view_name": "StyleView",
      "description_width": ""
     }
    },
    "9083a43ae02649c996ddf0d33170f141": {
     "model_module": "@jupyter-widgets/controls",
     "model_module_version": "1.5.0",
     "model_name": "FloatProgressModel",
     "state": {
      "_dom_classes": [],
      "_model_module": "@jupyter-widgets/controls",
      "_model_module_version": "1.5.0",
      "_model_name": "FloatProgressModel",
      "_view_count": null,
      "_view_module": "@jupyter-widgets/controls",
      "_view_module_version": "1.5.0",
      "_view_name": "ProgressView",
      "bar_style": "success",
      "description": "",
      "description_tooltip": null,
      "layout": "IPY_MODEL_5ea789e916554ec8a38eca35d4371f12",
      "max": 570,
      "min": 0,
      "orientation": "horizontal",
      "style": "IPY_MODEL_6808df2bf9d54ca499afd66f61826751",
      "value": 570
     }
    },
    "92f92cfae3834edf80bd4622cdfab58f": {
     "model_module": "@jupyter-widgets/controls",
     "model_module_version": "1.5.0",
     "model_name": "DescriptionStyleModel",
     "state": {
      "_model_module": "@jupyter-widgets/controls",
      "_model_module_version": "1.5.0",
      "_model_name": "DescriptionStyleModel",
      "_view_count": null,
      "_view_module": "@jupyter-widgets/base",
      "_view_module_version": "1.2.0",
      "_view_name": "StyleView",
      "description_width": ""
     }
    },
    "930b31cbd1044b92bf56b37921d262e1": {
     "model_module": "@jupyter-widgets/controls",
     "model_module_version": "1.5.0",
     "model_name": "ProgressStyleModel",
     "state": {
      "_model_module": "@jupyter-widgets/controls",
      "_model_module_version": "1.5.0",
      "_model_name": "ProgressStyleModel",
      "_view_count": null,
      "_view_module": "@jupyter-widgets/base",
      "_view_module_version": "1.2.0",
      "_view_name": "StyleView",
      "bar_color": null,
      "description_width": ""
     }
    },
    "97d7770084824ac5ade27249eeee814b": {
     "model_module": "@jupyter-widgets/controls",
     "model_module_version": "1.5.0",
     "model_name": "ProgressStyleModel",
     "state": {
      "_model_module": "@jupyter-widgets/controls",
      "_model_module_version": "1.5.0",
      "_model_name": "ProgressStyleModel",
      "_view_count": null,
      "_view_module": "@jupyter-widgets/base",
      "_view_module_version": "1.2.0",
      "_view_name": "StyleView",
      "bar_color": null,
      "description_width": ""
     }
    },
    "9a0febd2940f4df1bf79242967767c2f": {
     "model_module": "@jupyter-widgets/controls",
     "model_module_version": "1.5.0",
     "model_name": "DescriptionStyleModel",
     "state": {
      "_model_module": "@jupyter-widgets/controls",
      "_model_module_version": "1.5.0",
      "_model_name": "DescriptionStyleModel",
      "_view_count": null,
      "_view_module": "@jupyter-widgets/base",
      "_view_module_version": "1.2.0",
      "_view_name": "StyleView",
      "description_width": ""
     }
    },
    "9b9e7276cbdb421d88d322aa85612c3e": {
     "model_module": "@jupyter-widgets/controls",
     "model_module_version": "1.5.0",
     "model_name": "HBoxModel",
     "state": {
      "_dom_classes": [],
      "_model_module": "@jupyter-widgets/controls",
      "_model_module_version": "1.5.0",
      "_model_name": "HBoxModel",
      "_view_count": null,
      "_view_module": "@jupyter-widgets/controls",
      "_view_module_version": "1.5.0",
      "_view_name": "HBoxView",
      "box_style": "",
      "children": [
       "IPY_MODEL_1d75c26366e94e1f9f235d214edcf53b",
       "IPY_MODEL_df05806db30e439898f9e228b639c848",
       "IPY_MODEL_57671ee919d2402da48317f81bc82d1d"
      ],
      "layout": "IPY_MODEL_e9e9b10faca4428b92aa2a1631f3150d"
     }
    },
    "9d177fc93bf14930bac1b945efd631a8": {
     "model_module": "@jupyter-widgets/controls",
     "model_module_version": "1.5.0",
     "model_name": "HTMLModel",
     "state": {
      "_dom_classes": [],
      "_model_module": "@jupyter-widgets/controls",
      "_model_module_version": "1.5.0",
      "_model_name": "HTMLModel",
      "_view_count": null,
      "_view_module": "@jupyter-widgets/controls",
      "_view_module_version": "1.5.0",
      "_view_name": "HTMLView",
      "description": "",
      "description_tooltip": null,
      "layout": "IPY_MODEL_a7ba8dd54054499298a155a118f8f772",
      "placeholder": "​",
      "style": "IPY_MODEL_b4c435428d1948d09c28b883ef171803",
      "value": " 570/570 [00:00&lt;00:00, 51.3kB/s]"
     }
    },
    "9e6d57ab6b7b4b18b47fadad394e9308": {
     "model_module": "@jupyter-widgets/controls",
     "model_module_version": "1.5.0",
     "model_name": "DescriptionStyleModel",
     "state": {
      "_model_module": "@jupyter-widgets/controls",
      "_model_module_version": "1.5.0",
      "_model_name": "DescriptionStyleModel",
      "_view_count": null,
      "_view_module": "@jupyter-widgets/base",
      "_view_module_version": "1.2.0",
      "_view_name": "StyleView",
      "description_width": ""
     }
    },
    "9fdb927e587a484a98d1381529f50014": {
     "model_module": "@jupyter-widgets/controls",
     "model_module_version": "1.5.0",
     "model_name": "HTMLModel",
     "state": {
      "_dom_classes": [],
      "_model_module": "@jupyter-widgets/controls",
      "_model_module_version": "1.5.0",
      "_model_name": "HTMLModel",
      "_view_count": null,
      "_view_module": "@jupyter-widgets/controls",
      "_view_module_version": "1.5.0",
      "_view_name": "HTMLView",
      "description": "",
      "description_tooltip": null,
      "layout": "IPY_MODEL_c19cff11b2344ecfa034a7e53c740f1f",
      "placeholder": "​",
      "style": "IPY_MODEL_e84b8609f6884d968df8a8aca179478f",
      "value": "tokenizer.json: 100%"
     }
    },
    "a5303ad3fa02405689465fafe841f695": {
     "model_module": "@jupyter-widgets/controls",
     "model_module_version": "1.5.0",
     "model_name": "FloatProgressModel",
     "state": {
      "_dom_classes": [],
      "_model_module": "@jupyter-widgets/controls",
      "_model_module_version": "1.5.0",
      "_model_name": "FloatProgressModel",
      "_view_count": null,
      "_view_module": "@jupyter-widgets/controls",
      "_view_module_version": "1.5.0",
      "_view_name": "ProgressView",
      "bar_style": "success",
      "description": "",
      "description_tooltip": null,
      "layout": "IPY_MODEL_d5f89718a2e04ea48a1df90303d98372",
      "max": 231508,
      "min": 0,
      "orientation": "horizontal",
      "style": "IPY_MODEL_97d7770084824ac5ade27249eeee814b",
      "value": 231508
     }
    },
    "a7ba8dd54054499298a155a118f8f772": {
     "model_module": "@jupyter-widgets/base",
     "model_module_version": "1.2.0",
     "model_name": "LayoutModel",
     "state": {
      "_model_module": "@jupyter-widgets/base",
      "_model_module_version": "1.2.0",
      "_model_name": "LayoutModel",
      "_view_count": null,
      "_view_module": "@jupyter-widgets/base",
      "_view_module_version": "1.2.0",
      "_view_name": "LayoutView",
      "align_content": null,
      "align_items": null,
      "align_self": null,
      "border": null,
      "bottom": null,
      "display": null,
      "flex": null,
      "flex_flow": null,
      "grid_area": null,
      "grid_auto_columns": null,
      "grid_auto_flow": null,
      "grid_auto_rows": null,
      "grid_column": null,
      "grid_gap": null,
      "grid_row": null,
      "grid_template_areas": null,
      "grid_template_columns": null,
      "grid_template_rows": null,
      "height": null,
      "justify_content": null,
      "justify_items": null,
      "left": null,
      "margin": null,
      "max_height": null,
      "max_width": null,
      "min_height": null,
      "min_width": null,
      "object_fit": null,
      "object_position": null,
      "order": null,
      "overflow": null,
      "overflow_x": null,
      "overflow_y": null,
      "padding": null,
      "right": null,
      "top": null,
      "visibility": null,
      "width": null
     }
    },
    "abbe372b9fcc45289a22dbd65884508f": {
     "model_module": "@jupyter-widgets/base",
     "model_module_version": "1.2.0",
     "model_name": "LayoutModel",
     "state": {
      "_model_module": "@jupyter-widgets/base",
      "_model_module_version": "1.2.0",
      "_model_name": "LayoutModel",
      "_view_count": null,
      "_view_module": "@jupyter-widgets/base",
      "_view_module_version": "1.2.0",
      "_view_name": "LayoutView",
      "align_content": null,
      "align_items": null,
      "align_self": null,
      "border": null,
      "bottom": null,
      "display": null,
      "flex": null,
      "flex_flow": null,
      "grid_area": null,
      "grid_auto_columns": null,
      "grid_auto_flow": null,
      "grid_auto_rows": null,
      "grid_column": null,
      "grid_gap": null,
      "grid_row": null,
      "grid_template_areas": null,
      "grid_template_columns": null,
      "grid_template_rows": null,
      "height": null,
      "justify_content": null,
      "justify_items": null,
      "left": null,
      "margin": null,
      "max_height": null,
      "max_width": null,
      "min_height": null,
      "min_width": null,
      "object_fit": null,
      "object_position": null,
      "order": null,
      "overflow": null,
      "overflow_x": null,
      "overflow_y": null,
      "padding": null,
      "right": null,
      "top": null,
      "visibility": null,
      "width": null
     }
    },
    "b4c435428d1948d09c28b883ef171803": {
     "model_module": "@jupyter-widgets/controls",
     "model_module_version": "1.5.0",
     "model_name": "DescriptionStyleModel",
     "state": {
      "_model_module": "@jupyter-widgets/controls",
      "_model_module_version": "1.5.0",
      "_model_name": "DescriptionStyleModel",
      "_view_count": null,
      "_view_module": "@jupyter-widgets/base",
      "_view_module_version": "1.2.0",
      "_view_name": "StyleView",
      "description_width": ""
     }
    },
    "b82c5623a91144e39854b1af5b546756": {
     "model_module": "@jupyter-widgets/controls",
     "model_module_version": "1.5.0",
     "model_name": "HBoxModel",
     "state": {
      "_dom_classes": [],
      "_model_module": "@jupyter-widgets/controls",
      "_model_module_version": "1.5.0",
      "_model_name": "HBoxModel",
      "_view_count": null,
      "_view_module": "@jupyter-widgets/controls",
      "_view_module_version": "1.5.0",
      "_view_name": "HBoxView",
      "box_style": "",
      "children": [
       "IPY_MODEL_9fdb927e587a484a98d1381529f50014",
       "IPY_MODEL_12fcbef0c358431fac3484eafac85d1e",
       "IPY_MODEL_3fa86d613e7640d9b35ff8d3ab3dc325"
      ],
      "layout": "IPY_MODEL_728d399a45f54703837229c174d5419e"
     }
    },
    "c19cff11b2344ecfa034a7e53c740f1f": {
     "model_module": "@jupyter-widgets/base",
     "model_module_version": "1.2.0",
     "model_name": "LayoutModel",
     "state": {
      "_model_module": "@jupyter-widgets/base",
      "_model_module_version": "1.2.0",
      "_model_name": "LayoutModel",
      "_view_count": null,
      "_view_module": "@jupyter-widgets/base",
      "_view_module_version": "1.2.0",
      "_view_name": "LayoutView",
      "align_content": null,
      "align_items": null,
      "align_self": null,
      "border": null,
      "bottom": null,
      "display": null,
      "flex": null,
      "flex_flow": null,
      "grid_area": null,
      "grid_auto_columns": null,
      "grid_auto_flow": null,
      "grid_auto_rows": null,
      "grid_column": null,
      "grid_gap": null,
      "grid_row": null,
      "grid_template_areas": null,
      "grid_template_columns": null,
      "grid_template_rows": null,
      "height": null,
      "justify_content": null,
      "justify_items": null,
      "left": null,
      "margin": null,
      "max_height": null,
      "max_width": null,
      "min_height": null,
      "min_width": null,
      "object_fit": null,
      "object_position": null,
      "order": null,
      "overflow": null,
      "overflow_x": null,
      "overflow_y": null,
      "padding": null,
      "right": null,
      "top": null,
      "visibility": null,
      "width": null
     }
    },
    "c47079297b9341ac851a3ec167c98997": {
     "model_module": "@jupyter-widgets/controls",
     "model_module_version": "1.5.0",
     "model_name": "HTMLModel",
     "state": {
      "_dom_classes": [],
      "_model_module": "@jupyter-widgets/controls",
      "_model_module_version": "1.5.0",
      "_model_name": "HTMLModel",
      "_view_count": null,
      "_view_module": "@jupyter-widgets/controls",
      "_view_module_version": "1.5.0",
      "_view_name": "HTMLView",
      "description": "",
      "description_tooltip": null,
      "layout": "IPY_MODEL_db5ac70cc03e4f0a9e84c07ea4507033",
      "placeholder": "​",
      "style": "IPY_MODEL_51a6d49505be438cbfe8bc129dada6b1",
      "value": "model.safetensors: 100%"
     }
    },
    "cc04412a9c074f4f8c3d318b65e3ce93": {
     "model_module": "@jupyter-widgets/controls",
     "model_module_version": "1.5.0",
     "model_name": "FloatProgressModel",
     "state": {
      "_dom_classes": [],
      "_model_module": "@jupyter-widgets/controls",
      "_model_module_version": "1.5.0",
      "_model_name": "FloatProgressModel",
      "_view_count": null,
      "_view_module": "@jupyter-widgets/controls",
      "_view_module_version": "1.5.0",
      "_view_name": "ProgressView",
      "bar_style": "success",
      "description": "",
      "description_tooltip": null,
      "layout": "IPY_MODEL_77d6178f00e5424b8f597dc3ae5750b0",
      "max": 440449768,
      "min": 0,
      "orientation": "horizontal",
      "style": "IPY_MODEL_20fe6b0596c644b8a284a2bf838b26ef",
      "value": 440449768
     }
    },
    "d5f89718a2e04ea48a1df90303d98372": {
     "model_module": "@jupyter-widgets/base",
     "model_module_version": "1.2.0",
     "model_name": "LayoutModel",
     "state": {
      "_model_module": "@jupyter-widgets/base",
      "_model_module_version": "1.2.0",
      "_model_name": "LayoutModel",
      "_view_count": null,
      "_view_module": "@jupyter-widgets/base",
      "_view_module_version": "1.2.0",
      "_view_name": "LayoutView",
      "align_content": null,
      "align_items": null,
      "align_self": null,
      "border": null,
      "bottom": null,
      "display": null,
      "flex": null,
      "flex_flow": null,
      "grid_area": null,
      "grid_auto_columns": null,
      "grid_auto_flow": null,
      "grid_auto_rows": null,
      "grid_column": null,
      "grid_gap": null,
      "grid_row": null,
      "grid_template_areas": null,
      "grid_template_columns": null,
      "grid_template_rows": null,
      "height": null,
      "justify_content": null,
      "justify_items": null,
      "left": null,
      "margin": null,
      "max_height": null,
      "max_width": null,
      "min_height": null,
      "min_width": null,
      "object_fit": null,
      "object_position": null,
      "order": null,
      "overflow": null,
      "overflow_x": null,
      "overflow_y": null,
      "padding": null,
      "right": null,
      "top": null,
      "visibility": null,
      "width": null
     }
    },
    "db5ac70cc03e4f0a9e84c07ea4507033": {
     "model_module": "@jupyter-widgets/base",
     "model_module_version": "1.2.0",
     "model_name": "LayoutModel",
     "state": {
      "_model_module": "@jupyter-widgets/base",
      "_model_module_version": "1.2.0",
      "_model_name": "LayoutModel",
      "_view_count": null,
      "_view_module": "@jupyter-widgets/base",
      "_view_module_version": "1.2.0",
      "_view_name": "LayoutView",
      "align_content": null,
      "align_items": null,
      "align_self": null,
      "border": null,
      "bottom": null,
      "display": null,
      "flex": null,
      "flex_flow": null,
      "grid_area": null,
      "grid_auto_columns": null,
      "grid_auto_flow": null,
      "grid_auto_rows": null,
      "grid_column": null,
      "grid_gap": null,
      "grid_row": null,
      "grid_template_areas": null,
      "grid_template_columns": null,
      "grid_template_rows": null,
      "height": null,
      "justify_content": null,
      "justify_items": null,
      "left": null,
      "margin": null,
      "max_height": null,
      "max_width": null,
      "min_height": null,
      "min_width": null,
      "object_fit": null,
      "object_position": null,
      "order": null,
      "overflow": null,
      "overflow_x": null,
      "overflow_y": null,
      "padding": null,
      "right": null,
      "top": null,
      "visibility": null,
      "width": null
     }
    },
    "dcb669274e544bf989a5df383b5ce34b": {
     "model_module": "@jupyter-widgets/base",
     "model_module_version": "1.2.0",
     "model_name": "LayoutModel",
     "state": {
      "_model_module": "@jupyter-widgets/base",
      "_model_module_version": "1.2.0",
      "_model_name": "LayoutModel",
      "_view_count": null,
      "_view_module": "@jupyter-widgets/base",
      "_view_module_version": "1.2.0",
      "_view_name": "LayoutView",
      "align_content": null,
      "align_items": null,
      "align_self": null,
      "border": null,
      "bottom": null,
      "display": null,
      "flex": null,
      "flex_flow": null,
      "grid_area": null,
      "grid_auto_columns": null,
      "grid_auto_flow": null,
      "grid_auto_rows": null,
      "grid_column": null,
      "grid_gap": null,
      "grid_row": null,
      "grid_template_areas": null,
      "grid_template_columns": null,
      "grid_template_rows": null,
      "height": null,
      "justify_content": null,
      "justify_items": null,
      "left": null,
      "margin": null,
      "max_height": null,
      "max_width": null,
      "min_height": null,
      "min_width": null,
      "object_fit": null,
      "object_position": null,
      "order": null,
      "overflow": null,
      "overflow_x": null,
      "overflow_y": null,
      "padding": null,
      "right": null,
      "top": null,
      "visibility": null,
      "width": null
     }
    },
    "df05806db30e439898f9e228b639c848": {
     "model_module": "@jupyter-widgets/controls",
     "model_module_version": "1.5.0",
     "model_name": "FloatProgressModel",
     "state": {
      "_dom_classes": [],
      "_model_module": "@jupyter-widgets/controls",
      "_model_module_version": "1.5.0",
      "_model_name": "FloatProgressModel",
      "_view_count": null,
      "_view_module": "@jupyter-widgets/controls",
      "_view_module_version": "1.5.0",
      "_view_name": "ProgressView",
      "bar_style": "success",
      "description": "",
      "description_tooltip": null,
      "layout": "IPY_MODEL_7058d69473c74156904fc699c660290c",
      "max": 48,
      "min": 0,
      "orientation": "horizontal",
      "style": "IPY_MODEL_930b31cbd1044b92bf56b37921d262e1",
      "value": 48
     }
    },
    "e84b8609f6884d968df8a8aca179478f": {
     "model_module": "@jupyter-widgets/controls",
     "model_module_version": "1.5.0",
     "model_name": "DescriptionStyleModel",
     "state": {
      "_model_module": "@jupyter-widgets/controls",
      "_model_module_version": "1.5.0",
      "_model_name": "DescriptionStyleModel",
      "_view_count": null,
      "_view_module": "@jupyter-widgets/base",
      "_view_module_version": "1.2.0",
      "_view_name": "StyleView",
      "description_width": ""
     }
    },
    "e9e9b10faca4428b92aa2a1631f3150d": {
     "model_module": "@jupyter-widgets/base",
     "model_module_version": "1.2.0",
     "model_name": "LayoutModel",
     "state": {
      "_model_module": "@jupyter-widgets/base",
      "_model_module_version": "1.2.0",
      "_model_name": "LayoutModel",
      "_view_count": null,
      "_view_module": "@jupyter-widgets/base",
      "_view_module_version": "1.2.0",
      "_view_name": "LayoutView",
      "align_content": null,
      "align_items": null,
      "align_self": null,
      "border": null,
      "bottom": null,
      "display": null,
      "flex": null,
      "flex_flow": null,
      "grid_area": null,
      "grid_auto_columns": null,
      "grid_auto_flow": null,
      "grid_auto_rows": null,
      "grid_column": null,
      "grid_gap": null,
      "grid_row": null,
      "grid_template_areas": null,
      "grid_template_columns": null,
      "grid_template_rows": null,
      "height": null,
      "justify_content": null,
      "justify_items": null,
      "left": null,
      "margin": null,
      "max_height": null,
      "max_width": null,
      "min_height": null,
      "min_width": null,
      "object_fit": null,
      "object_position": null,
      "order": null,
      "overflow": null,
      "overflow_x": null,
      "overflow_y": null,
      "padding": null,
      "right": null,
      "top": null,
      "visibility": null,
      "width": null
     }
    },
    "f32f78f11b4646cebf867af37593a543": {
     "model_module": "@jupyter-widgets/base",
     "model_module_version": "1.2.0",
     "model_name": "LayoutModel",
     "state": {
      "_model_module": "@jupyter-widgets/base",
      "_model_module_version": "1.2.0",
      "_model_name": "LayoutModel",
      "_view_count": null,
      "_view_module": "@jupyter-widgets/base",
      "_view_module_version": "1.2.0",
      "_view_name": "LayoutView",
      "align_content": null,
      "align_items": null,
      "align_self": null,
      "border": null,
      "bottom": null,
      "display": null,
      "flex": null,
      "flex_flow": null,
      "grid_area": null,
      "grid_auto_columns": null,
      "grid_auto_flow": null,
      "grid_auto_rows": null,
      "grid_column": null,
      "grid_gap": null,
      "grid_row": null,
      "grid_template_areas": null,
      "grid_template_columns": null,
      "grid_template_rows": null,
      "height": null,
      "justify_content": null,
      "justify_items": null,
      "left": null,
      "margin": null,
      "max_height": null,
      "max_width": null,
      "min_height": null,
      "min_width": null,
      "object_fit": null,
      "object_position": null,
      "order": null,
      "overflow": null,
      "overflow_x": null,
      "overflow_y": null,
      "padding": null,
      "right": null,
      "top": null,
      "visibility": null,
      "width": null
     }
    },
    "f4a7246dad85456bb7540ab81cd99feb": {
     "model_module": "@jupyter-widgets/controls",
     "model_module_version": "1.5.0",
     "model_name": "HTMLModel",
     "state": {
      "_dom_classes": [],
      "_model_module": "@jupyter-widgets/controls",
      "_model_module_version": "1.5.0",
      "_model_name": "HTMLModel",
      "_view_count": null,
      "_view_module": "@jupyter-widgets/controls",
      "_view_module_version": "1.5.0",
      "_view_name": "HTMLView",
      "description": "",
      "description_tooltip": null,
      "layout": "IPY_MODEL_f32f78f11b4646cebf867af37593a543",
      "placeholder": "​",
      "style": "IPY_MODEL_78dfbe755b7243fea96f86224f28c479",
      "value": " 440M/440M [00:01&lt;00:00, 235MB/s]"
     }
    }
   }
  }
 },
 "nbformat": 4,
 "nbformat_minor": 1
}
